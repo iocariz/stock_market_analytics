{
  "nbformat": 4,
  "nbformat_minor": 0,
  "metadata": {
    "colab": {
      "provenance": [],
      "authorship_tag": "ABX9TyP1FRDk+BejRAni5AIXc6H3",
      "include_colab_link": true
    },
    "kernelspec": {
      "name": "python3",
      "display_name": "Python 3"
    },
    "language_info": {
      "name": "python"
    },
    "widgets": {
      "application/vnd.jupyter.widget-state+json": {
        "6c665bf8478b4a429f959c3370bd7ead": {
          "model_module": "@jupyter-widgets/controls",
          "model_name": "HBoxModel",
          "model_module_version": "1.5.0",
          "state": {
            "_dom_classes": [],
            "_model_module": "@jupyter-widgets/controls",
            "_model_module_version": "1.5.0",
            "_model_name": "HBoxModel",
            "_view_count": null,
            "_view_module": "@jupyter-widgets/controls",
            "_view_module_version": "1.5.0",
            "_view_name": "HBoxView",
            "box_style": "",
            "children": [
              "IPY_MODEL_6b8deda0ae4b4fd7aaff9f5fd350cde6",
              "IPY_MODEL_19762ea98b5e4bf39332c1e6ddc89f59",
              "IPY_MODEL_51e25f2a14f2413cbed15341f4301881"
            ],
            "layout": "IPY_MODEL_679ba9fa06384e5693d1af2c74ffca0e"
          }
        },
        "6b8deda0ae4b4fd7aaff9f5fd350cde6": {
          "model_module": "@jupyter-widgets/controls",
          "model_name": "HTMLModel",
          "model_module_version": "1.5.0",
          "state": {
            "_dom_classes": [],
            "_model_module": "@jupyter-widgets/controls",
            "_model_module_version": "1.5.0",
            "_model_name": "HTMLModel",
            "_view_count": null,
            "_view_module": "@jupyter-widgets/controls",
            "_view_module_version": "1.5.0",
            "_view_name": "HTMLView",
            "description": "",
            "description_tooltip": null,
            "layout": "IPY_MODEL_bf2306796d894dab8493223881464a13",
            "placeholder": "​",
            "style": "IPY_MODEL_45a2148d9d2e41aab7d72af5183773c3",
            "value": "100%"
          }
        },
        "19762ea98b5e4bf39332c1e6ddc89f59": {
          "model_module": "@jupyter-widgets/controls",
          "model_name": "FloatProgressModel",
          "model_module_version": "1.5.0",
          "state": {
            "_dom_classes": [],
            "_model_module": "@jupyter-widgets/controls",
            "_model_module_version": "1.5.0",
            "_model_name": "FloatProgressModel",
            "_view_count": null,
            "_view_module": "@jupyter-widgets/controls",
            "_view_module_version": "1.5.0",
            "_view_name": "ProgressView",
            "bar_style": "success",
            "description": "",
            "description_tooltip": null,
            "layout": "IPY_MODEL_b3b722a0014e438e996212184289c6ea",
            "max": 20,
            "min": 0,
            "orientation": "horizontal",
            "style": "IPY_MODEL_957dd2699ad149e092093bf0f5564ed1",
            "value": 20
          }
        },
        "51e25f2a14f2413cbed15341f4301881": {
          "model_module": "@jupyter-widgets/controls",
          "model_name": "HTMLModel",
          "model_module_version": "1.5.0",
          "state": {
            "_dom_classes": [],
            "_model_module": "@jupyter-widgets/controls",
            "_model_module_version": "1.5.0",
            "_model_name": "HTMLModel",
            "_view_count": null,
            "_view_module": "@jupyter-widgets/controls",
            "_view_module_version": "1.5.0",
            "_view_name": "HTMLView",
            "description": "",
            "description_tooltip": null,
            "layout": "IPY_MODEL_3295b61df05c48798bff138f8dea9306",
            "placeholder": "​",
            "style": "IPY_MODEL_04566290549449c1b3029bf261cf4f3c",
            "value": " 20/20 [08:31&lt;00:00, 39.47s/it]"
          }
        },
        "679ba9fa06384e5693d1af2c74ffca0e": {
          "model_module": "@jupyter-widgets/base",
          "model_name": "LayoutModel",
          "model_module_version": "1.2.0",
          "state": {
            "_model_module": "@jupyter-widgets/base",
            "_model_module_version": "1.2.0",
            "_model_name": "LayoutModel",
            "_view_count": null,
            "_view_module": "@jupyter-widgets/base",
            "_view_module_version": "1.2.0",
            "_view_name": "LayoutView",
            "align_content": null,
            "align_items": null,
            "align_self": null,
            "border": null,
            "bottom": null,
            "display": null,
            "flex": null,
            "flex_flow": null,
            "grid_area": null,
            "grid_auto_columns": null,
            "grid_auto_flow": null,
            "grid_auto_rows": null,
            "grid_column": null,
            "grid_gap": null,
            "grid_row": null,
            "grid_template_areas": null,
            "grid_template_columns": null,
            "grid_template_rows": null,
            "height": null,
            "justify_content": null,
            "justify_items": null,
            "left": null,
            "margin": null,
            "max_height": null,
            "max_width": null,
            "min_height": null,
            "min_width": null,
            "object_fit": null,
            "object_position": null,
            "order": null,
            "overflow": null,
            "overflow_x": null,
            "overflow_y": null,
            "padding": null,
            "right": null,
            "top": null,
            "visibility": null,
            "width": null
          }
        },
        "bf2306796d894dab8493223881464a13": {
          "model_module": "@jupyter-widgets/base",
          "model_name": "LayoutModel",
          "model_module_version": "1.2.0",
          "state": {
            "_model_module": "@jupyter-widgets/base",
            "_model_module_version": "1.2.0",
            "_model_name": "LayoutModel",
            "_view_count": null,
            "_view_module": "@jupyter-widgets/base",
            "_view_module_version": "1.2.0",
            "_view_name": "LayoutView",
            "align_content": null,
            "align_items": null,
            "align_self": null,
            "border": null,
            "bottom": null,
            "display": null,
            "flex": null,
            "flex_flow": null,
            "grid_area": null,
            "grid_auto_columns": null,
            "grid_auto_flow": null,
            "grid_auto_rows": null,
            "grid_column": null,
            "grid_gap": null,
            "grid_row": null,
            "grid_template_areas": null,
            "grid_template_columns": null,
            "grid_template_rows": null,
            "height": null,
            "justify_content": null,
            "justify_items": null,
            "left": null,
            "margin": null,
            "max_height": null,
            "max_width": null,
            "min_height": null,
            "min_width": null,
            "object_fit": null,
            "object_position": null,
            "order": null,
            "overflow": null,
            "overflow_x": null,
            "overflow_y": null,
            "padding": null,
            "right": null,
            "top": null,
            "visibility": null,
            "width": null
          }
        },
        "45a2148d9d2e41aab7d72af5183773c3": {
          "model_module": "@jupyter-widgets/controls",
          "model_name": "DescriptionStyleModel",
          "model_module_version": "1.5.0",
          "state": {
            "_model_module": "@jupyter-widgets/controls",
            "_model_module_version": "1.5.0",
            "_model_name": "DescriptionStyleModel",
            "_view_count": null,
            "_view_module": "@jupyter-widgets/base",
            "_view_module_version": "1.2.0",
            "_view_name": "StyleView",
            "description_width": ""
          }
        },
        "b3b722a0014e438e996212184289c6ea": {
          "model_module": "@jupyter-widgets/base",
          "model_name": "LayoutModel",
          "model_module_version": "1.2.0",
          "state": {
            "_model_module": "@jupyter-widgets/base",
            "_model_module_version": "1.2.0",
            "_model_name": "LayoutModel",
            "_view_count": null,
            "_view_module": "@jupyter-widgets/base",
            "_view_module_version": "1.2.0",
            "_view_name": "LayoutView",
            "align_content": null,
            "align_items": null,
            "align_self": null,
            "border": null,
            "bottom": null,
            "display": null,
            "flex": null,
            "flex_flow": null,
            "grid_area": null,
            "grid_auto_columns": null,
            "grid_auto_flow": null,
            "grid_auto_rows": null,
            "grid_column": null,
            "grid_gap": null,
            "grid_row": null,
            "grid_template_areas": null,
            "grid_template_columns": null,
            "grid_template_rows": null,
            "height": null,
            "justify_content": null,
            "justify_items": null,
            "left": null,
            "margin": null,
            "max_height": null,
            "max_width": null,
            "min_height": null,
            "min_width": null,
            "object_fit": null,
            "object_position": null,
            "order": null,
            "overflow": null,
            "overflow_x": null,
            "overflow_y": null,
            "padding": null,
            "right": null,
            "top": null,
            "visibility": null,
            "width": null
          }
        },
        "957dd2699ad149e092093bf0f5564ed1": {
          "model_module": "@jupyter-widgets/controls",
          "model_name": "ProgressStyleModel",
          "model_module_version": "1.5.0",
          "state": {
            "_model_module": "@jupyter-widgets/controls",
            "_model_module_version": "1.5.0",
            "_model_name": "ProgressStyleModel",
            "_view_count": null,
            "_view_module": "@jupyter-widgets/base",
            "_view_module_version": "1.2.0",
            "_view_name": "StyleView",
            "bar_color": null,
            "description_width": ""
          }
        },
        "3295b61df05c48798bff138f8dea9306": {
          "model_module": "@jupyter-widgets/base",
          "model_name": "LayoutModel",
          "model_module_version": "1.2.0",
          "state": {
            "_model_module": "@jupyter-widgets/base",
            "_model_module_version": "1.2.0",
            "_model_name": "LayoutModel",
            "_view_count": null,
            "_view_module": "@jupyter-widgets/base",
            "_view_module_version": "1.2.0",
            "_view_name": "LayoutView",
            "align_content": null,
            "align_items": null,
            "align_self": null,
            "border": null,
            "bottom": null,
            "display": null,
            "flex": null,
            "flex_flow": null,
            "grid_area": null,
            "grid_auto_columns": null,
            "grid_auto_flow": null,
            "grid_auto_rows": null,
            "grid_column": null,
            "grid_gap": null,
            "grid_row": null,
            "grid_template_areas": null,
            "grid_template_columns": null,
            "grid_template_rows": null,
            "height": null,
            "justify_content": null,
            "justify_items": null,
            "left": null,
            "margin": null,
            "max_height": null,
            "max_width": null,
            "min_height": null,
            "min_width": null,
            "object_fit": null,
            "object_position": null,
            "order": null,
            "overflow": null,
            "overflow_x": null,
            "overflow_y": null,
            "padding": null,
            "right": null,
            "top": null,
            "visibility": null,
            "width": null
          }
        },
        "04566290549449c1b3029bf261cf4f3c": {
          "model_module": "@jupyter-widgets/controls",
          "model_name": "DescriptionStyleModel",
          "model_module_version": "1.5.0",
          "state": {
            "_model_module": "@jupyter-widgets/controls",
            "_model_module_version": "1.5.0",
            "_model_name": "DescriptionStyleModel",
            "_view_count": null,
            "_view_module": "@jupyter-widgets/base",
            "_view_module_version": "1.2.0",
            "_view_name": "StyleView",
            "description_width": ""
          }
        }
      }
    }
  },
  "cells": [
    {
      "cell_type": "markdown",
      "metadata": {
        "id": "view-in-github",
        "colab_type": "text"
      },
      "source": [
        "<a href=\"https://colab.research.google.com/github/iocariz/stock_market_analytics/blob/main/Homework_3.ipynb\" target=\"_parent\"><img src=\"https://colab.research.google.com/assets/colab-badge.svg\" alt=\"Open In Colab\"/></a>"
      ]
    },
    {
      "cell_type": "markdown",
      "source": [
        "# Homework 3\n"
      ],
      "metadata": {
        "id": "r-pBNTPcgK1p"
      }
    },
    {
      "cell_type": "code",
      "source": [
        "import numpy as np\n",
        "import pandas as pd\n",
        "\n",
        "#Fin Data Sources\n",
        "import yfinance as yf\n",
        "import pandas_datareader as pdr\n",
        "\n",
        "#Data viz\n",
        "import plotly.graph_objs as go\n",
        "import plotly.graph_objects as go\n",
        "import plotly.express as px\n",
        "\n",
        "import time\n",
        "from datetime import date\n",
        "\n",
        "# for graphs\n",
        "import matplotlib.pyplot as plt"
      ],
      "metadata": {
        "id": "4sdmzejOgfpL"
      },
      "execution_count": 1,
      "outputs": []
    },
    {
      "cell_type": "markdown",
      "source": [
        "## Question 1 (1 point): Dummies on Month and Week-of-Month\n",
        "\n",
        "Find the ABSOLUTE CORRELATION VALUE of the most correlated dummy <month-week_of_month> with the binary outcome variable is_positive_growth_5d_future?\n",
        "\n",
        "You saw in the correlation analysis and modeling that September and October may be important seasonal months. In this task, we'll go futher and try to generate dummies for Month and Week-of-month (starting from 1). For example, the first week of October should be coded similar to this: 'October_w1'. Once you've generated the new set of variables, find the most correlated (in absolute value) one with is_positive_growth_5d_future and round it to 3 digits after the comma.\n",
        "\n",
        "NOTE: new dummies will be used as features in the next tasks, please leave them in the dataset."
      ],
      "metadata": {
        "id": "QO55JwfAgCGE"
      }
    },
    {
      "cell_type": "code",
      "source": [
        "import os\n",
        "os.getcwd()"
      ],
      "metadata": {
        "colab": {
          "base_uri": "https://localhost:8080/",
          "height": 35
        },
        "id": "egMW31A-gids",
        "outputId": "9ff291cd-bf17-4e0b-8a16-88a8e14a2ce4"
      },
      "execution_count": 2,
      "outputs": [
        {
          "output_type": "execute_result",
          "data": {
            "text/plain": [
              "'/content'"
            ],
            "application/vnd.google.colaboratory.intrinsic+json": {
              "type": "string"
            }
          },
          "metadata": {},
          "execution_count": 2
        }
      ]
    },
    {
      "cell_type": "code",
      "source": [
        "!gdown https://drive.google.com/file/d/1kNWWPi49td0EZhmi6LzNCa2ssC5IUxHP/view?usp=sharing --fuzzy -O /content/"
      ],
      "metadata": {
        "colab": {
          "base_uri": "https://localhost:8080/"
        },
        "id": "efJFG71pgdDs",
        "outputId": "652db695-2142-4fb0-e487-48d4304444c2"
      },
      "execution_count": 3,
      "outputs": [
        {
          "output_type": "stream",
          "name": "stdout",
          "text": [
            "Downloading...\n",
            "From (original): https://drive.google.com/uc?id=1kNWWPi49td0EZhmi6LzNCa2ssC5IUxHP\n",
            "From (redirected): https://drive.google.com/uc?id=1kNWWPi49td0EZhmi6LzNCa2ssC5IUxHP&confirm=t&uuid=d5305108-3b57-43d3-b11b-47e28b859d07\n",
            "To: /content/stocks_df_combined_2024_05_07.parquet.brotli\n",
            "100% 119M/119M [00:01<00:00, 72.5MB/s]\n"
          ]
        }
      ]
    },
    {
      "cell_type": "code",
      "source": [
        "df_full = pd.read_parquet(\"/content/stocks_df_combined_2024_05_07.parquet.brotli\", )\n",
        "df = df_full[df_full.Date>='2000-01-01'].copy()"
      ],
      "metadata": {
        "id": "Z97OpK5ngoqx"
      },
      "execution_count": 10,
      "outputs": []
    },
    {
      "cell_type": "code",
      "source": [
        "OHLCV = ['Open','High','Low','Close','Adj Close_x','Volume']\n",
        "CATEGORICAL = ['Month', 'Weekday', 'Ticker', 'ticker_type']\n",
        "TO_PREDICT = [g for g in df_full.keys() if (g.find('future')>=0)]\n",
        "TO_DROP = ['Year','Date','index_x', 'index_y', 'index', 'Quarter','Adj Close_y'] + CATEGORICAL + OHLCV\n",
        "df['ln_volume'] = df.Volume.apply(lambda x: np.log(x))\n",
        "\n",
        " # manually defined features\n",
        "GROWTH = [g for g in df_full.keys() if (g.find('growth_')==0)&(g.find('future')<0)]\n",
        "CUSTOM_NUMERICAL = ['SMA10', 'SMA20', 'growing_moving_average', 'high_minus_low_relative','volatility', 'ln_volume']\n",
        "TECHNICAL_INDICATORS = ['adx', 'adxr', 'apo', 'aroon_1','aroon_2', 'aroonosc',\n",
        " 'bop', 'cci', 'cmo','dx', 'macd', 'macdsignal', 'macdhist', 'macd_ext',\n",
        " 'macdsignal_ext', 'macdhist_ext', 'macd_fix', 'macdsignal_fix',\n",
        " 'macdhist_fix', 'mfi', 'minus_di', 'mom', 'plus_di', 'dm', 'ppo',\n",
        " 'roc', 'rocp', 'rocr', 'rocr100', 'rsi', 'slowk', 'slowd', 'fastk',\n",
        " 'fastd', 'fastk_rsi', 'fastd_rsi', 'trix', 'ultosc', 'willr',\n",
        " 'ad', 'adosc', 'obv', 'atr', 'natr', 'ht_dcperiod', 'ht_dcphase',\n",
        " 'ht_phasor_inphase', 'ht_phasor_quadrature', 'ht_sine_sine', 'ht_sine_leadsine',\n",
        " 'ht_trendmod', 'avgprice', 'medprice', 'typprice', 'wclprice']\n",
        "TECHNICAL_PATTERNS = [g for g in df_full.keys() if g.find('cdl')>=0]\n",
        "print(f'Technical patterns count = {len(TECHNICAL_PATTERNS)}, examples = {TECHNICAL_PATTERNS[0:5]}')\n",
        "\n",
        "MACRO = ['gdppot_us_yoy', 'gdppot_us_qoq', 'cpi_core_yoy', 'cpi_core_mom', 'FEDFUNDS',\n",
        " 'DGS1', 'DGS5', 'DGS10']\n",
        "NUMERICAL = GROWTH + TECHNICAL_INDICATORS + TECHNICAL_PATTERNS + CUSTOM_NUMERICAL + MACRO"
      ],
      "metadata": {
        "colab": {
          "base_uri": "https://localhost:8080/"
        },
        "id": "a31SGwpDg8tZ",
        "outputId": "98cc72ee-a889-45e2-bc22-8e14908c2ff0"
      },
      "execution_count": 11,
      "outputs": [
        {
          "output_type": "stream",
          "name": "stdout",
          "text": [
            "Technical patterns count = 61, examples = ['cdl2crows', 'cdl3blackrows', 'cdl3inside', 'cdl3linestrike', 'cdl3outside']\n"
          ]
        }
      ]
    },
    {
      "cell_type": "code",
      "source": [
        "df.loc[:,'Month'] = df.Month.dt.strftime('%B')\n",
        "df.loc[:,'Weekday'] = df.Weekday.astype(str)"
      ],
      "metadata": {
        "id": "uTNHliAHhCaO"
      },
      "execution_count": 12,
      "outputs": []
    },
    {
      "cell_type": "code",
      "source": [
        "df['month_wom'] = df.apply(lambda row: f'{row[\"Month\"]}-{(row[\"Date\"].day-1)//7+1}', axis=1)\n",
        "\n",
        "CATEGORICAL.append('month_wom')"
      ],
      "metadata": {
        "id": "94JI2T9chHuM"
      },
      "execution_count": 13,
      "outputs": []
    },
    {
      "cell_type": "code",
      "source": [
        "dummy_variables = pd.get_dummies(df[CATEGORICAL], dtype='int32')\n",
        "\n",
        "DUMMIES = dummy_variables.columns\n",
        "df_with_dummies = pd.concat([df, dummy_variables], axis=1)\n",
        "df_with_corr = df_with_dummies[DUMMIES].corrwith(df['is_positive_growth_5d_future'])\n",
        "df_with_corr.apply(np.abs).sort_values(ascending=False)\n",
        "\n",
        "print(f'The highest value is {df_with_corr.apply(np.abs).sort_values(ascending=False).iloc[0]} for {df_with_corr.apply(np.abs).sort_values(ascending=False).index[0]}')"
      ],
      "metadata": {
        "colab": {
          "base_uri": "https://localhost:8080/"
        },
        "id": "HXGMklhmhL4q",
        "outputId": "698b67a5-b2da-49a3-9bc4-c8b164d4fd99"
      },
      "execution_count": 14,
      "outputs": [
        {
          "output_type": "stream",
          "name": "stdout",
          "text": [
            "The highest value is 0.03453687650579432 for month_wom_September-3\n"
          ]
        }
      ]
    },
    {
      "cell_type": "markdown",
      "source": [
        "## Question 2 (2 points): Define new \"hand\" rules on macro and technical indicators variables\n",
        "What is the precision score for the best of the NEW predictions (pred3 or pred4), rounded to 3 digits after the comma?\n",
        "\n",
        "Let's utilize the knowledge from the visualised tree (clf10) (Code Snippet 5: 1.4.4 Visualisation):\n",
        "\n",
        "You're asked to define two new 'hand' rules (leading to 'positive' subtrees):\n",
        "\n",
        "pred3_manual_gdp_fastd: (gdppot_us_yoy <= 0.027) & (fastd >= 0.251) pred4_manual_gdp_wti_oil: (gdppot_us_yoy >= 0.027) & (growth_wti_oil_30d <= 1.005) Extend the Code Snippet 3 (Manual \"hand rule\" predictions): Calculate and add new rules (pred3 and pred4) to the dataframe.You should notice that one of the predictions doesn't have any positive predictions on TEST dataset (while it has many on TRAIN+VALIDATION).\n",
        "\n",
        "Debug: check in the new_df and the original dataset/data generation process that we didn't make any mistakes during the data transformation step.\n",
        "\n",
        "Explain why this can happen even if there are no errors in the data features.\n",
        "\n",
        "As a result, write down the precision score for the remaining predictor (round to three decimal points). E.g. if you have 0.57897, your answer should be 0.579."
      ],
      "metadata": {
        "id": "spg55b_7hwMY"
      }
    },
    {
      "cell_type": "code",
      "source": [
        "def temporal_split(df, min_date, max_date, train_prop=0.7, val_prop=0.15, test_prop=0.15):\n",
        "    \"\"\"\n",
        "    Splits a DataFrame into three buckets based on the temporal order of the 'Date' column.\n",
        "\n",
        "    Args:\n",
        "        df (DataFrame): The DataFrame to split.\n",
        "        min_date (str or Timestamp): Minimum date in the DataFrame.\n",
        "        max_date (str or Timestamp): Maximum date in the DataFrame.\n",
        "        train_prop (float): Proportion of data for training set (default: 0.6).\n",
        "        val_prop (float): Proportion of data for validation set (default: 0.2).\n",
        "        test_prop (float): Proportion of data for test set (default: 0.2).\n",
        "\n",
        "    Returns:\n",
        "        DataFrame: The input DataFrame with a new column 'split' indicating the split for each row.\n",
        "    \"\"\"\n",
        "    # Define the date intervals\n",
        "    train_end = min_date + pd.Timedelta(days=(max_date - min_date).days * train_prop)\n",
        "    val_end = train_end + pd.Timedelta(days=(max_date - min_date).days * val_prop)\n",
        "\n",
        "    # Assign split labels based on date ranges\n",
        "    split_labels = []\n",
        "    for date in df['Date']:\n",
        "        if date <= train_end:\n",
        "            split_labels.append('train')\n",
        "        elif date <= val_end:\n",
        "            split_labels.append('validation')\n",
        "        else:\n",
        "            split_labels.append('test')\n",
        "\n",
        "    # Add 'split' column to the DataFrame\n",
        "    df['split'] = split_labels\n",
        "\n",
        "    return df\n",
        "\n",
        "min_date_df = df_with_dummies.Date.min()\n",
        "max_date_df = df_with_dummies.Date.max()\n",
        "\n",
        "df_with_dummies = temporal_split(df_with_dummies,\n",
        "                                 min_date = min_date_df,\n",
        "                                 max_date = max_date_df)"
      ],
      "metadata": {
        "id": "Ul8zwoTChQPz"
      },
      "execution_count": 15,
      "outputs": []
    },
    {
      "cell_type": "code",
      "source": [
        "new_df = df_with_dummies.copy()\n",
        "new_df['pred0_manual_cci'] = (new_df.cci>200).astype(int)\n",
        "new_df['pred1_manual_prev_g1'] = (new_df.growth_1d>1).astype(int)\n",
        "new_df['pred2_manual_prev_g1_and_snp'] = ((new_df['growth_1d'] > 1) & (new_df['growth_snp500_1d'] > 1)).astype(int)\n",
        "new_df['pred3_manual_gdp_fastd'] = ((new_df['gdppot_us_yoy'] <= 0.027) & (new_df['fastd'] >= 0.251)).astype(int)\n",
        "new_df['pred4_manual_gdp_wti_oil']=((new_df['gdppot_us_yoy']>=0.027) & (new_df['growth_wti_oil_30d'] <= 1.005)).astype(int)\n",
        "rule_thumb_prediction = new_df[new_df[\"split\"] == 'test'][['pred4_manual_gdp_wti_oil', 'pred3_manual_gdp_fastd', 'is_positive_growth_5d_future']]\n",
        "\n",
        "print(f'Accuracy {round((rule_thumb_prediction[\"pred3_manual_gdp_fastd\"]==rule_thumb_prediction[\"is_positive_growth_5d_future\"]).sum()/len(rule_thumb_prediction),3)}')"
      ],
      "metadata": {
        "colab": {
          "base_uri": "https://localhost:8080/"
        },
        "id": "FzaRsfctjN1N",
        "outputId": "97b29b1a-8492-4c72-b6ab-c9e60374d341"
      },
      "execution_count": 16,
      "outputs": [
        {
          "output_type": "stream",
          "name": "stdout",
          "text": [
            "Accuracy 0.555\n"
          ]
        }
      ]
    },
    {
      "cell_type": "markdown",
      "source": [
        "**Question 3 (1 point): Unique correct predictions from a 10-levels deep Decision Tree Classifier (pred5_clf_10)**\n",
        "What is the total number of records in the TEST dataset when the new prediction pred5_clf_10 is better than all 'hand' rules (pred0..pred4)?\n",
        "NOTE: please include random_state=42 to Decision Tree Classifier init function (line clf = DecisionTreeClassifier(max_depth=max_depth, random_state=42)) to ensure everyone gets the same results.\n",
        "\n",
        "Suggested solution:\n",
        "\n",
        "Step1: Rewrite the '1.4.3 Inference for a decision tree' piece for the Decision Tree Classifier with max_depth=10 (clf_10), so that you fit the model on TRAIN+VALIDATION sets (unchanged from the lecture), but predict on the whole set X_all (to be able to define a new column 'pred5_clf_10' in the dataframe new_df). Here is the link with explanation. It will solve the problem in 1.4.5 when predictions were made only for Test dataset and couldn't be easily joined with the full dataset.\n",
        "\n",
        "Step2: Once you have it, define a new column 'only_pred5_is_correct' similar to 'hand' prediction rules with several conditions: is_positive_growth_5d_future AND is_correct_pred5 should be equal 1, while all other predictions is_correct_pred0..is_correct_pred4 should be equal to 0.\n",
        "\n",
        "Step3: Convert 'only_pred5_is_correct' column from bool to int, and find how many times it is equal to 1 in the TEST set. Write down this as an answer.\n",
        "\n",
        "ADVANCED: define a function that can be applied to the whole row of predictions (a few examples of pandas-apply-row-functions) and can find whether some prediction 'predX' (where X is one of the predictions) is uniquely correct. It should work even if there are 100 predictions available, so that you don't define manually the condition for 'predX'."
      ],
      "metadata": {
        "id": "ZheGYTn9jz5w"
      }
    },
    {
      "cell_type": "code",
      "source": [
        "from sklearn.impute import SimpleImputer\n",
        "from sklearn.tree import DecisionTreeClassifier\n",
        "from sklearn.metrics import accuracy_score\n",
        "from sklearn.metrics import precision_score"
      ],
      "metadata": {
        "id": "PtS3IlNhnOjv"
      },
      "execution_count": 41,
      "outputs": []
    },
    {
      "cell_type": "code",
      "source": [
        "import numpy as np\n",
        "from sklearn.tree import DecisionTreeClassifier\n",
        "from sklearn.metrics import precision_score\n",
        "\n",
        "def remove_infinite_values(X):\n",
        "    \"\"\"\n",
        "    Remove infinite values from the input array.\n",
        "\n",
        "    Parameters:\n",
        "    - X: Input array (NumPy array or array-like)\n",
        "\n",
        "    Returns:\n",
        "    - Array with infinite values removed\n",
        "    \"\"\"\n",
        "    return X[np.isfinite(X).all(axis=1)]\n",
        "\n",
        "# Example usage:\n",
        "# Assuming X is your input data"
      ],
      "metadata": {
        "id": "O0PO8rRljSWb"
      },
      "execution_count": 42,
      "outputs": []
    },
    {
      "cell_type": "code",
      "source": [
        "# Split the data into training and testing sets based on the split date\n",
        "features_list = NUMERICAL+DUMMIES.to_list()\n",
        "to_predict = 'is_positive_growth_5d_future'\n",
        "\n",
        "train_df = new_df[new_df.split.isin(['train','validation'])].copy(deep=True)\n",
        "test_df = new_df[new_df.split.isin(['test'])].copy(deep=True)\n",
        "\n",
        "# ONLY numerical Separate features and target variable for training and testing sets\n",
        "# need Date and Ticker later when merging predictions to the dataset\n",
        "X_train = train_df[features_list+[to_predict,'Date','Ticker']]\n",
        "X_test = test_df[features_list+[to_predict,'Date','Ticker']]\n",
        "\n",
        "print(f'length: X_train {X_train.shape},  X_test {X_test.shape}')"
      ],
      "metadata": {
        "colab": {
          "base_uri": "https://localhost:8080/"
        },
        "id": "NMVcPrugj42M",
        "outputId": "107363cb-cec9-427f-dd4d-be26083d9a01"
      },
      "execution_count": 43,
      "outputs": [
        {
          "output_type": "stream",
          "name": "stdout",
          "text": [
            "length: X_train (152846, 302),  X_test (29829, 302)\n"
          ]
        }
      ]
    },
    {
      "cell_type": "code",
      "source": [
        "# Disable SettingWithCopyWarning\n",
        "pd.options.mode.chained_assignment = None  # default='warn'\n",
        "\n",
        "X_train.replace([np.inf, -np.inf], np.nan, inplace=True)\n",
        "X_test.replace([np.inf, -np.inf], np.nan, inplace=True)\n",
        "\n",
        "# Need to fill NaNs somehow\n",
        "X_train.fillna(0, inplace=True)\n",
        "X_test.fillna(0, inplace=True)\n",
        "\n",
        "print(f'length: X_train_imputed {X_train.shape}, X_test_imputed {X_test.shape}')"
      ],
      "metadata": {
        "colab": {
          "base_uri": "https://localhost:8080/"
        },
        "id": "lMoI2Mp5j99J",
        "outputId": "4d9407d3-bb3c-453c-d40e-7d28bbb85c64"
      },
      "execution_count": 44,
      "outputs": [
        {
          "output_type": "stream",
          "name": "stdout",
          "text": [
            "length: X_train_imputed (152846, 302), X_test_imputed (29829, 302)\n"
          ]
        }
      ]
    },
    {
      "cell_type": "code",
      "source": [
        "y_train = X_train[to_predict]\n",
        "y_test = X_test[to_predict]\n",
        "\n",
        "# remove y_train, y_test from X_ dataframes\n",
        "del X_train[to_predict]\n",
        "del X_test[to_predict]"
      ],
      "metadata": {
        "id": "volks37Jlahl"
      },
      "execution_count": 45,
      "outputs": []
    },
    {
      "cell_type": "code",
      "source": [
        "from sklearn.tree import DecisionTreeClassifier\n",
        "from sklearn.metrics import precision_score\n",
        "def fit_decision_tree(X, y, max_depth=20):\n",
        "# Initialize the Decision Tree Classifier\n",
        "  clf = DecisionTreeClassifier(max_depth=max_depth, random_state=42)\n",
        "\n",
        "  # Fit the classifier to the training data\n",
        "  clf.fit(X, y)\n",
        "  return clf, X.columns"
      ],
      "metadata": {
        "id": "9NaKWWsGmiXJ"
      },
      "execution_count": 46,
      "outputs": []
    },
    {
      "cell_type": "code",
      "source": [
        "clf_10, train_columns = fit_decision_tree(X=X_train.drop(['Date','Ticker'],axis=1),\n",
        "                           y=y_train,\n",
        "                           max_depth=10)"
      ],
      "metadata": {
        "id": "2TP8EecwkCgQ"
      },
      "execution_count": 47,
      "outputs": []
    },
    {
      "cell_type": "code",
      "source": [
        "X_train.isna().sum()"
      ],
      "metadata": {
        "colab": {
          "base_uri": "https://localhost:8080/"
        },
        "id": "1jB4xdJcpYX0",
        "outputId": "a7fb36a1-0c95-4c18-b6ae-6c21b059b7d2"
      },
      "execution_count": 49,
      "outputs": [
        {
          "output_type": "execute_result",
          "data": {
            "text/plain": [
              "growth_1d                0\n",
              "growth_3d                0\n",
              "growth_7d                0\n",
              "growth_30d               0\n",
              "growth_90d               0\n",
              "                        ..\n",
              "month_wom_September-3    0\n",
              "month_wom_September-4    0\n",
              "month_wom_September-5    0\n",
              "Date                     0\n",
              "Ticker                   0\n",
              "Length: 301, dtype: int64"
            ]
          },
          "metadata": {},
          "execution_count": 49
        }
      ]
    },
    {
      "cell_type": "code",
      "source": [
        "new_df.fillna(0, inplace=True)"
      ],
      "metadata": {
        "id": "6XLfNjEfqJVU"
      },
      "execution_count": 51,
      "outputs": []
    },
    {
      "cell_type": "code",
      "source": [
        "new_df['pred5_clf10'] = clf_10.predict(new_df[features_list].replace([np.inf, -np.inf], 0))\n",
        "\n",
        "pred_columns = [_pred  for _pred in new_df.columns if 'pred' in _pred]\n",
        "pred_columns.remove( 'pred5_clf10')\n",
        "pred_columns"
      ],
      "metadata": {
        "colab": {
          "base_uri": "https://localhost:8080/"
        },
        "id": "bCjXwb55mY4H",
        "outputId": "0c32d0cc-4a71-4ea6-be6a-6b312b276da0"
      },
      "execution_count": 52,
      "outputs": [
        {
          "output_type": "execute_result",
          "data": {
            "text/plain": [
              "['pred0_manual_cci',\n",
              " 'pred1_manual_prev_g1',\n",
              " 'pred2_manual_prev_g1_and_snp',\n",
              " 'pred3_manual_gdp_fastd',\n",
              " 'pred4_manual_gdp_wti_oil']"
            ]
          },
          "metadata": {},
          "execution_count": 52
        }
      ]
    },
    {
      "cell_type": "code",
      "source": [
        "def only_tree_is_correct(row):\n",
        "    if (row['pred5_clf10']!=1) and (row['is_positive_growth_5d_future']!=1):\n",
        "        return False\n",
        "    for _pred_col in pred_columns:\n",
        "        if row[_pred_col]==1:\n",
        "            return False\n",
        "\n",
        "    return True\n",
        "\n",
        "new_df[new_df.split == 'test'].apply(only_tree_is_correct, axis=1).sum()"
      ],
      "metadata": {
        "colab": {
          "base_uri": "https://localhost:8080/"
        },
        "id": "GiDINAc-kGnk",
        "outputId": "517221f2-f1ad-437b-df6e-6f0451997ebb"
      },
      "execution_count": 53,
      "outputs": [
        {
          "output_type": "execute_result",
          "data": {
            "text/plain": [
              "4"
            ]
          },
          "metadata": {},
          "execution_count": 53
        }
      ]
    },
    {
      "cell_type": "markdown",
      "source": [
        "# Question 4: (2 points) Hyperparameter tuning for a Decision Tree\n",
        "## What is the optimal tree depth (from 1 to 20) for a DecisionTreeClassifier?\n",
        "\n",
        "NOTE: please include random_state=42 to Decision Tree Classifier init function (line clf = DecisionTreeClassifier(max_depth=max_depth, random_state=42)) to ensure consistency in results.\n",
        "\n",
        "Follow these steps to find the optimal max_depth:\n",
        "\n",
        "Iterate through max_depth values from 1 to 20. Train the Decision Tree Classifier with the current max_depth parameter. Optionally, visualize how the 'head' of each fitted tree changes with more advanced (=deep) trees. You can use the sklearn.tree.plot_tree() function, or the compact way with the export_text() functionality (Stack Overflow example):\n",
        "\n",
        "from sklearn.tree import export_text\n",
        "tree_rules = export_text(model, feature_names=list(X_train), max_depth=3)\n",
        "print(tree_rules)\n",
        "Calculate the precision score (you can use the function sklearn.metrics.precision_score()) on the TEST dataset for each of the fitted trees. You can also compare it with the precision score on a VALIDATION dataset, which is included to the training phase (to have more data to train on). You should see that the precision score on a VALIDATION set starts to grow with the complexity of a tree (overfit), which isn't seen on the precision score on TEST. Identify the optimal max_depth, where the precision score is the highest on the TEST dataset. Record this value as best_max_depth and submit as an answer. Make predictions on all records (TRAIN+VALIDATION+TEST) and add the new prediction pred6_clf_best to the dataframe new_df. Additionally, compare the precision score of the tuned decision tree with previous predictions. You should observe an improvement (>0.58, or more than 58% precision), indicating that the tuned tree outperforms previous manual \"hand\" rules and Decision Tree predictions."
      ],
      "metadata": {
        "id": "4V98GswFqj_s"
      }
    },
    {
      "cell_type": "code",
      "source": [
        "from collections import defaultdict\n",
        "trees_result = defaultdict(int)\n",
        "\n",
        "\n",
        "for k in range(6,7):\n",
        "    print(f'Training tree with depth {k}')\n",
        "    clf, train_columns = fit_decision_tree(X=X_train.drop(['Date','Ticker'],axis=1),\n",
        "                           y=y_train,\n",
        "                           max_depth=k)\n",
        "    print(f'Accuracy on test: {precision_score(y_test, clf.predict(X_test.drop(columns=[\"Date\", \"Ticker\"])))}')\n",
        "\n",
        "    trees_result[k] = precision_score(y_test, clf.predict(X_test.drop(columns=[\"Date\", \"Ticker\"])))\n",
        "\n",
        "    y_val = new_df[new_df.split == 'validation'][to_predict]\n",
        "    X_val = new_df[new_df.split == 'validation'][features_list].replace([np.inf, -np.inf], 0)\n",
        "    print(f'Accuracy on validation: {precision_score(y_val, clf.predict(X_val))}')\n"
      ],
      "metadata": {
        "colab": {
          "base_uri": "https://localhost:8080/"
        },
        "id": "CyNexx_XnH-I",
        "outputId": "c9cf4210-fdcf-4f89-a2bf-29c7fee72601"
      },
      "execution_count": 54,
      "outputs": [
        {
          "output_type": "stream",
          "name": "stdout",
          "text": [
            "Training tree with depth 6\n",
            "Accuracy on test: 0.5711735485873952\n",
            "Accuracy on validation: 0.5703184100130665\n"
          ]
        }
      ]
    },
    {
      "cell_type": "code",
      "source": [
        "# Retraining with all futures\n",
        "\n",
        "X = new_df.copy(deep=True)\n",
        "\n",
        "X = X[features_list+[to_predict,'Date','Ticker']]\n",
        "X.replace([np.inf, -np.inf], np.nan, inplace=True)\n",
        "X.fillna(0, inplace=True)\n",
        "y = X[to_predict]\n",
        "del X[to_predict]\n",
        "\n",
        "print(f'Training tree with depth {6}')\n",
        "clf, train_columns = fit_decision_tree(X=X.drop(['Date','Ticker'],axis=1),\n",
        "                        y=y,\n",
        "                        max_depth=6)\n",
        "\n",
        "\n",
        "new_df['pred6_clf'] = clf.predict(new_df[features_list].replace([np.inf, -np.inf], 0))\n",
        "\n",
        "pred_columns = [_pred  for _pred in new_df.columns if 'pred' in _pred]\n",
        "pred_columns.remove( 'pred6_clf')\n",
        "pred_columns"
      ],
      "metadata": {
        "colab": {
          "base_uri": "https://localhost:8080/"
        },
        "id": "sZsxt1iwqr9Y",
        "outputId": "580b3ddd-5aee-4095-b560-64318f109ff6"
      },
      "execution_count": 55,
      "outputs": [
        {
          "output_type": "stream",
          "name": "stdout",
          "text": [
            "Training tree with depth 6\n"
          ]
        },
        {
          "output_type": "execute_result",
          "data": {
            "text/plain": [
              "['pred0_manual_cci',\n",
              " 'pred1_manual_prev_g1',\n",
              " 'pred2_manual_prev_g1_and_snp',\n",
              " 'pred3_manual_gdp_fastd',\n",
              " 'pred4_manual_gdp_wti_oil',\n",
              " 'pred5_clf10']"
            ]
          },
          "metadata": {},
          "execution_count": 55
        }
      ]
    },
    {
      "cell_type": "code",
      "source": [
        "!pip install tqdm"
      ],
      "metadata": {
        "colab": {
          "base_uri": "https://localhost:8080/"
        },
        "id": "-t_r56xAq3uc",
        "outputId": "0f64a501-ff32-43dc-95c8-5b06b6cbec28"
      },
      "execution_count": 56,
      "outputs": [
        {
          "output_type": "stream",
          "name": "stdout",
          "text": [
            "Requirement already satisfied: tqdm in /usr/local/lib/python3.10/dist-packages (4.66.4)\n"
          ]
        }
      ]
    },
    {
      "cell_type": "code",
      "source": [
        "from tqdm.notebook import tqdm\n",
        "\n",
        "DEPTHS = range(1,21)\n",
        "PRECISION = {}\n",
        "\n",
        "for depth in tqdm(DEPTHS):\n",
        "  clf, _ = fit_decision_tree(X_train.drop(['Date','Ticker'],axis=1), y_train, max_depth=depth)\n",
        "  y_pred = clf.predict(X_test.drop(['Date','Ticker'],axis=1))\n",
        "  precision = precision_score(y_test, y_pred)\n",
        "  PRECISION[f'max_depths_{depth}'] = precision"
      ],
      "metadata": {
        "colab": {
          "base_uri": "https://localhost:8080/",
          "height": 49,
          "referenced_widgets": [
            "6c665bf8478b4a429f959c3370bd7ead",
            "6b8deda0ae4b4fd7aaff9f5fd350cde6",
            "19762ea98b5e4bf39332c1e6ddc89f59",
            "51e25f2a14f2413cbed15341f4301881",
            "679ba9fa06384e5693d1af2c74ffca0e",
            "bf2306796d894dab8493223881464a13",
            "45a2148d9d2e41aab7d72af5183773c3",
            "b3b722a0014e438e996212184289c6ea",
            "957dd2699ad149e092093bf0f5564ed1",
            "3295b61df05c48798bff138f8dea9306",
            "04566290549449c1b3029bf261cf4f3c"
          ]
        },
        "id": "1zbt6kBJrO5G",
        "outputId": "cda63104-fdd8-4036-c92f-948e1f0d7c36"
      },
      "execution_count": 66,
      "outputs": [
        {
          "output_type": "display_data",
          "data": {
            "text/plain": [
              "  0%|          | 0/20 [00:00<?, ?it/s]"
            ],
            "application/vnd.jupyter.widget-view+json": {
              "version_major": 2,
              "version_minor": 0,
              "model_id": "6c665bf8478b4a429f959c3370bd7ead"
            }
          },
          "metadata": {}
        }
      ]
    },
    {
      "cell_type": "code",
      "source": [
        "sorted_PRECISION = {k: round(v, 3) for k, v in sorted(PRECISION.items(), key=lambda item: item[1], reverse=True)}\n",
        "sorted_PRECISION"
      ],
      "metadata": {
        "colab": {
          "base_uri": "https://localhost:8080/"
        },
        "id": "5vmpbWGErSYU",
        "outputId": "563e9d89-6124-4ffa-efba-9b28222d5ab3"
      },
      "execution_count": 67,
      "outputs": [
        {
          "output_type": "execute_result",
          "data": {
            "text/plain": [
              "{'max_depths_15': 0.586,\n",
              " 'max_depths_14': 0.584,\n",
              " 'max_depths_17': 0.577,\n",
              " 'max_depths_20': 0.573,\n",
              " 'max_depths_16': 0.572,\n",
              " 'max_depths_12': 0.572,\n",
              " 'max_depths_6': 0.571,\n",
              " 'max_depths_13': 0.571,\n",
              " 'max_depths_9': 0.57,\n",
              " 'max_depths_7': 0.568,\n",
              " 'max_depths_8': 0.568,\n",
              " 'max_depths_18': 0.568,\n",
              " 'max_depths_11': 0.567,\n",
              " 'max_depths_10': 0.565,\n",
              " 'max_depths_19': 0.564,\n",
              " 'max_depths_5': 0.555,\n",
              " 'max_depths_2': 0.555,\n",
              " 'max_depths_4': 0.555,\n",
              " 'max_depths_1': 0.555,\n",
              " 'max_depths_3': 0.555}"
            ]
          },
          "metadata": {},
          "execution_count": 67
        }
      ]
    },
    {
      "cell_type": "code",
      "source": [
        "\n",
        "# import matplot\n",
        "import matplotlib.pyplot as plt"
      ],
      "metadata": {
        "id": "mLop3TqOrTjd"
      },
      "execution_count": 72,
      "outputs": []
    },
    {
      "cell_type": "code",
      "source": [
        "clf_15, _ = fit_decision_tree(X=X_train.drop(['Date','Ticker'],axis=1),\n",
        "                           y=y_train,\n",
        "                           max_depth=15)\n",
        ""
      ],
      "metadata": {
        "id": "HbuzzRM2rV9z"
      },
      "execution_count": 76,
      "outputs": []
    },
    {
      "cell_type": "code",
      "source": [
        "feature_importances = pd.DataFrame(clf_15.feature_importances_,\n",
        "                                   index = X_train.drop(['Date','Ticker'],axis=1).columns,\n",
        "                                   columns=['importance']).sort_values('importance', ascending=False)\n",
        ""
      ],
      "metadata": {
        "id": "MKJINx3FrXhS"
      },
      "execution_count": 78,
      "outputs": []
    },
    {
      "cell_type": "code",
      "source": [
        "\n",
        "plt.figure(figsize=(10, 8))\n",
        "feature_importances.head(20).plot(kind='bar')\n",
        "plt.title(\"Importancia de las características\")\n",
        "plt.show()"
      ],
      "metadata": {
        "colab": {
          "base_uri": "https://localhost:8080/",
          "height": 604
        },
        "id": "cwN2aU2-rbwr",
        "outputId": "cd9b35cb-0074-4614-9233-8848d8d29dad"
      },
      "execution_count": 79,
      "outputs": [
        {
          "output_type": "display_data",
          "data": {
            "text/plain": [
              "<Figure size 1000x800 with 0 Axes>"
            ]
          },
          "metadata": {}
        },
        {
          "output_type": "display_data",
          "data": {
            "text/plain": [
              "<Figure size 640x480 with 1 Axes>"
            ],
            "image/png": "[encoded data removed]"
          },
          "metadata": {}
        }
      ]
    },
    {
      "cell_type": "code",
      "source": [],
      "metadata": {
        "id": "c0jEpEJ3ru4K"
      },
      "execution_count": 79,
      "outputs": []
    }
  ]
}
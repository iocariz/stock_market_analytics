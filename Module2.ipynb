{
  "nbformat": 4,
  "nbformat_minor": 0,
  "metadata": {
    "colab": {
      "provenance": [],
      "authorship_tag": "ABX9TyMD2INfGZlVjQ2UfE5jtz/x",
      "include_colab_link": true
    },
    "kernelspec": {
      "name": "python3",
      "display_name": "Python 3"
    },
    "language_info": {
      "name": "python"
    }
  },
  "cells": [
    {
      "cell_type": "markdown",
      "metadata": {
        "id": "view-in-github",
        "colab_type": "text"
      },
      "source": [
        "<a href=\"https://colab.research.google.com/github/iocariz/stock_market_analytics/blob/main/Module2.ipynb\" target=\"_parent\"><img src=\"https://colab.research.google.com/assets/colab-badge.svg\" alt=\"Open In Colab\"/></a>"
      ]
    },
    {
      "cell_type": "code",
      "execution_count": 1,
      "metadata": {
        "colab": {
          "base_uri": "https://localhost:8080/"
        },
        "id": "PevuIApjgzZB",
        "outputId": "48b9e773-871f-420c-adf2-e145b08b8e5c"
      },
      "outputs": [
        {
          "output_type": "stream",
          "name": "stdout",
          "text": [
            "Requirement already satisfied: yfinance in /usr/local/lib/python3.10/dist-packages (0.2.38)\n",
            "Requirement already satisfied: pandas>=1.3.0 in /usr/local/lib/python3.10/dist-packages (from yfinance) (2.0.3)\n",
            "Requirement already satisfied: numpy>=1.16.5 in /usr/local/lib/python3.10/dist-packages (from yfinance) (1.25.2)\n",
            "Requirement already satisfied: requests>=2.31 in /usr/local/lib/python3.10/dist-packages (from yfinance) (2.31.0)\n",
            "Requirement already satisfied: multitasking>=0.0.7 in /usr/local/lib/python3.10/dist-packages (from yfinance) (0.0.11)\n",
            "Requirement already satisfied: lxml>=4.9.1 in /usr/local/lib/python3.10/dist-packages (from yfinance) (4.9.4)\n",
            "Requirement already satisfied: appdirs>=1.4.4 in /usr/local/lib/python3.10/dist-packages (from yfinance) (1.4.4)\n",
            "Requirement already satisfied: pytz>=2022.5 in /usr/local/lib/python3.10/dist-packages (from yfinance) (2023.4)\n",
            "Requirement already satisfied: frozendict>=2.3.4 in /usr/local/lib/python3.10/dist-packages (from yfinance) (2.4.4)\n",
            "Requirement already satisfied: peewee>=3.16.2 in /usr/local/lib/python3.10/dist-packages (from yfinance) (3.17.3)\n",
            "Requirement already satisfied: beautifulsoup4>=4.11.1 in /usr/local/lib/python3.10/dist-packages (from yfinance) (4.12.3)\n",
            "Requirement already satisfied: html5lib>=1.1 in /usr/local/lib/python3.10/dist-packages (from yfinance) (1.1)\n",
            "Requirement already satisfied: soupsieve>1.2 in /usr/local/lib/python3.10/dist-packages (from beautifulsoup4>=4.11.1->yfinance) (2.5)\n",
            "Requirement already satisfied: six>=1.9 in /usr/local/lib/python3.10/dist-packages (from html5lib>=1.1->yfinance) (1.16.0)\n",
            "Requirement already satisfied: webencodings in /usr/local/lib/python3.10/dist-packages (from html5lib>=1.1->yfinance) (0.5.1)\n",
            "Requirement already satisfied: python-dateutil>=2.8.2 in /usr/local/lib/python3.10/dist-packages (from pandas>=1.3.0->yfinance) (2.8.2)\n",
            "Requirement already satisfied: tzdata>=2022.1 in /usr/local/lib/python3.10/dist-packages (from pandas>=1.3.0->yfinance) (2024.1)\n",
            "Requirement already satisfied: charset-normalizer<4,>=2 in /usr/local/lib/python3.10/dist-packages (from requests>=2.31->yfinance) (3.3.2)\n",
            "Requirement already satisfied: idna<4,>=2.5 in /usr/local/lib/python3.10/dist-packages (from requests>=2.31->yfinance) (3.7)\n",
            "Requirement already satisfied: urllib3<3,>=1.21.1 in /usr/local/lib/python3.10/dist-packages (from requests>=2.31->yfinance) (2.0.7)\n",
            "Requirement already satisfied: certifi>=2017.4.17 in /usr/local/lib/python3.10/dist-packages (from requests>=2.31->yfinance) (2024.2.2)\n"
          ]
        }
      ],
      "source": [
        "!pip install yfinance"
      ]
    },
    {
      "cell_type": "code",
      "source": [
        "# IMPORTS\n",
        "import numpy as np\n",
        "import pandas as pd\n",
        "\n",
        "#Fin Data Sources\n",
        "import yfinance as yf\n",
        "import pandas_datareader as pdr\n",
        "\n",
        "#Data viz\n",
        "import plotly.graph_objs as go\n",
        "import plotly.express as px\n",
        "\n",
        "import time\n",
        "from datetime import date\n",
        "\n",
        "# for graphs\n",
        "import matplotlib.pyplot as plt"
      ],
      "metadata": {
        "id": "_pjsG1sVg1DV"
      },
      "execution_count": 2,
      "outputs": []
    },
    {
      "cell_type": "markdown",
      "source": [
        "**Question 1: IPO Filings Web Scraping and Data Processing**\n",
        "What's the total sum ($m) of 2023 filings that happenned of Fridays?\n",
        "\n",
        "Re-use the [Code Snippet 1] example to get the data from web for this endpoint: https://stockanalysis.com/ipos/filings/\n",
        "\n",
        "Convert the 'Filing Date' to datetime()\n",
        "'Shares Offered' to float64 (if '-' is encountered, populate with NaNs)\n",
        "Define a new field 'Avg_price' based on the \"Price Range\", which equals to NaN if no price is specified, to the price (if only one number is provided), or to the average of 2 prices (if a range is given)You may be inspired by the function extract_numbers() in [Code Snippet 4], or you can write your own function to \"parse\" a string.\n",
        "Define a column \"Shares_offered_value\", which equals to \"Shares Offered\" * \"Avg_price\" (when both columns are defined; otherwise, it's NaN)\n",
        "Find the total sum in $m (millions of USD, closest INTEGER number) for all fillings during 2023, which happened on Fridays (Date.dt.dayofweek()==4). You should see 32 records in total, 24 of it is not null.\n",
        "(additional: you can read about S-1 IPO filing to understand the context)"
      ],
      "metadata": {
        "id": "DoHbdWARhAc9"
      }
    },
    {
      "cell_type": "code",
      "source": [
        "import pandas as pd\n",
        "import requests\n",
        "\n",
        "headers = {\n",
        "    'User-Agent': 'Mozilla/5.0 (Windows NT 10.0; Win64; x64) AppleWebKit/537.36 (KHTML, like Gecko) Chrome/58.0.3029.110 Safari/537.3',\n",
        "}\n",
        "\n",
        "url = \"https://stockanalysis.com/ipos/filings/\"\n",
        "response = requests.get(url, headers=headers)\n",
        "\n",
        "ipo_dfs = pd.read_html(response.text)"
      ],
      "metadata": {
        "id": "lLSj8T-Bg8SV"
      },
      "execution_count": 3,
      "outputs": []
    },
    {
      "cell_type": "code",
      "source": [
        "ipo_fillings = ipo_dfs[0]\n",
        "\n",
        "ipo_fillings.info()\n",
        ""
      ],
      "metadata": {
        "colab": {
          "base_uri": "https://localhost:8080/"
        },
        "id": "1dTkLzQ0hFeI",
        "outputId": "0401fb40-6f9c-4299-b8e7-ca3a25fb8f16"
      },
      "execution_count": 4,
      "outputs": [
        {
          "output_type": "stream",
          "name": "stdout",
          "text": [
            "<class 'pandas.core.frame.DataFrame'>\n",
            "RangeIndex: 326 entries, 0 to 325\n",
            "Data columns (total 5 columns):\n",
            " #   Column          Non-Null Count  Dtype \n",
            "---  ------          --------------  ----- \n",
            " 0   Filing Date     326 non-null    object\n",
            " 1   Symbol          326 non-null    object\n",
            " 2   Company Name    326 non-null    object\n",
            " 3   Price Range     326 non-null    object\n",
            " 4   Shares Offered  326 non-null    object\n",
            "dtypes: object(5)\n",
            "memory usage: 12.9+ KB\n"
          ]
        }
      ]
    },
    {
      "cell_type": "code",
      "source": [
        "ipo_fillings.head()"
      ],
      "metadata": {
        "colab": {
          "base_uri": "https://localhost:8080/",
          "height": 206
        },
        "id": "oLvhl7jUhIiT",
        "outputId": "2791dc4c-3092-46e9-a95b-a2269f4f56b3"
      },
      "execution_count": 5,
      "outputs": [
        {
          "output_type": "execute_result",
          "data": {
            "text/plain": [
              "    Filing Date Symbol                           Company Name Price Range  \\\n",
              "0   May 3, 2024    TBN         Tamboran Resources Corporation           -   \n",
              "1  Apr 29, 2024   HWEC                   HW Electro Co., Ltd.       $3.00   \n",
              "2  Apr 29, 2024   DTSQ  DT Cloud Star Acquisition Corporation      $10.00   \n",
              "3  Apr 26, 2024   EURK                Eureka Acquisition Corp      $10.00   \n",
              "4  Apr 26, 2024    HDL    Super Hi International Holding Ltd.           -   \n",
              "\n",
              "  Shares Offered  \n",
              "0              -  \n",
              "1        3750000  \n",
              "2        6000000  \n",
              "3        5000000  \n",
              "4              -  "
            ],
            "text/html": [
              "\n",
              "  <div id=\"df-9a4acea7-8526-46e7-b481-6a6a400b3169\" class=\"colab-df-container\">\n",
              "    <div>\n",
              "<style scoped>\n",
              "    .dataframe tbody tr th:only-of-type {\n",
              "        vertical-align: middle;\n",
              "    }\n",
              "\n",
              "    .dataframe tbody tr th {\n",
              "        vertical-align: top;\n",
              "    }\n",
              "\n",
              "    .dataframe thead th {\n",
              "        text-align: right;\n",
              "    }\n",
              "</style>\n",
              "<table border=\"1\" class=\"dataframe\">\n",
              "  <thead>\n",
              "    <tr style=\"text-align: right;\">\n",
              "      <th></th>\n",
              "      <th>Filing Date</th>\n",
              "      <th>Symbol</th>\n",
              "      <th>Company Name</th>\n",
              "      <th>Price Range</th>\n",
              "      <th>Shares Offered</th>\n",
              "    </tr>\n",
              "  </thead>\n",
              "  <tbody>\n",
              "    <tr>\n",
              "      <th>0</th>\n",
              "      <td>May 3, 2024</td>\n",
              "      <td>TBN</td>\n",
              "      <td>Tamboran Resources Corporation</td>\n",
              "      <td>-</td>\n",
              "      <td>-</td>\n",
              "    </tr>\n",
              "    <tr>\n",
              "      <th>1</th>\n",
              "      <td>Apr 29, 2024</td>\n",
              "      <td>HWEC</td>\n",
              "      <td>HW Electro Co., Ltd.</td>\n",
              "      <td>$3.00</td>\n",
              "      <td>3750000</td>\n",
              "    </tr>\n",
              "    <tr>\n",
              "      <th>2</th>\n",
              "      <td>Apr 29, 2024</td>\n",
              "      <td>DTSQ</td>\n",
              "      <td>DT Cloud Star Acquisition Corporation</td>\n",
              "      <td>$10.00</td>\n",
              "      <td>6000000</td>\n",
              "    </tr>\n",
              "    <tr>\n",
              "      <th>3</th>\n",
              "      <td>Apr 26, 2024</td>\n",
              "      <td>EURK</td>\n",
              "      <td>Eureka Acquisition Corp</td>\n",
              "      <td>$10.00</td>\n",
              "      <td>5000000</td>\n",
              "    </tr>\n",
              "    <tr>\n",
              "      <th>4</th>\n",
              "      <td>Apr 26, 2024</td>\n",
              "      <td>HDL</td>\n",
              "      <td>Super Hi International Holding Ltd.</td>\n",
              "      <td>-</td>\n",
              "      <td>-</td>\n",
              "    </tr>\n",
              "  </tbody>\n",
              "</table>\n",
              "</div>\n",
              "    <div class=\"colab-df-buttons\">\n",
              "\n",
              "  <div class=\"colab-df-container\">\n",
              "    <button class=\"colab-df-convert\" onclick=\"convertToInteractive('df-9a4acea7-8526-46e7-b481-6a6a400b3169')\"\n",
              "            title=\"Convert this dataframe to an interactive table.\"\n",
              "            style=\"display:none;\">\n",
              "\n",
              "  <svg xmlns=\"http://www.w3.org/2000/svg\" height=\"24px\" viewBox=\"0 -960 960 960\">\n",
              "    <path d=\"M120-120v-720h720v720H120Zm60-500h600v-160H180v160Zm220 220h160v-160H400v160Zm0 220h160v-160H400v160ZM180-400h160v-160H180v160Zm440 0h160v-160H620v160ZM180-180h160v-160H180v160Zm440 0h160v-160H620v160Z\"/>\n",
              "  </svg>\n",
              "    </button>\n",
              "\n",
              "  <style>\n",
              "    .colab-df-container {\n",
              "      display:flex;\n",
              "      gap: 12px;\n",
              "    }\n",
              "\n",
              "    .colab-df-convert {\n",
              "      background-color: #E8F0FE;\n",
              "      border: none;\n",
              "      border-radius: 50%;\n",
              "      cursor: pointer;\n",
              "      display: none;\n",
              "      fill: #1967D2;\n",
              "      height: 32px;\n",
              "      padding: 0 0 0 0;\n",
              "      width: 32px;\n",
              "    }\n",
              "\n",
              "    .colab-df-convert:hover {\n",
              "      background-color: #E2EBFA;\n",
              "      box-shadow: 0px 1px 2px rgba(60, 64, 67, 0.3), 0px 1px 3px 1px rgba(60, 64, 67, 0.15);\n",
              "      fill: #174EA6;\n",
              "    }\n",
              "\n",
              "    .colab-df-buttons div {\n",
              "      margin-bottom: 4px;\n",
              "    }\n",
              "\n",
              "    [theme=dark] .colab-df-convert {\n",
              "      background-color: #3B4455;\n",
              "      fill: #D2E3FC;\n",
              "    }\n",
              "\n",
              "    [theme=dark] .colab-df-convert:hover {\n",
              "      background-color: #434B5C;\n",
              "      box-shadow: 0px 1px 3px 1px rgba(0, 0, 0, 0.15);\n",
              "      filter: drop-shadow(0px 1px 2px rgba(0, 0, 0, 0.3));\n",
              "      fill: #FFFFFF;\n",
              "    }\n",
              "  </style>\n",
              "\n",
              "    <script>\n",
              "      const buttonEl =\n",
              "        document.querySelector('#df-9a4acea7-8526-46e7-b481-6a6a400b3169 button.colab-df-convert');\n",
              "      buttonEl.style.display =\n",
              "        google.colab.kernel.accessAllowed ? 'block' : 'none';\n",
              "\n",
              "      async function convertToInteractive(key) {\n",
              "        const element = document.querySelector('#df-9a4acea7-8526-46e7-b481-6a6a400b3169');\n",
              "        const dataTable =\n",
              "          await google.colab.kernel.invokeFunction('convertToInteractive',\n",
              "                                                    [key], {});\n",
              "        if (!dataTable) return;\n",
              "\n",
              "        const docLinkHtml = 'Like what you see? Visit the ' +\n",
              "          '<a target=\"_blank\" href=https://colab.research.google.com/notebooks/data_table.ipynb>data table notebook</a>'\n",
              "          + ' to learn more about interactive tables.';\n",
              "        element.innerHTML = '';\n",
              "        dataTable['output_type'] = 'display_data';\n",
              "        await google.colab.output.renderOutput(dataTable, element);\n",
              "        const docLink = document.createElement('div');\n",
              "        docLink.innerHTML = docLinkHtml;\n",
              "        element.appendChild(docLink);\n",
              "      }\n",
              "    </script>\n",
              "  </div>\n",
              "\n",
              "\n",
              "<div id=\"df-2c056d1c-5c19-4b64-9fe3-fd39426f1ac1\">\n",
              "  <button class=\"colab-df-quickchart\" onclick=\"quickchart('df-2c056d1c-5c19-4b64-9fe3-fd39426f1ac1')\"\n",
              "            title=\"Suggest charts\"\n",
              "            style=\"display:none;\">\n",
              "\n",
              "<svg xmlns=\"http://www.w3.org/2000/svg\" height=\"24px\"viewBox=\"0 0 24 24\"\n",
              "     width=\"24px\">\n",
              "    <g>\n",
              "        <path d=\"M19 3H5c-1.1 0-2 .9-2 2v14c0 1.1.9 2 2 2h14c1.1 0 2-.9 2-2V5c0-1.1-.9-2-2-2zM9 17H7v-7h2v7zm4 0h-2V7h2v10zm4 0h-2v-4h2v4z\"/>\n",
              "    </g>\n",
              "</svg>\n",
              "  </button>\n",
              "\n",
              "<style>\n",
              "  .colab-df-quickchart {\n",
              "      --bg-color: #E8F0FE;\n",
              "      --fill-color: #1967D2;\n",
              "      --hover-bg-color: #E2EBFA;\n",
              "      --hover-fill-color: #174EA6;\n",
              "      --disabled-fill-color: #AAA;\n",
              "      --disabled-bg-color: #DDD;\n",
              "  }\n",
              "\n",
              "  [theme=dark] .colab-df-quickchart {\n",
              "      --bg-color: #3B4455;\n",
              "      --fill-color: #D2E3FC;\n",
              "      --hover-bg-color: #434B5C;\n",
              "      --hover-fill-color: #FFFFFF;\n",
              "      --disabled-bg-color: #3B4455;\n",
              "      --disabled-fill-color: #666;\n",
              "  }\n",
              "\n",
              "  .colab-df-quickchart {\n",
              "    background-color: var(--bg-color);\n",
              "    border: none;\n",
              "    border-radius: 50%;\n",
              "    cursor: pointer;\n",
              "    display: none;\n",
              "    fill: var(--fill-color);\n",
              "    height: 32px;\n",
              "    padding: 0;\n",
              "    width: 32px;\n",
              "  }\n",
              "\n",
              "  .colab-df-quickchart:hover {\n",
              "    background-color: var(--hover-bg-color);\n",
              "    box-shadow: 0 1px 2px rgba(60, 64, 67, 0.3), 0 1px 3px 1px rgba(60, 64, 67, 0.15);\n",
              "    fill: var(--button-hover-fill-color);\n",
              "  }\n",
              "\n",
              "  .colab-df-quickchart-complete:disabled,\n",
              "  .colab-df-quickchart-complete:disabled:hover {\n",
              "    background-color: var(--disabled-bg-color);\n",
              "    fill: var(--disabled-fill-color);\n",
              "    box-shadow: none;\n",
              "  }\n",
              "\n",
              "  .colab-df-spinner {\n",
              "    border: 2px solid var(--fill-color);\n",
              "    border-color: transparent;\n",
              "    border-bottom-color: var(--fill-color);\n",
              "    animation:\n",
              "      spin 1s steps(1) infinite;\n",
              "  }\n",
              "\n",
              "  @keyframes spin {\n",
              "    0% {\n",
              "      border-color: transparent;\n",
              "      border-bottom-color: var(--fill-color);\n",
              "      border-left-color: var(--fill-color);\n",
              "    }\n",
              "    20% {\n",
              "      border-color: transparent;\n",
              "      border-left-color: var(--fill-color);\n",
              "      border-top-color: var(--fill-color);\n",
              "    }\n",
              "    30% {\n",
              "      border-color: transparent;\n",
              "      border-left-color: var(--fill-color);\n",
              "      border-top-color: var(--fill-color);\n",
              "      border-right-color: var(--fill-color);\n",
              "    }\n",
              "    40% {\n",
              "      border-color: transparent;\n",
              "      border-right-color: var(--fill-color);\n",
              "      border-top-color: var(--fill-color);\n",
              "    }\n",
              "    60% {\n",
              "      border-color: transparent;\n",
              "      border-right-color: var(--fill-color);\n",
              "    }\n",
              "    80% {\n",
              "      border-color: transparent;\n",
              "      border-right-color: var(--fill-color);\n",
              "      border-bottom-color: var(--fill-color);\n",
              "    }\n",
              "    90% {\n",
              "      border-color: transparent;\n",
              "      border-bottom-color: var(--fill-color);\n",
              "    }\n",
              "  }\n",
              "</style>\n",
              "\n",
              "  <script>\n",
              "    async function quickchart(key) {\n",
              "      const quickchartButtonEl =\n",
              "        document.querySelector('#' + key + ' button');\n",
              "      quickchartButtonEl.disabled = true;  // To prevent multiple clicks.\n",
              "      quickchartButtonEl.classList.add('colab-df-spinner');\n",
              "      try {\n",
              "        const charts = await google.colab.kernel.invokeFunction(\n",
              "            'suggestCharts', [key], {});\n",
              "      } catch (error) {\n",
              "        console.error('Error during call to suggestCharts:', error);\n",
              "      }\n",
              "      quickchartButtonEl.classList.remove('colab-df-spinner');\n",
              "      quickchartButtonEl.classList.add('colab-df-quickchart-complete');\n",
              "    }\n",
              "    (() => {\n",
              "      let quickchartButtonEl =\n",
              "        document.querySelector('#df-2c056d1c-5c19-4b64-9fe3-fd39426f1ac1 button');\n",
              "      quickchartButtonEl.style.display =\n",
              "        google.colab.kernel.accessAllowed ? 'block' : 'none';\n",
              "    })();\n",
              "  </script>\n",
              "</div>\n",
              "    </div>\n",
              "  </div>\n"
            ],
            "application/vnd.google.colaboratory.intrinsic+json": {
              "type": "dataframe",
              "variable_name": "ipo_fillings",
              "summary": "{\n  \"name\": \"ipo_fillings\",\n  \"rows\": 326,\n  \"fields\": [\n    {\n      \"column\": \"Filing Date\",\n      \"properties\": {\n        \"dtype\": \"string\",\n        \"num_unique_values\": 257,\n        \"samples\": [\n          \"Jun 3, 2022\",\n          \"Jan 10, 2022\",\n          \"Aug 23, 2023\"\n        ],\n        \"semantic_type\": \"\",\n        \"description\": \"\"\n      }\n    },\n    {\n      \"column\": \"Symbol\",\n      \"properties\": {\n        \"dtype\": \"string\",\n        \"num_unique_values\": 326,\n        \"samples\": [\n          \"LEDG\",\n          \"ZXTY\",\n          \"BXHA\"\n        ],\n        \"semantic_type\": \"\",\n        \"description\": \"\"\n      }\n    },\n    {\n      \"column\": \"Company Name\",\n      \"properties\": {\n        \"dtype\": \"string\",\n        \"num_unique_values\": 326,\n        \"samples\": [\n          \"Ledger Acquisition Company\",\n          \"Zhongxing Holding Group Ltd\",\n          \"Bombax Healthcare Acquisition Corporation\"\n        ],\n        \"semantic_type\": \"\",\n        \"description\": \"\"\n      }\n    },\n    {\n      \"column\": \"Price Range\",\n      \"properties\": {\n        \"dtype\": \"category\",\n        \"num_unique_values\": 45,\n        \"samples\": [\n          \"$7.00 - $9.00\",\n          \"$5.50\",\n          \"$20.00\"\n        ],\n        \"semantic_type\": \"\",\n        \"description\": \"\"\n      }\n    },\n    {\n      \"column\": \"Shares Offered\",\n      \"properties\": {\n        \"dtype\": \"category\",\n        \"num_unique_values\": 82,\n        \"samples\": [\n          \"400000\",\n          \"-\",\n          \"2200000\"\n        ],\n        \"semantic_type\": \"\",\n        \"description\": \"\"\n      }\n    }\n  ]\n}"
            }
          },
          "metadata": {},
          "execution_count": 5
        }
      ]
    },
    {
      "cell_type": "code",
      "source": [
        "import numpy as np\n",
        "ipo_fillings['Shares Offered'] = ipo_fillings['Shares Offered'].apply(lambda x: float(x) if x != '-' else np.nan)"
      ],
      "metadata": {
        "id": "pVZtK30KhKuO"
      },
      "execution_count": 6,
      "outputs": []
    },
    {
      "cell_type": "code",
      "source": [
        "# Convert 'Filing Date' to datetime\n",
        "ipo_fillings['Filing Date'] = pd.to_datetime(ipo_fillings['Filing Date'], format='mixed')"
      ],
      "metadata": {
        "id": "F24b4wIqhPSB"
      },
      "execution_count": 9,
      "outputs": []
    },
    {
      "cell_type": "code",
      "source": [
        "#not always the columns are filled\n",
        "missing_prices_df = ipo_fillings[ipo_fillings['Price Range'].astype(str).str.find('-') >= 0]\n",
        "missing_prices_df"
      ],
      "metadata": {
        "colab": {
          "base_uri": "https://localhost:8080/",
          "height": 423
        },
        "id": "WEKkyNNEhTqk",
        "outputId": "fe1bd377-e553-4c05-daca-5bb72168fd15"
      },
      "execution_count": 11,
      "outputs": [
        {
          "output_type": "execute_result",
          "data": {
            "text/plain": [
              "    Filing Date Symbol                         Company Name     Price Range  \\\n",
              "0    2024-05-03    TBN       Tamboran Resources Corporation               -   \n",
              "4    2024-04-26    HDL  Super Hi International Holding Ltd.               -   \n",
              "8    2024-04-15   GAUZ                           Gauzy Ltd.               -   \n",
              "9    2024-04-12    BOW      Bowhead Specialty Holdings Inc.               -   \n",
              "10   2024-04-05   SPHL              Springview Holdings Ltd   $4.00 - $5.00   \n",
              "..          ...    ...                                  ...             ...   \n",
              "319  2020-06-17   ALEH            ALE Group Holding Limited   $4.00 - $6.00   \n",
              "320  2020-02-18   CAST                       FreeCast, Inc.               -   \n",
              "321  2020-01-21   GOXS                          Goxus, Inc.  $8.00 - $10.00   \n",
              "323  2019-12-09   LOHA                         Loha Co. Ltd  $8.00 - $10.00   \n",
              "325  2018-12-27   FBOX            Fit Boxx Holdings Limited   $5.00 - $6.50   \n",
              "\n",
              "     Shares Offered  \n",
              "0               NaN  \n",
              "4               NaN  \n",
              "8               NaN  \n",
              "9               NaN  \n",
              "10        2000000.0  \n",
              "..              ...  \n",
              "319       4200000.0  \n",
              "320             NaN  \n",
              "321       1500000.0  \n",
              "323       2500000.0  \n",
              "325       2000000.0  \n",
              "\n",
              "[183 rows x 5 columns]"
            ],
            "text/html": [
              "\n",
              "  <div id=\"df-d20664c5-bd25-4246-91d4-ada8538cb817\" class=\"colab-df-container\">\n",
              "    <div>\n",
              "<style scoped>\n",
              "    .dataframe tbody tr th:only-of-type {\n",
              "        vertical-align: middle;\n",
              "    }\n",
              "\n",
              "    .dataframe tbody tr th {\n",
              "        vertical-align: top;\n",
              "    }\n",
              "\n",
              "    .dataframe thead th {\n",
              "        text-align: right;\n",
              "    }\n",
              "</style>\n",
              "<table border=\"1\" class=\"dataframe\">\n",
              "  <thead>\n",
              "    <tr style=\"text-align: right;\">\n",
              "      <th></th>\n",
              "      <th>Filing Date</th>\n",
              "      <th>Symbol</th>\n",
              "      <th>Company Name</th>\n",
              "      <th>Price Range</th>\n",
              "      <th>Shares Offered</th>\n",
              "    </tr>\n",
              "  </thead>\n",
              "  <tbody>\n",
              "    <tr>\n",
              "      <th>0</th>\n",
              "      <td>2024-05-03</td>\n",
              "      <td>TBN</td>\n",
              "      <td>Tamboran Resources Corporation</td>\n",
              "      <td>-</td>\n",
              "      <td>NaN</td>\n",
              "    </tr>\n",
              "    <tr>\n",
              "      <th>4</th>\n",
              "      <td>2024-04-26</td>\n",
              "      <td>HDL</td>\n",
              "      <td>Super Hi International Holding Ltd.</td>\n",
              "      <td>-</td>\n",
              "      <td>NaN</td>\n",
              "    </tr>\n",
              "    <tr>\n",
              "      <th>8</th>\n",
              "      <td>2024-04-15</td>\n",
              "      <td>GAUZ</td>\n",
              "      <td>Gauzy Ltd.</td>\n",
              "      <td>-</td>\n",
              "      <td>NaN</td>\n",
              "    </tr>\n",
              "    <tr>\n",
              "      <th>9</th>\n",
              "      <td>2024-04-12</td>\n",
              "      <td>BOW</td>\n",
              "      <td>Bowhead Specialty Holdings Inc.</td>\n",
              "      <td>-</td>\n",
              "      <td>NaN</td>\n",
              "    </tr>\n",
              "    <tr>\n",
              "      <th>10</th>\n",
              "      <td>2024-04-05</td>\n",
              "      <td>SPHL</td>\n",
              "      <td>Springview Holdings Ltd</td>\n",
              "      <td>$4.00 - $5.00</td>\n",
              "      <td>2000000.0</td>\n",
              "    </tr>\n",
              "    <tr>\n",
              "      <th>...</th>\n",
              "      <td>...</td>\n",
              "      <td>...</td>\n",
              "      <td>...</td>\n",
              "      <td>...</td>\n",
              "      <td>...</td>\n",
              "    </tr>\n",
              "    <tr>\n",
              "      <th>319</th>\n",
              "      <td>2020-06-17</td>\n",
              "      <td>ALEH</td>\n",
              "      <td>ALE Group Holding Limited</td>\n",
              "      <td>$4.00 - $6.00</td>\n",
              "      <td>4200000.0</td>\n",
              "    </tr>\n",
              "    <tr>\n",
              "      <th>320</th>\n",
              "      <td>2020-02-18</td>\n",
              "      <td>CAST</td>\n",
              "      <td>FreeCast, Inc.</td>\n",
              "      <td>-</td>\n",
              "      <td>NaN</td>\n",
              "    </tr>\n",
              "    <tr>\n",
              "      <th>321</th>\n",
              "      <td>2020-01-21</td>\n",
              "      <td>GOXS</td>\n",
              "      <td>Goxus, Inc.</td>\n",
              "      <td>$8.00 - $10.00</td>\n",
              "      <td>1500000.0</td>\n",
              "    </tr>\n",
              "    <tr>\n",
              "      <th>323</th>\n",
              "      <td>2019-12-09</td>\n",
              "      <td>LOHA</td>\n",
              "      <td>Loha Co. Ltd</td>\n",
              "      <td>$8.00 - $10.00</td>\n",
              "      <td>2500000.0</td>\n",
              "    </tr>\n",
              "    <tr>\n",
              "      <th>325</th>\n",
              "      <td>2018-12-27</td>\n",
              "      <td>FBOX</td>\n",
              "      <td>Fit Boxx Holdings Limited</td>\n",
              "      <td>$5.00 - $6.50</td>\n",
              "      <td>2000000.0</td>\n",
              "    </tr>\n",
              "  </tbody>\n",
              "</table>\n",
              "<p>183 rows × 5 columns</p>\n",
              "</div>\n",
              "    <div class=\"colab-df-buttons\">\n",
              "\n",
              "  <div class=\"colab-df-container\">\n",
              "    <button class=\"colab-df-convert\" onclick=\"convertToInteractive('df-d20664c5-bd25-4246-91d4-ada8538cb817')\"\n",
              "            title=\"Convert this dataframe to an interactive table.\"\n",
              "            style=\"display:none;\">\n",
              "\n",
              "  <svg xmlns=\"http://www.w3.org/2000/svg\" height=\"24px\" viewBox=\"0 -960 960 960\">\n",
              "    <path d=\"M120-120v-720h720v720H120Zm60-500h600v-160H180v160Zm220 220h160v-160H400v160Zm0 220h160v-160H400v160ZM180-400h160v-160H180v160Zm440 0h160v-160H620v160ZM180-180h160v-160H180v160Zm440 0h160v-160H620v160Z\"/>\n",
              "  </svg>\n",
              "    </button>\n",
              "\n",
              "  <style>\n",
              "    .colab-df-container {\n",
              "      display:flex;\n",
              "      gap: 12px;\n",
              "    }\n",
              "\n",
              "    .colab-df-convert {\n",
              "      background-color: #E8F0FE;\n",
              "      border: none;\n",
              "      border-radius: 50%;\n",
              "      cursor: pointer;\n",
              "      display: none;\n",
              "      fill: #1967D2;\n",
              "      height: 32px;\n",
              "      padding: 0 0 0 0;\n",
              "      width: 32px;\n",
              "    }\n",
              "\n",
              "    .colab-df-convert:hover {\n",
              "      background-color: #E2EBFA;\n",
              "      box-shadow: 0px 1px 2px rgba(60, 64, 67, 0.3), 0px 1px 3px 1px rgba(60, 64, 67, 0.15);\n",
              "      fill: #174EA6;\n",
              "    }\n",
              "\n",
              "    .colab-df-buttons div {\n",
              "      margin-bottom: 4px;\n",
              "    }\n",
              "\n",
              "    [theme=dark] .colab-df-convert {\n",
              "      background-color: #3B4455;\n",
              "      fill: #D2E3FC;\n",
              "    }\n",
              "\n",
              "    [theme=dark] .colab-df-convert:hover {\n",
              "      background-color: #434B5C;\n",
              "      box-shadow: 0px 1px 3px 1px rgba(0, 0, 0, 0.15);\n",
              "      filter: drop-shadow(0px 1px 2px rgba(0, 0, 0, 0.3));\n",
              "      fill: #FFFFFF;\n",
              "    }\n",
              "  </style>\n",
              "\n",
              "    <script>\n",
              "      const buttonEl =\n",
              "        document.querySelector('#df-d20664c5-bd25-4246-91d4-ada8538cb817 button.colab-df-convert');\n",
              "      buttonEl.style.display =\n",
              "        google.colab.kernel.accessAllowed ? 'block' : 'none';\n",
              "\n",
              "      async function convertToInteractive(key) {\n",
              "        const element = document.querySelector('#df-d20664c5-bd25-4246-91d4-ada8538cb817');\n",
              "        const dataTable =\n",
              "          await google.colab.kernel.invokeFunction('convertToInteractive',\n",
              "                                                    [key], {});\n",
              "        if (!dataTable) return;\n",
              "\n",
              "        const docLinkHtml = 'Like what you see? Visit the ' +\n",
              "          '<a target=\"_blank\" href=https://colab.research.google.com/notebooks/data_table.ipynb>data table notebook</a>'\n",
              "          + ' to learn more about interactive tables.';\n",
              "        element.innerHTML = '';\n",
              "        dataTable['output_type'] = 'display_data';\n",
              "        await google.colab.output.renderOutput(dataTable, element);\n",
              "        const docLink = document.createElement('div');\n",
              "        docLink.innerHTML = docLinkHtml;\n",
              "        element.appendChild(docLink);\n",
              "      }\n",
              "    </script>\n",
              "  </div>\n",
              "\n",
              "\n",
              "<div id=\"df-ce2550d6-058d-4573-bbb2-eb7a144ef310\">\n",
              "  <button class=\"colab-df-quickchart\" onclick=\"quickchart('df-ce2550d6-058d-4573-bbb2-eb7a144ef310')\"\n",
              "            title=\"Suggest charts\"\n",
              "            style=\"display:none;\">\n",
              "\n",
              "<svg xmlns=\"http://www.w3.org/2000/svg\" height=\"24px\"viewBox=\"0 0 24 24\"\n",
              "     width=\"24px\">\n",
              "    <g>\n",
              "        <path d=\"M19 3H5c-1.1 0-2 .9-2 2v14c0 1.1.9 2 2 2h14c1.1 0 2-.9 2-2V5c0-1.1-.9-2-2-2zM9 17H7v-7h2v7zm4 0h-2V7h2v10zm4 0h-2v-4h2v4z\"/>\n",
              "    </g>\n",
              "</svg>\n",
              "  </button>\n",
              "\n",
              "<style>\n",
              "  .colab-df-quickchart {\n",
              "      --bg-color: #E8F0FE;\n",
              "      --fill-color: #1967D2;\n",
              "      --hover-bg-color: #E2EBFA;\n",
              "      --hover-fill-color: #174EA6;\n",
              "      --disabled-fill-color: #AAA;\n",
              "      --disabled-bg-color: #DDD;\n",
              "  }\n",
              "\n",
              "  [theme=dark] .colab-df-quickchart {\n",
              "      --bg-color: #3B4455;\n",
              "      --fill-color: #D2E3FC;\n",
              "      --hover-bg-color: #434B5C;\n",
              "      --hover-fill-color: #FFFFFF;\n",
              "      --disabled-bg-color: #3B4455;\n",
              "      --disabled-fill-color: #666;\n",
              "  }\n",
              "\n",
              "  .colab-df-quickchart {\n",
              "    background-color: var(--bg-color);\n",
              "    border: none;\n",
              "    border-radius: 50%;\n",
              "    cursor: pointer;\n",
              "    display: none;\n",
              "    fill: var(--fill-color);\n",
              "    height: 32px;\n",
              "    padding: 0;\n",
              "    width: 32px;\n",
              "  }\n",
              "\n",
              "  .colab-df-quickchart:hover {\n",
              "    background-color: var(--hover-bg-color);\n",
              "    box-shadow: 0 1px 2px rgba(60, 64, 67, 0.3), 0 1px 3px 1px rgba(60, 64, 67, 0.15);\n",
              "    fill: var(--button-hover-fill-color);\n",
              "  }\n",
              "\n",
              "  .colab-df-quickchart-complete:disabled,\n",
              "  .colab-df-quickchart-complete:disabled:hover {\n",
              "    background-color: var(--disabled-bg-color);\n",
              "    fill: var(--disabled-fill-color);\n",
              "    box-shadow: none;\n",
              "  }\n",
              "\n",
              "  .colab-df-spinner {\n",
              "    border: 2px solid var(--fill-color);\n",
              "    border-color: transparent;\n",
              "    border-bottom-color: var(--fill-color);\n",
              "    animation:\n",
              "      spin 1s steps(1) infinite;\n",
              "  }\n",
              "\n",
              "  @keyframes spin {\n",
              "    0% {\n",
              "      border-color: transparent;\n",
              "      border-bottom-color: var(--fill-color);\n",
              "      border-left-color: var(--fill-color);\n",
              "    }\n",
              "    20% {\n",
              "      border-color: transparent;\n",
              "      border-left-color: var(--fill-color);\n",
              "      border-top-color: var(--fill-color);\n",
              "    }\n",
              "    30% {\n",
              "      border-color: transparent;\n",
              "      border-left-color: var(--fill-color);\n",
              "      border-top-color: var(--fill-color);\n",
              "      border-right-color: var(--fill-color);\n",
              "    }\n",
              "    40% {\n",
              "      border-color: transparent;\n",
              "      border-right-color: var(--fill-color);\n",
              "      border-top-color: var(--fill-color);\n",
              "    }\n",
              "    60% {\n",
              "      border-color: transparent;\n",
              "      border-right-color: var(--fill-color);\n",
              "    }\n",
              "    80% {\n",
              "      border-color: transparent;\n",
              "      border-right-color: var(--fill-color);\n",
              "      border-bottom-color: var(--fill-color);\n",
              "    }\n",
              "    90% {\n",
              "      border-color: transparent;\n",
              "      border-bottom-color: var(--fill-color);\n",
              "    }\n",
              "  }\n",
              "</style>\n",
              "\n",
              "  <script>\n",
              "    async function quickchart(key) {\n",
              "      const quickchartButtonEl =\n",
              "        document.querySelector('#' + key + ' button');\n",
              "      quickchartButtonEl.disabled = true;  // To prevent multiple clicks.\n",
              "      quickchartButtonEl.classList.add('colab-df-spinner');\n",
              "      try {\n",
              "        const charts = await google.colab.kernel.invokeFunction(\n",
              "            'suggestCharts', [key], {});\n",
              "      } catch (error) {\n",
              "        console.error('Error during call to suggestCharts:', error);\n",
              "      }\n",
              "      quickchartButtonEl.classList.remove('colab-df-spinner');\n",
              "      quickchartButtonEl.classList.add('colab-df-quickchart-complete');\n",
              "    }\n",
              "    (() => {\n",
              "      let quickchartButtonEl =\n",
              "        document.querySelector('#df-ce2550d6-058d-4573-bbb2-eb7a144ef310 button');\n",
              "      quickchartButtonEl.style.display =\n",
              "        google.colab.kernel.accessAllowed ? 'block' : 'none';\n",
              "    })();\n",
              "  </script>\n",
              "</div>\n",
              "    </div>\n",
              "  </div>\n"
            ],
            "application/vnd.google.colaboratory.intrinsic+json": {
              "type": "dataframe",
              "variable_name": "missing_prices_df",
              "summary": "{\n  \"name\": \"missing_prices_df\",\n  \"rows\": 183,\n  \"fields\": [\n    {\n      \"column\": \"Filing Date\",\n      \"properties\": {\n        \"dtype\": \"date\",\n        \"min\": \"2018-12-27 00:00:00\",\n        \"max\": \"2024-05-03 00:00:00\",\n        \"num_unique_values\": 154,\n        \"samples\": [\n          \"2024-03-06 00:00:00\",\n          \"2023-02-14 00:00:00\",\n          \"2019-12-09 00:00:00\"\n        ],\n        \"semantic_type\": \"\",\n        \"description\": \"\"\n      }\n    },\n    {\n      \"column\": \"Symbol\",\n      \"properties\": {\n        \"dtype\": \"string\",\n        \"num_unique_values\": 183,\n        \"samples\": [\n          \"LUD\",\n          \"LZMH\",\n          \"YBZN\"\n        ],\n        \"semantic_type\": \"\",\n        \"description\": \"\"\n      }\n    },\n    {\n      \"column\": \"Company Name\",\n      \"properties\": {\n        \"dtype\": \"string\",\n        \"num_unique_values\": 183,\n        \"samples\": [\n          \"Luda Technology Group Limited\",\n          \"LZ Technology Holdings Limited\",\n          \"Yi Po International Holdings Limited\"\n        ],\n        \"semantic_type\": \"\",\n        \"description\": \"\"\n      }\n    },\n    {\n      \"column\": \"Price Range\",\n      \"properties\": {\n        \"dtype\": \"category\",\n        \"num_unique_values\": 30,\n        \"samples\": [\n          \"$7.00 - $7.50\",\n          \"$4.50 - $5.50\",\n          \"$5.20 - $7.20\"\n        ],\n        \"semantic_type\": \"\",\n        \"description\": \"\"\n      }\n    },\n    {\n      \"column\": \"Shares Offered\",\n      \"properties\": {\n        \"dtype\": \"number\",\n        \"std\": 2751514.3556175726,\n        \"min\": 400000.0,\n        \"max\": 25000000.0,\n        \"num_unique_values\": 48,\n        \"samples\": [\n          2750000.0,\n          2900000.0,\n          25000000.0\n        ],\n        \"semantic_type\": \"\",\n        \"description\": \"\"\n      }\n    }\n  ]\n}"
            }
          },
          "metadata": {},
          "execution_count": 11
        }
      ]
    },
    {
      "cell_type": "code",
      "source": [
        "def str_to_digits(s):\n",
        "    if not s or s == '-':  # If empty string or just a dash\n",
        "        return np.nan\n",
        "    s = s.replace('$', '').replace(',', '')  # Remove $ and commas\n",
        "    if '-' in s:  # If it's a range\n",
        "        try:\n",
        "            start, end = map(float, s.split('-'))\n",
        "            return (start + end) / 2  # Return average of the range\n",
        "        except ValueError:\n",
        "            return np.nan  # Return nan if conversion fails\n",
        "    else:\n",
        "        try:\n",
        "            return float(s)  # Convert to float\n",
        "        except ValueError:\n",
        "            return np.nan  # Return nan if conversion fails\n",
        "\n",
        "# Apply the function to the 'Price Range' column\n",
        "ipo_fillings['Avg_price'] = ipo_fillings['Price Range'].apply(lambda x: str_to_digits(x))\n",
        "\n",
        "print(ipo_fillings)"
      ],
      "metadata": {
        "colab": {
          "base_uri": "https://localhost:8080/"
        },
        "id": "8_uytDJZhlvl",
        "outputId": "d3a40c9e-a78b-4a41-871c-7d469ed15cec"
      },
      "execution_count": 12,
      "outputs": [
        {
          "output_type": "stream",
          "name": "stdout",
          "text": [
            "    Filing Date Symbol                           Company Name     Price Range  \\\n",
            "0    2024-05-03    TBN         Tamboran Resources Corporation               -   \n",
            "1    2024-04-29   HWEC                   HW Electro Co., Ltd.           $3.00   \n",
            "2    2024-04-29   DTSQ  DT Cloud Star Acquisition Corporation          $10.00   \n",
            "3    2024-04-26   EURK                Eureka Acquisition Corp          $10.00   \n",
            "4    2024-04-26    HDL    Super Hi International Holding Ltd.               -   \n",
            "..          ...    ...                                    ...             ...   \n",
            "321  2020-01-21   GOXS                            Goxus, Inc.  $8.00 - $10.00   \n",
            "322  2020-01-21   UTXO                 UTXO Acquisition, Inc.          $10.00   \n",
            "323  2019-12-09   LOHA                           Loha Co. Ltd  $8.00 - $10.00   \n",
            "324  2019-10-04   ZGHB  China Eco-Materials Group Co. Limited           $4.00   \n",
            "325  2018-12-27   FBOX              Fit Boxx Holdings Limited   $5.00 - $6.50   \n",
            "\n",
            "     Shares Offered  Avg_price  \n",
            "0               NaN        NaN  \n",
            "1         3750000.0       3.00  \n",
            "2         6000000.0      10.00  \n",
            "3         5000000.0      10.00  \n",
            "4               NaN        NaN  \n",
            "..              ...        ...  \n",
            "321       1500000.0       9.00  \n",
            "322       5000000.0      10.00  \n",
            "323       2500000.0       9.00  \n",
            "324       4300000.0       4.00  \n",
            "325       2000000.0       5.75  \n",
            "\n",
            "[326 rows x 6 columns]\n"
          ]
        }
      ]
    },
    {
      "cell_type": "code",
      "source": [
        "# Define a column \"Shares_offered_value\",\n",
        "# which equals to \"Shares Offered\" * \"Avg_price\" (when both columns are defined; otherwise, it's NaN)\n",
        "def calculate_shares_offered_value(row):\n",
        "    shares_offered = row['Shares Offered']\n",
        "    avg_price = row['Avg_price']\n",
        "    if pd.notnull(shares_offered) and pd.notnull(avg_price):\n",
        "        return shares_offered * avg_price\n",
        "    else:\n",
        "        return np.nan\n",
        "\n",
        "# Apply the function to create the Shares_offered_value column\n",
        "ipo_fillings['Shares_offered_value'] = ipo_fillings.apply(calculate_shares_offered_value, axis=1)\n",
        "\n",
        "print(ipo_fillings)"
      ],
      "metadata": {
        "colab": {
          "base_uri": "https://localhost:8080/"
        },
        "id": "Nj01CD56hufS",
        "outputId": "8ad3d0f0-11fd-49e1-f2fd-d67fa5399af7"
      },
      "execution_count": 13,
      "outputs": [
        {
          "output_type": "stream",
          "name": "stdout",
          "text": [
            "    Filing Date Symbol                           Company Name     Price Range  \\\n",
            "0    2024-05-03    TBN         Tamboran Resources Corporation               -   \n",
            "1    2024-04-29   HWEC                   HW Electro Co., Ltd.           $3.00   \n",
            "2    2024-04-29   DTSQ  DT Cloud Star Acquisition Corporation          $10.00   \n",
            "3    2024-04-26   EURK                Eureka Acquisition Corp          $10.00   \n",
            "4    2024-04-26    HDL    Super Hi International Holding Ltd.               -   \n",
            "..          ...    ...                                    ...             ...   \n",
            "321  2020-01-21   GOXS                            Goxus, Inc.  $8.00 - $10.00   \n",
            "322  2020-01-21   UTXO                 UTXO Acquisition, Inc.          $10.00   \n",
            "323  2019-12-09   LOHA                           Loha Co. Ltd  $8.00 - $10.00   \n",
            "324  2019-10-04   ZGHB  China Eco-Materials Group Co. Limited           $4.00   \n",
            "325  2018-12-27   FBOX              Fit Boxx Holdings Limited   $5.00 - $6.50   \n",
            "\n",
            "     Shares Offered  Avg_price  Shares_offered_value  \n",
            "0               NaN        NaN                   NaN  \n",
            "1         3750000.0       3.00            11250000.0  \n",
            "2         6000000.0      10.00            60000000.0  \n",
            "3         5000000.0      10.00            50000000.0  \n",
            "4               NaN        NaN                   NaN  \n",
            "..              ...        ...                   ...  \n",
            "321       1500000.0       9.00            13500000.0  \n",
            "322       5000000.0      10.00            50000000.0  \n",
            "323       2500000.0       9.00            22500000.0  \n",
            "324       4300000.0       4.00            17200000.0  \n",
            "325       2000000.0       5.75            11500000.0  \n",
            "\n",
            "[326 rows x 7 columns]\n"
          ]
        }
      ]
    },
    {
      "cell_type": "code",
      "source": [
        "friday_fillings = ipo_fillings[(ipo_fillings['Filing Date'].dt.dayofweek == 4) & (ipo_fillings['Filing Date'].dt.year == 2023)]\n",
        "total_sum_in_millions = int(friday_fillings['Shares_offered_value'].sum() / 1000000)\n",
        "print(f\"Total sum of 2023 filings that happened on Fridays: ${total_sum_in_millions}m\")"
      ],
      "metadata": {
        "colab": {
          "base_uri": "https://localhost:8080/"
        },
        "id": "ElbIJIbqh0CY",
        "outputId": "9f2e83ca-e05e-4c37-e374-19bb5d2be32d"
      },
      "execution_count": 14,
      "outputs": [
        {
          "output_type": "stream",
          "name": "stdout",
          "text": [
            "Total sum of 2023 filings that happened on Fridays: $285m\n"
          ]
        }
      ]
    },
    {
      "cell_type": "markdown",
      "source": [
        "**Question 2: IPOs \"Fixed days hold\" strategy\n",
        "Find the optimal number of days X (between 1 and 30), where 75% quantile growth is the highest?**\n",
        "Reuse [Code Snippet 1] to retrieve the list of IPOs from 2023 and 2024 (from URLs: https://stockanalysis.com/ipos/2023/ and https://stockanalysis.com/ipos/2024/). Get all OHLCV daily prices for all stocks with an \"IPO date\" before March 1, 2024 (\"< 2024-03-01\") - 184 tickers (without 'RYZB'). Please remove 'RYZB', as it is no longer available on Yahoo Finance.\n",
        "\n",
        "Sometimes you may need to adjust the symbol name (e.g., 'IBAC' on stockanalysis.com -> 'IBACU' on Yahoo Finance) to locate OHLCV prices for all stocks. Some of the tickers like 'DYCQ' and 'LEGT' were on the market less than 30 days (11 and 21 days, respectively). Let's leave them in the dataset; it just means that you couldn't hold them for more days than they were listed.\n",
        "\n",
        "Let's assume you managed to buy a new stock (listed on IPO) on the first day at the [Adj Close] price]. Your strategy is to hold for exactly X full days (where X is between 1 and 30) and sell at the \"Adj. Close\" price in X days (e.g., if X=1, you sell on the next day). Find X, when the 75% quantile growth (among 185 investments) is the highest.\n",
        "\n",
        "HINTs:\n",
        "\n",
        "You can generate 30 additional columns: growth_future_1d ... growth_future_30d, join that with the table of min_dates (first day when each stock has data on Yahoo Finance), and perform vector operations on the resulting dataset. You can use the DataFrame.describe() function to get mean, min, max, 25-50-75% quantiles. Addtional:\n",
        "\n",
        "You can also ensure that the mean and 50th percentile (median) investment returns are negative for most X values, implying a wager for a \"lucky\" investor who might be in the top 25%. What's your recommendation: Do you suggest pursuing this strategy for an optimal X?"
      ],
      "metadata": {
        "id": "qI3O8jF8lO4G"
      }
    },
    {
      "cell_type": "code",
      "source": [
        "import requests\n",
        "\n",
        "headers = {\n",
        "    'User-Agent': 'Mozilla/5.0 (Windows NT 10.0; Win64; x64) AppleWebKit/537.36 (KHTML, like Gecko) Chrome/58.0.3029.110 Safari/537.3',\n",
        "}\n",
        "\n",
        "url = \"https://stockanalysis.com/ipos/2023/\"\n",
        "response = requests.get(url, headers=headers)\n",
        "\n",
        "ipo_dfs = pd.read_html(response.text)"
      ],
      "metadata": {
        "id": "EeKlL6zQknXJ"
      },
      "execution_count": 15,
      "outputs": []
    },
    {
      "cell_type": "code",
      "source": [
        "ipos_2023 = ipo_dfs[0]\n",
        "ipos_2023.info()"
      ],
      "metadata": {
        "colab": {
          "base_uri": "https://localhost:8080/"
        },
        "id": "4cl5nIh2lgHl",
        "outputId": "a87f1351-9e4c-44d3-9e6f-559892f13e3e"
      },
      "execution_count": 16,
      "outputs": [
        {
          "output_type": "stream",
          "name": "stdout",
          "text": [
            "<class 'pandas.core.frame.DataFrame'>\n",
            "RangeIndex: 154 entries, 0 to 153\n",
            "Data columns (total 6 columns):\n",
            " #   Column        Non-Null Count  Dtype \n",
            "---  ------        --------------  ----- \n",
            " 0   IPO Date      154 non-null    object\n",
            " 1   Symbol        154 non-null    object\n",
            " 2   Company Name  154 non-null    object\n",
            " 3   IPO Price     154 non-null    object\n",
            " 4   Current       154 non-null    object\n",
            " 5   Return        154 non-null    object\n",
            "dtypes: object(6)\n",
            "memory usage: 7.3+ KB\n"
          ]
        }
      ]
    },
    {
      "cell_type": "code",
      "source": [
        "url = \"https://stockanalysis.com/ipos/2024/\"\n",
        "response = requests.get(url, headers=headers)\n",
        "\n",
        "ipo_dfs = pd.read_html(response.text)\n",
        ""
      ],
      "metadata": {
        "id": "w27TEZN0lj1g"
      },
      "execution_count": 17,
      "outputs": []
    },
    {
      "cell_type": "code",
      "source": [
        "ipos_2024 = ipo_dfs[0]\n",
        "ipos_2024.info()\n",
        ""
      ],
      "metadata": {
        "colab": {
          "base_uri": "https://localhost:8080/"
        },
        "id": "b81SOJbDlnHC",
        "outputId": "5249de93-69ff-4d30-ed22-25fe8c58e620"
      },
      "execution_count": 18,
      "outputs": [
        {
          "output_type": "stream",
          "name": "stdout",
          "text": [
            "<class 'pandas.core.frame.DataFrame'>\n",
            "RangeIndex: 67 entries, 0 to 66\n",
            "Data columns (total 6 columns):\n",
            " #   Column        Non-Null Count  Dtype \n",
            "---  ------        --------------  ----- \n",
            " 0   IPO Date      67 non-null     object\n",
            " 1   Symbol        67 non-null     object\n",
            " 2   Company Name  67 non-null     object\n",
            " 3   IPO Price     67 non-null     object\n",
            " 4   Current       67 non-null     object\n",
            " 5   Return        67 non-null     object\n",
            "dtypes: object(6)\n",
            "memory usage: 3.3+ KB\n"
          ]
        }
      ]
    },
    {
      "cell_type": "code",
      "source": [
        "# \"stacking dataframes\"\n",
        "# pd.concat() is used to concatenate the DataFrames vertically.\n",
        "# The ignore_index=True parameter ensures that the resulting DataFrame has a new index,\n",
        "# ignoring the original indices of the input DataFrames.\n",
        "# The stacked_df now contains the concatenated DataFrame.\n",
        "stacked_ipos_df = pd.concat([ipos_2024, ipos_2023], ignore_index=True)"
      ],
      "metadata": {
        "id": "MHDkOZeGlp20"
      },
      "execution_count": 19,
      "outputs": []
    },
    {
      "cell_type": "code",
      "source": [
        "stacked_ipos_df.head(1)"
      ],
      "metadata": {
        "colab": {
          "base_uri": "https://localhost:8080/",
          "height": 80
        },
        "id": "jRyKBtrQlvEz",
        "outputId": "8a673037-953d-4f28-9a3a-30155cd4e49e"
      },
      "execution_count": 20,
      "outputs": [
        {
          "output_type": "execute_result",
          "data": {
            "text/plain": [
              "      IPO Date Symbol         Company Name IPO Price Current Return\n",
              "0  May 9, 2024   SVCO  Silvaco Group, Inc.    $19.00  $19.25  7.68%"
            ],
            "text/html": [
              "\n",
              "  <div id=\"df-1d6ae79a-2895-4191-8f6a-19cae8cdf7bb\" class=\"colab-df-container\">\n",
              "    <div>\n",
              "<style scoped>\n",
              "    .dataframe tbody tr th:only-of-type {\n",
              "        vertical-align: middle;\n",
              "    }\n",
              "\n",
              "    .dataframe tbody tr th {\n",
              "        vertical-align: top;\n",
              "    }\n",
              "\n",
              "    .dataframe thead th {\n",
              "        text-align: right;\n",
              "    }\n",
              "</style>\n",
              "<table border=\"1\" class=\"dataframe\">\n",
              "  <thead>\n",
              "    <tr style=\"text-align: right;\">\n",
              "      <th></th>\n",
              "      <th>IPO Date</th>\n",
              "      <th>Symbol</th>\n",
              "      <th>Company Name</th>\n",
              "      <th>IPO Price</th>\n",
              "      <th>Current</th>\n",
              "      <th>Return</th>\n",
              "    </tr>\n",
              "  </thead>\n",
              "  <tbody>\n",
              "    <tr>\n",
              "      <th>0</th>\n",
              "      <td>May 9, 2024</td>\n",
              "      <td>SVCO</td>\n",
              "      <td>Silvaco Group, Inc.</td>\n",
              "      <td>$19.00</td>\n",
              "      <td>$19.25</td>\n",
              "      <td>7.68%</td>\n",
              "    </tr>\n",
              "  </tbody>\n",
              "</table>\n",
              "</div>\n",
              "    <div class=\"colab-df-buttons\">\n",
              "\n",
              "  <div class=\"colab-df-container\">\n",
              "    <button class=\"colab-df-convert\" onclick=\"convertToInteractive('df-1d6ae79a-2895-4191-8f6a-19cae8cdf7bb')\"\n",
              "            title=\"Convert this dataframe to an interactive table.\"\n",
              "            style=\"display:none;\">\n",
              "\n",
              "  <svg xmlns=\"http://www.w3.org/2000/svg\" height=\"24px\" viewBox=\"0 -960 960 960\">\n",
              "    <path d=\"M120-120v-720h720v720H120Zm60-500h600v-160H180v160Zm220 220h160v-160H400v160Zm0 220h160v-160H400v160ZM180-400h160v-160H180v160Zm440 0h160v-160H620v160ZM180-180h160v-160H180v160Zm440 0h160v-160H620v160Z\"/>\n",
              "  </svg>\n",
              "    </button>\n",
              "\n",
              "  <style>\n",
              "    .colab-df-container {\n",
              "      display:flex;\n",
              "      gap: 12px;\n",
              "    }\n",
              "\n",
              "    .colab-df-convert {\n",
              "      background-color: #E8F0FE;\n",
              "      border: none;\n",
              "      border-radius: 50%;\n",
              "      cursor: pointer;\n",
              "      display: none;\n",
              "      fill: #1967D2;\n",
              "      height: 32px;\n",
              "      padding: 0 0 0 0;\n",
              "      width: 32px;\n",
              "    }\n",
              "\n",
              "    .colab-df-convert:hover {\n",
              "      background-color: #E2EBFA;\n",
              "      box-shadow: 0px 1px 2px rgba(60, 64, 67, 0.3), 0px 1px 3px 1px rgba(60, 64, 67, 0.15);\n",
              "      fill: #174EA6;\n",
              "    }\n",
              "\n",
              "    .colab-df-buttons div {\n",
              "      margin-bottom: 4px;\n",
              "    }\n",
              "\n",
              "    [theme=dark] .colab-df-convert {\n",
              "      background-color: #3B4455;\n",
              "      fill: #D2E3FC;\n",
              "    }\n",
              "\n",
              "    [theme=dark] .colab-df-convert:hover {\n",
              "      background-color: #434B5C;\n",
              "      box-shadow: 0px 1px 3px 1px rgba(0, 0, 0, 0.15);\n",
              "      filter: drop-shadow(0px 1px 2px rgba(0, 0, 0, 0.3));\n",
              "      fill: #FFFFFF;\n",
              "    }\n",
              "  </style>\n",
              "\n",
              "    <script>\n",
              "      const buttonEl =\n",
              "        document.querySelector('#df-1d6ae79a-2895-4191-8f6a-19cae8cdf7bb button.colab-df-convert');\n",
              "      buttonEl.style.display =\n",
              "        google.colab.kernel.accessAllowed ? 'block' : 'none';\n",
              "\n",
              "      async function convertToInteractive(key) {\n",
              "        const element = document.querySelector('#df-1d6ae79a-2895-4191-8f6a-19cae8cdf7bb');\n",
              "        const dataTable =\n",
              "          await google.colab.kernel.invokeFunction('convertToInteractive',\n",
              "                                                    [key], {});\n",
              "        if (!dataTable) return;\n",
              "\n",
              "        const docLinkHtml = 'Like what you see? Visit the ' +\n",
              "          '<a target=\"_blank\" href=https://colab.research.google.com/notebooks/data_table.ipynb>data table notebook</a>'\n",
              "          + ' to learn more about interactive tables.';\n",
              "        element.innerHTML = '';\n",
              "        dataTable['output_type'] = 'display_data';\n",
              "        await google.colab.output.renderOutput(dataTable, element);\n",
              "        const docLink = document.createElement('div');\n",
              "        docLink.innerHTML = docLinkHtml;\n",
              "        element.appendChild(docLink);\n",
              "      }\n",
              "    </script>\n",
              "  </div>\n",
              "\n",
              "    </div>\n",
              "  </div>\n"
            ],
            "application/vnd.google.colaboratory.intrinsic+json": {
              "type": "dataframe",
              "variable_name": "stacked_ipos_df",
              "summary": "{\n  \"name\": \"stacked_ipos_df\",\n  \"rows\": 221,\n  \"fields\": [\n    {\n      \"column\": \"IPO Date\",\n      \"properties\": {\n        \"dtype\": \"string\",\n        \"num_unique_values\": 141,\n        \"samples\": [\n          \"Sep 27, 2023\",\n          \"Apr 21, 2023\",\n          \"Feb 6, 2024\"\n        ],\n        \"semantic_type\": \"\",\n        \"description\": \"\"\n      }\n    },\n    {\n      \"column\": \"Symbol\",\n      \"properties\": {\n        \"dtype\": \"string\",\n        \"num_unique_values\": 221,\n        \"samples\": [\n          \"ELWS\",\n          \"BUJA\",\n          \"BIRK\"\n        ],\n        \"semantic_type\": \"\",\n        \"description\": \"\"\n      }\n    },\n    {\n      \"column\": \"Company Name\",\n      \"properties\": {\n        \"dtype\": \"string\",\n        \"num_unique_values\": 221,\n        \"samples\": [\n          \"Earlyworks Co., Ltd\",\n          \"Bukit Jalil Global Acquisition 1 Ltd\",\n          \"Birkenstock Holding plc\"\n        ],\n        \"semantic_type\": \"\",\n        \"description\": \"\"\n      }\n    },\n    {\n      \"column\": \"IPO Price\",\n      \"properties\": {\n        \"dtype\": \"category\",\n        \"num_unique_values\": 50,\n        \"samples\": [\n          \"$34.00\",\n          \"$14.00\",\n          \"$4.13\"\n        ],\n        \"semantic_type\": \"\",\n        \"description\": \"\"\n      }\n    },\n    {\n      \"column\": \"Current\",\n      \"properties\": {\n        \"dtype\": \"string\",\n        \"num_unique_values\": 201,\n        \"samples\": [\n          \"$0.20\",\n          \"$3.30\",\n          \"$10.32\"\n        ],\n        \"semantic_type\": \"\",\n        \"description\": \"\"\n      }\n    },\n    {\n      \"column\": \"Return\",\n      \"properties\": {\n        \"dtype\": \"string\",\n        \"num_unique_values\": 214,\n        \"samples\": [\n          \"-54.68%\",\n          \"-42.80%\",\n          \"-81.23%\"\n        ],\n        \"semantic_type\": \"\",\n        \"description\": \"\"\n      }\n    }\n  ]\n}"
            }
          },
          "metadata": {},
          "execution_count": 20
        }
      ]
    },
    {
      "cell_type": "code",
      "source": [
        "stacked_ipos_df.info()"
      ],
      "metadata": {
        "colab": {
          "base_uri": "https://localhost:8080/"
        },
        "id": "Tc46I_3TlywB",
        "outputId": "96021805-d561-4857-a854-1ddecd262a36"
      },
      "execution_count": 21,
      "outputs": [
        {
          "output_type": "stream",
          "name": "stdout",
          "text": [
            "<class 'pandas.core.frame.DataFrame'>\n",
            "RangeIndex: 221 entries, 0 to 220\n",
            "Data columns (total 6 columns):\n",
            " #   Column        Non-Null Count  Dtype \n",
            "---  ------        --------------  ----- \n",
            " 0   IPO Date      221 non-null    object\n",
            " 1   Symbol        221 non-null    object\n",
            " 2   Company Name  221 non-null    object\n",
            " 3   IPO Price     221 non-null    object\n",
            " 4   Current       221 non-null    object\n",
            " 5   Return        221 non-null    object\n",
            "dtypes: object(6)\n",
            "memory usage: 10.5+ KB\n"
          ]
        }
      ]
    },
    {
      "cell_type": "code",
      "source": [
        "missing_prices_df = stacked_ipos_df[stacked_ipos_df['IPO Price'].astype(str).str.find('-') >= 0]\n",
        "missing_prices_df"
      ],
      "metadata": {
        "colab": {
          "base_uri": "https://localhost:8080/",
          "height": 53
        },
        "id": "2zE-L1BMl4yY",
        "outputId": "7b3e1808-33e2-45df-b086-b41db6bcfe70"
      },
      "execution_count": 22,
      "outputs": [
        {
          "output_type": "execute_result",
          "data": {
            "text/plain": [
              "Empty DataFrame\n",
              "Columns: [IPO Date, Symbol, Company Name, IPO Price, Current, Return]\n",
              "Index: []"
            ],
            "text/html": [
              "\n",
              "  <div id=\"df-e7f81197-1a41-45a5-9868-5250398983cc\" class=\"colab-df-container\">\n",
              "    <div>\n",
              "<style scoped>\n",
              "    .dataframe tbody tr th:only-of-type {\n",
              "        vertical-align: middle;\n",
              "    }\n",
              "\n",
              "    .dataframe tbody tr th {\n",
              "        vertical-align: top;\n",
              "    }\n",
              "\n",
              "    .dataframe thead th {\n",
              "        text-align: right;\n",
              "    }\n",
              "</style>\n",
              "<table border=\"1\" class=\"dataframe\">\n",
              "  <thead>\n",
              "    <tr style=\"text-align: right;\">\n",
              "      <th></th>\n",
              "      <th>IPO Date</th>\n",
              "      <th>Symbol</th>\n",
              "      <th>Company Name</th>\n",
              "      <th>IPO Price</th>\n",
              "      <th>Current</th>\n",
              "      <th>Return</th>\n",
              "    </tr>\n",
              "  </thead>\n",
              "  <tbody>\n",
              "  </tbody>\n",
              "</table>\n",
              "</div>\n",
              "    <div class=\"colab-df-buttons\">\n",
              "\n",
              "  <div class=\"colab-df-container\">\n",
              "    <button class=\"colab-df-convert\" onclick=\"convertToInteractive('df-e7f81197-1a41-45a5-9868-5250398983cc')\"\n",
              "            title=\"Convert this dataframe to an interactive table.\"\n",
              "            style=\"display:none;\">\n",
              "\n",
              "  <svg xmlns=\"http://www.w3.org/2000/svg\" height=\"24px\" viewBox=\"0 -960 960 960\">\n",
              "    <path d=\"M120-120v-720h720v720H120Zm60-500h600v-160H180v160Zm220 220h160v-160H400v160Zm0 220h160v-160H400v160ZM180-400h160v-160H180v160Zm440 0h160v-160H620v160ZM180-180h160v-160H180v160Zm440 0h160v-160H620v160Z\"/>\n",
              "  </svg>\n",
              "    </button>\n",
              "\n",
              "  <style>\n",
              "    .colab-df-container {\n",
              "      display:flex;\n",
              "      gap: 12px;\n",
              "    }\n",
              "\n",
              "    .colab-df-convert {\n",
              "      background-color: #E8F0FE;\n",
              "      border: none;\n",
              "      border-radius: 50%;\n",
              "      cursor: pointer;\n",
              "      display: none;\n",
              "      fill: #1967D2;\n",
              "      height: 32px;\n",
              "      padding: 0 0 0 0;\n",
              "      width: 32px;\n",
              "    }\n",
              "\n",
              "    .colab-df-convert:hover {\n",
              "      background-color: #E2EBFA;\n",
              "      box-shadow: 0px 1px 2px rgba(60, 64, 67, 0.3), 0px 1px 3px 1px rgba(60, 64, 67, 0.15);\n",
              "      fill: #174EA6;\n",
              "    }\n",
              "\n",
              "    .colab-df-buttons div {\n",
              "      margin-bottom: 4px;\n",
              "    }\n",
              "\n",
              "    [theme=dark] .colab-df-convert {\n",
              "      background-color: #3B4455;\n",
              "      fill: #D2E3FC;\n",
              "    }\n",
              "\n",
              "    [theme=dark] .colab-df-convert:hover {\n",
              "      background-color: #434B5C;\n",
              "      box-shadow: 0px 1px 3px 1px rgba(0, 0, 0, 0.15);\n",
              "      filter: drop-shadow(0px 1px 2px rgba(0, 0, 0, 0.3));\n",
              "      fill: #FFFFFF;\n",
              "    }\n",
              "  </style>\n",
              "\n",
              "    <script>\n",
              "      const buttonEl =\n",
              "        document.querySelector('#df-e7f81197-1a41-45a5-9868-5250398983cc button.colab-df-convert');\n",
              "      buttonEl.style.display =\n",
              "        google.colab.kernel.accessAllowed ? 'block' : 'none';\n",
              "\n",
              "      async function convertToInteractive(key) {\n",
              "        const element = document.querySelector('#df-e7f81197-1a41-45a5-9868-5250398983cc');\n",
              "        const dataTable =\n",
              "          await google.colab.kernel.invokeFunction('convertToInteractive',\n",
              "                                                    [key], {});\n",
              "        if (!dataTable) return;\n",
              "\n",
              "        const docLinkHtml = 'Like what you see? Visit the ' +\n",
              "          '<a target=\"_blank\" href=https://colab.research.google.com/notebooks/data_table.ipynb>data table notebook</a>'\n",
              "          + ' to learn more about interactive tables.';\n",
              "        element.innerHTML = '';\n",
              "        dataTable['output_type'] = 'display_data';\n",
              "        await google.colab.output.renderOutput(dataTable, element);\n",
              "        const docLink = document.createElement('div');\n",
              "        docLink.innerHTML = docLinkHtml;\n",
              "        element.appendChild(docLink);\n",
              "      }\n",
              "    </script>\n",
              "  </div>\n",
              "\n",
              "    </div>\n",
              "  </div>\n"
            ],
            "application/vnd.google.colaboratory.intrinsic+json": {
              "type": "dataframe",
              "variable_name": "missing_prices_df",
              "repr_error": "Out of range float values are not JSON compliant: nan"
            }
          },
          "metadata": {},
          "execution_count": 22
        }
      ]
    },
    {
      "cell_type": "code",
      "source": [
        "stacked_ipos_df['IPO Price'] = pd.to_numeric(stacked_ipos_df['IPO Price'].str.replace('$', ''), errors='coerce')\n",
        "stacked_ipos_df['IPO Price'] = pd.to_numeric(stacked_ipos_df['IPO Price'])"
      ],
      "metadata": {
        "id": "CC7BqDo_l7P4"
      },
      "execution_count": 23,
      "outputs": []
    },
    {
      "cell_type": "code",
      "source": [
        "# Convert \"Current\" column\n",
        "stacked_ipos_df['Current'] = pd.to_numeric(stacked_ipos_df['Current'].str.replace('$', ''), errors='coerce')\n",
        "\n",
        "# Convert 'Return' to numeric format (percentage)\n",
        "stacked_ipos_df['Return'] = pd.to_numeric(stacked_ipos_df['Return'].str.replace('%', ''), errors='coerce') / 100"
      ],
      "metadata": {
        "id": "eREUIdSsl_80"
      },
      "execution_count": 24,
      "outputs": []
    },
    {
      "cell_type": "code",
      "source": [
        "stacked_ipos_df.isnull().sum()"
      ],
      "metadata": {
        "colab": {
          "base_uri": "https://localhost:8080/"
        },
        "id": "1aVIqM_MmDKI",
        "outputId": "7754efa7-32b6-4686-ecf7-ad4dc7aa7275"
      },
      "execution_count": 25,
      "outputs": [
        {
          "output_type": "execute_result",
          "data": {
            "text/plain": [
              "IPO Date        0\n",
              "Symbol          0\n",
              "Company Name    0\n",
              "IPO Price       0\n",
              "Current         0\n",
              "Return          2\n",
              "dtype: int64"
            ]
          },
          "metadata": {},
          "execution_count": 25
        }
      ]
    },
    {
      "cell_type": "code",
      "source": [
        "stacked_ipos_df[stacked_ipos_df.Return.isnull()]"
      ],
      "metadata": {
        "colab": {
          "base_uri": "https://localhost:8080/",
          "height": 112
        },
        "id": "suGOEyO-mH68",
        "outputId": "7a009feb-4d07-4492-eea8-9b220916e52d"
      },
      "execution_count": 26,
      "outputs": [
        {
          "output_type": "execute_result",
          "data": {
            "text/plain": [
              "         IPO Date Symbol     Company Name  IPO Price  Current  Return\n",
              "7    Apr 25, 2024    MRX  Marex Group plc      19.00    19.19     NaN\n",
              "199  Feb 15, 2023   GXAI    Gaxos.ai Inc.       4.15     4.10     NaN"
            ],
            "text/html": [
              "\n",
              "  <div id=\"df-79ee96df-52ce-43b2-bacf-6622cbd1dd9a\" class=\"colab-df-container\">\n",
              "    <div>\n",
              "<style scoped>\n",
              "    .dataframe tbody tr th:only-of-type {\n",
              "        vertical-align: middle;\n",
              "    }\n",
              "\n",
              "    .dataframe tbody tr th {\n",
              "        vertical-align: top;\n",
              "    }\n",
              "\n",
              "    .dataframe thead th {\n",
              "        text-align: right;\n",
              "    }\n",
              "</style>\n",
              "<table border=\"1\" class=\"dataframe\">\n",
              "  <thead>\n",
              "    <tr style=\"text-align: right;\">\n",
              "      <th></th>\n",
              "      <th>IPO Date</th>\n",
              "      <th>Symbol</th>\n",
              "      <th>Company Name</th>\n",
              "      <th>IPO Price</th>\n",
              "      <th>Current</th>\n",
              "      <th>Return</th>\n",
              "    </tr>\n",
              "  </thead>\n",
              "  <tbody>\n",
              "    <tr>\n",
              "      <th>7</th>\n",
              "      <td>Apr 25, 2024</td>\n",
              "      <td>MRX</td>\n",
              "      <td>Marex Group plc</td>\n",
              "      <td>19.00</td>\n",
              "      <td>19.19</td>\n",
              "      <td>NaN</td>\n",
              "    </tr>\n",
              "    <tr>\n",
              "      <th>199</th>\n",
              "      <td>Feb 15, 2023</td>\n",
              "      <td>GXAI</td>\n",
              "      <td>Gaxos.ai Inc.</td>\n",
              "      <td>4.15</td>\n",
              "      <td>4.10</td>\n",
              "      <td>NaN</td>\n",
              "    </tr>\n",
              "  </tbody>\n",
              "</table>\n",
              "</div>\n",
              "    <div class=\"colab-df-buttons\">\n",
              "\n",
              "  <div class=\"colab-df-container\">\n",
              "    <button class=\"colab-df-convert\" onclick=\"convertToInteractive('df-79ee96df-52ce-43b2-bacf-6622cbd1dd9a')\"\n",
              "            title=\"Convert this dataframe to an interactive table.\"\n",
              "            style=\"display:none;\">\n",
              "\n",
              "  <svg xmlns=\"http://www.w3.org/2000/svg\" height=\"24px\" viewBox=\"0 -960 960 960\">\n",
              "    <path d=\"M120-120v-720h720v720H120Zm60-500h600v-160H180v160Zm220 220h160v-160H400v160Zm0 220h160v-160H400v160ZM180-400h160v-160H180v160Zm440 0h160v-160H620v160ZM180-180h160v-160H180v160Zm440 0h160v-160H620v160Z\"/>\n",
              "  </svg>\n",
              "    </button>\n",
              "\n",
              "  <style>\n",
              "    .colab-df-container {\n",
              "      display:flex;\n",
              "      gap: 12px;\n",
              "    }\n",
              "\n",
              "    .colab-df-convert {\n",
              "      background-color: #E8F0FE;\n",
              "      border: none;\n",
              "      border-radius: 50%;\n",
              "      cursor: pointer;\n",
              "      display: none;\n",
              "      fill: #1967D2;\n",
              "      height: 32px;\n",
              "      padding: 0 0 0 0;\n",
              "      width: 32px;\n",
              "    }\n",
              "\n",
              "    .colab-df-convert:hover {\n",
              "      background-color: #E2EBFA;\n",
              "      box-shadow: 0px 1px 2px rgba(60, 64, 67, 0.3), 0px 1px 3px 1px rgba(60, 64, 67, 0.15);\n",
              "      fill: #174EA6;\n",
              "    }\n",
              "\n",
              "    .colab-df-buttons div {\n",
              "      margin-bottom: 4px;\n",
              "    }\n",
              "\n",
              "    [theme=dark] .colab-df-convert {\n",
              "      background-color: #3B4455;\n",
              "      fill: #D2E3FC;\n",
              "    }\n",
              "\n",
              "    [theme=dark] .colab-df-convert:hover {\n",
              "      background-color: #434B5C;\n",
              "      box-shadow: 0px 1px 3px 1px rgba(0, 0, 0, 0.15);\n",
              "      filter: drop-shadow(0px 1px 2px rgba(0, 0, 0, 0.3));\n",
              "      fill: #FFFFFF;\n",
              "    }\n",
              "  </style>\n",
              "\n",
              "    <script>\n",
              "      const buttonEl =\n",
              "        document.querySelector('#df-79ee96df-52ce-43b2-bacf-6622cbd1dd9a button.colab-df-convert');\n",
              "      buttonEl.style.display =\n",
              "        google.colab.kernel.accessAllowed ? 'block' : 'none';\n",
              "\n",
              "      async function convertToInteractive(key) {\n",
              "        const element = document.querySelector('#df-79ee96df-52ce-43b2-bacf-6622cbd1dd9a');\n",
              "        const dataTable =\n",
              "          await google.colab.kernel.invokeFunction('convertToInteractive',\n",
              "                                                    [key], {});\n",
              "        if (!dataTable) return;\n",
              "\n",
              "        const docLinkHtml = 'Like what you see? Visit the ' +\n",
              "          '<a target=\"_blank\" href=https://colab.research.google.com/notebooks/data_table.ipynb>data table notebook</a>'\n",
              "          + ' to learn more about interactive tables.';\n",
              "        element.innerHTML = '';\n",
              "        dataTable['output_type'] = 'display_data';\n",
              "        await google.colab.output.renderOutput(dataTable, element);\n",
              "        const docLink = document.createElement('div');\n",
              "        docLink.innerHTML = docLinkHtml;\n",
              "        element.appendChild(docLink);\n",
              "      }\n",
              "    </script>\n",
              "  </div>\n",
              "\n",
              "\n",
              "<div id=\"df-b5d4dba4-55c6-4f02-9f5d-80f0d1a08283\">\n",
              "  <button class=\"colab-df-quickchart\" onclick=\"quickchart('df-b5d4dba4-55c6-4f02-9f5d-80f0d1a08283')\"\n",
              "            title=\"Suggest charts\"\n",
              "            style=\"display:none;\">\n",
              "\n",
              "<svg xmlns=\"http://www.w3.org/2000/svg\" height=\"24px\"viewBox=\"0 0 24 24\"\n",
              "     width=\"24px\">\n",
              "    <g>\n",
              "        <path d=\"M19 3H5c-1.1 0-2 .9-2 2v14c0 1.1.9 2 2 2h14c1.1 0 2-.9 2-2V5c0-1.1-.9-2-2-2zM9 17H7v-7h2v7zm4 0h-2V7h2v10zm4 0h-2v-4h2v4z\"/>\n",
              "    </g>\n",
              "</svg>\n",
              "  </button>\n",
              "\n",
              "<style>\n",
              "  .colab-df-quickchart {\n",
              "      --bg-color: #E8F0FE;\n",
              "      --fill-color: #1967D2;\n",
              "      --hover-bg-color: #E2EBFA;\n",
              "      --hover-fill-color: #174EA6;\n",
              "      --disabled-fill-color: #AAA;\n",
              "      --disabled-bg-color: #DDD;\n",
              "  }\n",
              "\n",
              "  [theme=dark] .colab-df-quickchart {\n",
              "      --bg-color: #3B4455;\n",
              "      --fill-color: #D2E3FC;\n",
              "      --hover-bg-color: #434B5C;\n",
              "      --hover-fill-color: #FFFFFF;\n",
              "      --disabled-bg-color: #3B4455;\n",
              "      --disabled-fill-color: #666;\n",
              "  }\n",
              "\n",
              "  .colab-df-quickchart {\n",
              "    background-color: var(--bg-color);\n",
              "    border: none;\n",
              "    border-radius: 50%;\n",
              "    cursor: pointer;\n",
              "    display: none;\n",
              "    fill: var(--fill-color);\n",
              "    height: 32px;\n",
              "    padding: 0;\n",
              "    width: 32px;\n",
              "  }\n",
              "\n",
              "  .colab-df-quickchart:hover {\n",
              "    background-color: var(--hover-bg-color);\n",
              "    box-shadow: 0 1px 2px rgba(60, 64, 67, 0.3), 0 1px 3px 1px rgba(60, 64, 67, 0.15);\n",
              "    fill: var(--button-hover-fill-color);\n",
              "  }\n",
              "\n",
              "  .colab-df-quickchart-complete:disabled,\n",
              "  .colab-df-quickchart-complete:disabled:hover {\n",
              "    background-color: var(--disabled-bg-color);\n",
              "    fill: var(--disabled-fill-color);\n",
              "    box-shadow: none;\n",
              "  }\n",
              "\n",
              "  .colab-df-spinner {\n",
              "    border: 2px solid var(--fill-color);\n",
              "    border-color: transparent;\n",
              "    border-bottom-color: var(--fill-color);\n",
              "    animation:\n",
              "      spin 1s steps(1) infinite;\n",
              "  }\n",
              "\n",
              "  @keyframes spin {\n",
              "    0% {\n",
              "      border-color: transparent;\n",
              "      border-bottom-color: var(--fill-color);\n",
              "      border-left-color: var(--fill-color);\n",
              "    }\n",
              "    20% {\n",
              "      border-color: transparent;\n",
              "      border-left-color: var(--fill-color);\n",
              "      border-top-color: var(--fill-color);\n",
              "    }\n",
              "    30% {\n",
              "      border-color: transparent;\n",
              "      border-left-color: var(--fill-color);\n",
              "      border-top-color: var(--fill-color);\n",
              "      border-right-color: var(--fill-color);\n",
              "    }\n",
              "    40% {\n",
              "      border-color: transparent;\n",
              "      border-right-color: var(--fill-color);\n",
              "      border-top-color: var(--fill-color);\n",
              "    }\n",
              "    60% {\n",
              "      border-color: transparent;\n",
              "      border-right-color: var(--fill-color);\n",
              "    }\n",
              "    80% {\n",
              "      border-color: transparent;\n",
              "      border-right-color: var(--fill-color);\n",
              "      border-bottom-color: var(--fill-color);\n",
              "    }\n",
              "    90% {\n",
              "      border-color: transparent;\n",
              "      border-bottom-color: var(--fill-color);\n",
              "    }\n",
              "  }\n",
              "</style>\n",
              "\n",
              "  <script>\n",
              "    async function quickchart(key) {\n",
              "      const quickchartButtonEl =\n",
              "        document.querySelector('#' + key + ' button');\n",
              "      quickchartButtonEl.disabled = true;  // To prevent multiple clicks.\n",
              "      quickchartButtonEl.classList.add('colab-df-spinner');\n",
              "      try {\n",
              "        const charts = await google.colab.kernel.invokeFunction(\n",
              "            'suggestCharts', [key], {});\n",
              "      } catch (error) {\n",
              "        console.error('Error during call to suggestCharts:', error);\n",
              "      }\n",
              "      quickchartButtonEl.classList.remove('colab-df-spinner');\n",
              "      quickchartButtonEl.classList.add('colab-df-quickchart-complete');\n",
              "    }\n",
              "    (() => {\n",
              "      let quickchartButtonEl =\n",
              "        document.querySelector('#df-b5d4dba4-55c6-4f02-9f5d-80f0d1a08283 button');\n",
              "      quickchartButtonEl.style.display =\n",
              "        google.colab.kernel.accessAllowed ? 'block' : 'none';\n",
              "    })();\n",
              "  </script>\n",
              "</div>\n",
              "    </div>\n",
              "  </div>\n"
            ],
            "application/vnd.google.colaboratory.intrinsic+json": {
              "type": "dataframe",
              "repr_error": "0"
            }
          },
          "metadata": {},
          "execution_count": 26
        }
      ]
    },
    {
      "cell_type": "code",
      "source": [
        "stacked_ipos_df['IPO Price'].mean()"
      ],
      "metadata": {
        "colab": {
          "base_uri": "https://localhost:8080/"
        },
        "id": "7liSfwdRmMLC",
        "outputId": "9a31a0b1-9c1a-4ffa-f584-fd0416735198"
      },
      "execution_count": 27,
      "outputs": [
        {
          "output_type": "execute_result",
          "data": {
            "text/plain": [
              "11.082036199095024"
            ]
          },
          "metadata": {},
          "execution_count": 27
        }
      ]
    },
    {
      "cell_type": "code",
      "source": [
        "print(stacked_ipos_df)"
      ],
      "metadata": {
        "colab": {
          "base_uri": "https://localhost:8080/"
        },
        "id": "nHliNe-kmPoi",
        "outputId": "cf72b094-41ee-4872-d388-0d196f47edcb"
      },
      "execution_count": 28,
      "outputs": [
        {
          "output_type": "stream",
          "name": "stdout",
          "text": [
            "         IPO Date Symbol                             Company Name  IPO Price  \\\n",
            "0     May 9, 2024   SVCO                      Silvaco Group, Inc.       19.0   \n",
            "1     May 9, 2024    PAL          Proficient Auto Logistics, Inc.       15.0   \n",
            "2     May 8, 2024    NNE                 Nano Nuclear Energy Inc.        4.0   \n",
            "3     May 1, 2024    VIK                     Viking Holdings Ltd.       24.0   \n",
            "4    Apr 26, 2024   ZONE                CleanCore Solutions, Inc.        4.0   \n",
            "..            ...    ...                                      ...        ...   \n",
            "216  Jan 25, 2023    QSG                     QuantaSing Group Ltd       12.5   \n",
            "217  Jan 20, 2023   CVKD              Cadrenal Therapeutics, Inc.        5.0   \n",
            "218  Jan 13, 2023   SKWD  Skyward Specialty Insurance Group, Inc.       15.0   \n",
            "219  Jan 13, 2023   ISRL                 Israel Acquisitions Corp       10.0   \n",
            "220  Jan 13, 2023   MGOL                          MGO Global Inc.        5.0   \n",
            "\n",
            "     Current  Return  \n",
            "0      19.25  0.0768  \n",
            "1      14.79 -0.0090  \n",
            "2       5.26  0.3475  \n",
            "3      28.62  0.1954  \n",
            "4       3.15 -0.2075  \n",
            "..       ...     ...  \n",
            "216     3.18 -0.7480  \n",
            "217     0.48 -0.9040  \n",
            "218    37.26  1.4603  \n",
            "219    10.93  0.0930  \n",
            "220     0.22 -0.9560  \n",
            "\n",
            "[221 rows x 6 columns]\n"
          ]
        }
      ]
    },
    {
      "cell_type": "code",
      "source": [
        "formats = [\"%b %d, %Y\", \"%Y-%m-%d\", \"%m/%d/%Y\", \"%B %d, %Y\"]\n",
        "for fmt in formats:\n",
        "    try:\n",
        "        stacked_ipos_df['IPO Date'] = pd.to_datetime(stacked_ipos_df['IPO Date'], format=fmt)\n",
        "        break  # Stop looping if conversion succeeds\n",
        "    except ValueError:\n",
        "        continue  # Continue to the next format if conversion fails\n",
        "\n",
        "print(stacked_ipos_df)"
      ],
      "metadata": {
        "colab": {
          "base_uri": "https://localhost:8080/"
        },
        "id": "gwpULFfomRd9",
        "outputId": "681f8b7d-a449-4bd4-ae20-2bd2a33a96f4"
      },
      "execution_count": 29,
      "outputs": [
        {
          "output_type": "stream",
          "name": "stdout",
          "text": [
            "      IPO Date Symbol                             Company Name  IPO Price  \\\n",
            "0   2024-05-09   SVCO                      Silvaco Group, Inc.       19.0   \n",
            "1   2024-05-09    PAL          Proficient Auto Logistics, Inc.       15.0   \n",
            "2   2024-05-08    NNE                 Nano Nuclear Energy Inc.        4.0   \n",
            "3   2024-05-01    VIK                     Viking Holdings Ltd.       24.0   \n",
            "4   2024-04-26   ZONE                CleanCore Solutions, Inc.        4.0   \n",
            "..         ...    ...                                      ...        ...   \n",
            "216 2023-01-25    QSG                     QuantaSing Group Ltd       12.5   \n",
            "217 2023-01-20   CVKD              Cadrenal Therapeutics, Inc.        5.0   \n",
            "218 2023-01-13   SKWD  Skyward Specialty Insurance Group, Inc.       15.0   \n",
            "219 2023-01-13   ISRL                 Israel Acquisitions Corp       10.0   \n",
            "220 2023-01-13   MGOL                          MGO Global Inc.        5.0   \n",
            "\n",
            "     Current  Return  \n",
            "0      19.25  0.0768  \n",
            "1      14.79 -0.0090  \n",
            "2       5.26  0.3475  \n",
            "3      28.62  0.1954  \n",
            "4       3.15 -0.2075  \n",
            "..       ...     ...  \n",
            "216     3.18 -0.7480  \n",
            "217     0.48 -0.9040  \n",
            "218    37.26  1.4603  \n",
            "219    10.93  0.0930  \n",
            "220     0.22 -0.9560  \n",
            "\n",
            "[221 rows x 6 columns]\n"
          ]
        }
      ]
    },
    {
      "cell_type": "code",
      "source": [
        "# Get all OHLCV daily prices for all stocks with an \"IPO date\" before March 1, 2024 (\"< 2024-03-01\")\n",
        "# - 184 tickers (without 'RYZB'). Please remove 'RYZB', as it is no longer available on Yahoo Finance.\n",
        "\n",
        "ipo_filter = stacked_ipos_df[stacked_ipos_df['IPO Date'] <= '2024-03-01']\n",
        "ipo_filter = ipo_filter[ipo_filter.Symbol != 'RYZB']\n",
        "ipo_filter"
      ],
      "metadata": {
        "colab": {
          "base_uri": "https://localhost:8080/",
          "height": 423
        },
        "id": "3LyrvhjamUXl",
        "outputId": "daf2ddc7-dd0a-4155-a4ec-2b6a5f897507"
      },
      "execution_count": 30,
      "outputs": [
        {
          "output_type": "execute_result",
          "data": {
            "text/plain": [
              "      IPO Date Symbol                             Company Name  IPO Price  \\\n",
              "36  2024-02-27   SMXT                SolarMax Technology, Inc.       4.00   \n",
              "37  2024-02-22   VHAI                    Vocodia Holdings Corp       4.25   \n",
              "38  2024-02-21   DYCQ         DT Cloud Acquisition Corporation      10.00   \n",
              "39  2024-02-16   CHRO             Chromocell Therapeutics Corp       6.00   \n",
              "40  2024-02-14   UMAC                   Unusual Machines, Inc.       4.00   \n",
              "..         ...    ...                                      ...        ...   \n",
              "216 2023-01-25    QSG                     QuantaSing Group Ltd      12.50   \n",
              "217 2023-01-20   CVKD              Cadrenal Therapeutics, Inc.       5.00   \n",
              "218 2023-01-13   SKWD  Skyward Specialty Insurance Group, Inc.      15.00   \n",
              "219 2023-01-13   ISRL                 Israel Acquisitions Corp      10.00   \n",
              "220 2023-01-13   MGOL                          MGO Global Inc.       5.00   \n",
              "\n",
              "     Current  Return  \n",
              "36     10.88  1.7125  \n",
              "37      0.14 -0.9673  \n",
              "38     10.16  0.0160  \n",
              "39      1.75 -0.7083  \n",
              "40      1.10 -0.7375  \n",
              "..       ...     ...  \n",
              "216     3.18 -0.7480  \n",
              "217     0.48 -0.9040  \n",
              "218    37.26  1.4603  \n",
              "219    10.93  0.0930  \n",
              "220     0.22 -0.9560  \n",
              "\n",
              "[184 rows x 6 columns]"
            ],
            "text/html": [
              "\n",
              "  <div id=\"df-92714c52-4274-42af-aaca-16203e180522\" class=\"colab-df-container\">\n",
              "    <div>\n",
              "<style scoped>\n",
              "    .dataframe tbody tr th:only-of-type {\n",
              "        vertical-align: middle;\n",
              "    }\n",
              "\n",
              "    .dataframe tbody tr th {\n",
              "        vertical-align: top;\n",
              "    }\n",
              "\n",
              "    .dataframe thead th {\n",
              "        text-align: right;\n",
              "    }\n",
              "</style>\n",
              "<table border=\"1\" class=\"dataframe\">\n",
              "  <thead>\n",
              "    <tr style=\"text-align: right;\">\n",
              "      <th></th>\n",
              "      <th>IPO Date</th>\n",
              "      <th>Symbol</th>\n",
              "      <th>Company Name</th>\n",
              "      <th>IPO Price</th>\n",
              "      <th>Current</th>\n",
              "      <th>Return</th>\n",
              "    </tr>\n",
              "  </thead>\n",
              "  <tbody>\n",
              "    <tr>\n",
              "      <th>36</th>\n",
              "      <td>2024-02-27</td>\n",
              "      <td>SMXT</td>\n",
              "      <td>SolarMax Technology, Inc.</td>\n",
              "      <td>4.00</td>\n",
              "      <td>10.88</td>\n",
              "      <td>1.7125</td>\n",
              "    </tr>\n",
              "    <tr>\n",
              "      <th>37</th>\n",
              "      <td>2024-02-22</td>\n",
              "      <td>VHAI</td>\n",
              "      <td>Vocodia Holdings Corp</td>\n",
              "      <td>4.25</td>\n",
              "      <td>0.14</td>\n",
              "      <td>-0.9673</td>\n",
              "    </tr>\n",
              "    <tr>\n",
              "      <th>38</th>\n",
              "      <td>2024-02-21</td>\n",
              "      <td>DYCQ</td>\n",
              "      <td>DT Cloud Acquisition Corporation</td>\n",
              "      <td>10.00</td>\n",
              "      <td>10.16</td>\n",
              "      <td>0.0160</td>\n",
              "    </tr>\n",
              "    <tr>\n",
              "      <th>39</th>\n",
              "      <td>2024-02-16</td>\n",
              "      <td>CHRO</td>\n",
              "      <td>Chromocell Therapeutics Corp</td>\n",
              "      <td>6.00</td>\n",
              "      <td>1.75</td>\n",
              "      <td>-0.7083</td>\n",
              "    </tr>\n",
              "    <tr>\n",
              "      <th>40</th>\n",
              "      <td>2024-02-14</td>\n",
              "      <td>UMAC</td>\n",
              "      <td>Unusual Machines, Inc.</td>\n",
              "      <td>4.00</td>\n",
              "      <td>1.10</td>\n",
              "      <td>-0.7375</td>\n",
              "    </tr>\n",
              "    <tr>\n",
              "      <th>...</th>\n",
              "      <td>...</td>\n",
              "      <td>...</td>\n",
              "      <td>...</td>\n",
              "      <td>...</td>\n",
              "      <td>...</td>\n",
              "      <td>...</td>\n",
              "    </tr>\n",
              "    <tr>\n",
              "      <th>216</th>\n",
              "      <td>2023-01-25</td>\n",
              "      <td>QSG</td>\n",
              "      <td>QuantaSing Group Ltd</td>\n",
              "      <td>12.50</td>\n",
              "      <td>3.18</td>\n",
              "      <td>-0.7480</td>\n",
              "    </tr>\n",
              "    <tr>\n",
              "      <th>217</th>\n",
              "      <td>2023-01-20</td>\n",
              "      <td>CVKD</td>\n",
              "      <td>Cadrenal Therapeutics, Inc.</td>\n",
              "      <td>5.00</td>\n",
              "      <td>0.48</td>\n",
              "      <td>-0.9040</td>\n",
              "    </tr>\n",
              "    <tr>\n",
              "      <th>218</th>\n",
              "      <td>2023-01-13</td>\n",
              "      <td>SKWD</td>\n",
              "      <td>Skyward Specialty Insurance Group, Inc.</td>\n",
              "      <td>15.00</td>\n",
              "      <td>37.26</td>\n",
              "      <td>1.4603</td>\n",
              "    </tr>\n",
              "    <tr>\n",
              "      <th>219</th>\n",
              "      <td>2023-01-13</td>\n",
              "      <td>ISRL</td>\n",
              "      <td>Israel Acquisitions Corp</td>\n",
              "      <td>10.00</td>\n",
              "      <td>10.93</td>\n",
              "      <td>0.0930</td>\n",
              "    </tr>\n",
              "    <tr>\n",
              "      <th>220</th>\n",
              "      <td>2023-01-13</td>\n",
              "      <td>MGOL</td>\n",
              "      <td>MGO Global Inc.</td>\n",
              "      <td>5.00</td>\n",
              "      <td>0.22</td>\n",
              "      <td>-0.9560</td>\n",
              "    </tr>\n",
              "  </tbody>\n",
              "</table>\n",
              "<p>184 rows × 6 columns</p>\n",
              "</div>\n",
              "    <div class=\"colab-df-buttons\">\n",
              "\n",
              "  <div class=\"colab-df-container\">\n",
              "    <button class=\"colab-df-convert\" onclick=\"convertToInteractive('df-92714c52-4274-42af-aaca-16203e180522')\"\n",
              "            title=\"Convert this dataframe to an interactive table.\"\n",
              "            style=\"display:none;\">\n",
              "\n",
              "  <svg xmlns=\"http://www.w3.org/2000/svg\" height=\"24px\" viewBox=\"0 -960 960 960\">\n",
              "    <path d=\"M120-120v-720h720v720H120Zm60-500h600v-160H180v160Zm220 220h160v-160H400v160Zm0 220h160v-160H400v160ZM180-400h160v-160H180v160Zm440 0h160v-160H620v160ZM180-180h160v-160H180v160Zm440 0h160v-160H620v160Z\"/>\n",
              "  </svg>\n",
              "    </button>\n",
              "\n",
              "  <style>\n",
              "    .colab-df-container {\n",
              "      display:flex;\n",
              "      gap: 12px;\n",
              "    }\n",
              "\n",
              "    .colab-df-convert {\n",
              "      background-color: #E8F0FE;\n",
              "      border: none;\n",
              "      border-radius: 50%;\n",
              "      cursor: pointer;\n",
              "      display: none;\n",
              "      fill: #1967D2;\n",
              "      height: 32px;\n",
              "      padding: 0 0 0 0;\n",
              "      width: 32px;\n",
              "    }\n",
              "\n",
              "    .colab-df-convert:hover {\n",
              "      background-color: #E2EBFA;\n",
              "      box-shadow: 0px 1px 2px rgba(60, 64, 67, 0.3), 0px 1px 3px 1px rgba(60, 64, 67, 0.15);\n",
              "      fill: #174EA6;\n",
              "    }\n",
              "\n",
              "    .colab-df-buttons div {\n",
              "      margin-bottom: 4px;\n",
              "    }\n",
              "\n",
              "    [theme=dark] .colab-df-convert {\n",
              "      background-color: #3B4455;\n",
              "      fill: #D2E3FC;\n",
              "    }\n",
              "\n",
              "    [theme=dark] .colab-df-convert:hover {\n",
              "      background-color: #434B5C;\n",
              "      box-shadow: 0px 1px 3px 1px rgba(0, 0, 0, 0.15);\n",
              "      filter: drop-shadow(0px 1px 2px rgba(0, 0, 0, 0.3));\n",
              "      fill: #FFFFFF;\n",
              "    }\n",
              "  </style>\n",
              "\n",
              "    <script>\n",
              "      const buttonEl =\n",
              "        document.querySelector('#df-92714c52-4274-42af-aaca-16203e180522 button.colab-df-convert');\n",
              "      buttonEl.style.display =\n",
              "        google.colab.kernel.accessAllowed ? 'block' : 'none';\n",
              "\n",
              "      async function convertToInteractive(key) {\n",
              "        const element = document.querySelector('#df-92714c52-4274-42af-aaca-16203e180522');\n",
              "        const dataTable =\n",
              "          await google.colab.kernel.invokeFunction('convertToInteractive',\n",
              "                                                    [key], {});\n",
              "        if (!dataTable) return;\n",
              "\n",
              "        const docLinkHtml = 'Like what you see? Visit the ' +\n",
              "          '<a target=\"_blank\" href=https://colab.research.google.com/notebooks/data_table.ipynb>data table notebook</a>'\n",
              "          + ' to learn more about interactive tables.';\n",
              "        element.innerHTML = '';\n",
              "        dataTable['output_type'] = 'display_data';\n",
              "        await google.colab.output.renderOutput(dataTable, element);\n",
              "        const docLink = document.createElement('div');\n",
              "        docLink.innerHTML = docLinkHtml;\n",
              "        element.appendChild(docLink);\n",
              "      }\n",
              "    </script>\n",
              "  </div>\n",
              "\n",
              "\n",
              "<div id=\"df-29678306-44d6-43f4-9b53-c3e3324a4cb1\">\n",
              "  <button class=\"colab-df-quickchart\" onclick=\"quickchart('df-29678306-44d6-43f4-9b53-c3e3324a4cb1')\"\n",
              "            title=\"Suggest charts\"\n",
              "            style=\"display:none;\">\n",
              "\n",
              "<svg xmlns=\"http://www.w3.org/2000/svg\" height=\"24px\"viewBox=\"0 0 24 24\"\n",
              "     width=\"24px\">\n",
              "    <g>\n",
              "        <path d=\"M19 3H5c-1.1 0-2 .9-2 2v14c0 1.1.9 2 2 2h14c1.1 0 2-.9 2-2V5c0-1.1-.9-2-2-2zM9 17H7v-7h2v7zm4 0h-2V7h2v10zm4 0h-2v-4h2v4z\"/>\n",
              "    </g>\n",
              "</svg>\n",
              "  </button>\n",
              "\n",
              "<style>\n",
              "  .colab-df-quickchart {\n",
              "      --bg-color: #E8F0FE;\n",
              "      --fill-color: #1967D2;\n",
              "      --hover-bg-color: #E2EBFA;\n",
              "      --hover-fill-color: #174EA6;\n",
              "      --disabled-fill-color: #AAA;\n",
              "      --disabled-bg-color: #DDD;\n",
              "  }\n",
              "\n",
              "  [theme=dark] .colab-df-quickchart {\n",
              "      --bg-color: #3B4455;\n",
              "      --fill-color: #D2E3FC;\n",
              "      --hover-bg-color: #434B5C;\n",
              "      --hover-fill-color: #FFFFFF;\n",
              "      --disabled-bg-color: #3B4455;\n",
              "      --disabled-fill-color: #666;\n",
              "  }\n",
              "\n",
              "  .colab-df-quickchart {\n",
              "    background-color: var(--bg-color);\n",
              "    border: none;\n",
              "    border-radius: 50%;\n",
              "    cursor: pointer;\n",
              "    display: none;\n",
              "    fill: var(--fill-color);\n",
              "    height: 32px;\n",
              "    padding: 0;\n",
              "    width: 32px;\n",
              "  }\n",
              "\n",
              "  .colab-df-quickchart:hover {\n",
              "    background-color: var(--hover-bg-color);\n",
              "    box-shadow: 0 1px 2px rgba(60, 64, 67, 0.3), 0 1px 3px 1px rgba(60, 64, 67, 0.15);\n",
              "    fill: var(--button-hover-fill-color);\n",
              "  }\n",
              "\n",
              "  .colab-df-quickchart-complete:disabled,\n",
              "  .colab-df-quickchart-complete:disabled:hover {\n",
              "    background-color: var(--disabled-bg-color);\n",
              "    fill: var(--disabled-fill-color);\n",
              "    box-shadow: none;\n",
              "  }\n",
              "\n",
              "  .colab-df-spinner {\n",
              "    border: 2px solid var(--fill-color);\n",
              "    border-color: transparent;\n",
              "    border-bottom-color: var(--fill-color);\n",
              "    animation:\n",
              "      spin 1s steps(1) infinite;\n",
              "  }\n",
              "\n",
              "  @keyframes spin {\n",
              "    0% {\n",
              "      border-color: transparent;\n",
              "      border-bottom-color: var(--fill-color);\n",
              "      border-left-color: var(--fill-color);\n",
              "    }\n",
              "    20% {\n",
              "      border-color: transparent;\n",
              "      border-left-color: var(--fill-color);\n",
              "      border-top-color: var(--fill-color);\n",
              "    }\n",
              "    30% {\n",
              "      border-color: transparent;\n",
              "      border-left-color: var(--fill-color);\n",
              "      border-top-color: var(--fill-color);\n",
              "      border-right-color: var(--fill-color);\n",
              "    }\n",
              "    40% {\n",
              "      border-color: transparent;\n",
              "      border-right-color: var(--fill-color);\n",
              "      border-top-color: var(--fill-color);\n",
              "    }\n",
              "    60% {\n",
              "      border-color: transparent;\n",
              "      border-right-color: var(--fill-color);\n",
              "    }\n",
              "    80% {\n",
              "      border-color: transparent;\n",
              "      border-right-color: var(--fill-color);\n",
              "      border-bottom-color: var(--fill-color);\n",
              "    }\n",
              "    90% {\n",
              "      border-color: transparent;\n",
              "      border-bottom-color: var(--fill-color);\n",
              "    }\n",
              "  }\n",
              "</style>\n",
              "\n",
              "  <script>\n",
              "    async function quickchart(key) {\n",
              "      const quickchartButtonEl =\n",
              "        document.querySelector('#' + key + ' button');\n",
              "      quickchartButtonEl.disabled = true;  // To prevent multiple clicks.\n",
              "      quickchartButtonEl.classList.add('colab-df-spinner');\n",
              "      try {\n",
              "        const charts = await google.colab.kernel.invokeFunction(\n",
              "            'suggestCharts', [key], {});\n",
              "      } catch (error) {\n",
              "        console.error('Error during call to suggestCharts:', error);\n",
              "      }\n",
              "      quickchartButtonEl.classList.remove('colab-df-spinner');\n",
              "      quickchartButtonEl.classList.add('colab-df-quickchart-complete');\n",
              "    }\n",
              "    (() => {\n",
              "      let quickchartButtonEl =\n",
              "        document.querySelector('#df-29678306-44d6-43f4-9b53-c3e3324a4cb1 button');\n",
              "      quickchartButtonEl.style.display =\n",
              "        google.colab.kernel.accessAllowed ? 'block' : 'none';\n",
              "    })();\n",
              "  </script>\n",
              "</div>\n",
              "    </div>\n",
              "  </div>\n"
            ],
            "application/vnd.google.colaboratory.intrinsic+json": {
              "type": "dataframe",
              "variable_name": "ipo_filter",
              "summary": "{\n  \"name\": \"ipo_filter\",\n  \"rows\": 184,\n  \"fields\": [\n    {\n      \"column\": \"IPO Date\",\n      \"properties\": {\n        \"dtype\": \"date\",\n        \"min\": \"2023-01-13 00:00:00\",\n        \"max\": \"2024-02-27 00:00:00\",\n        \"num_unique_values\": 118,\n        \"samples\": [\n          \"2023-08-18 00:00:00\",\n          \"2023-04-13 00:00:00\",\n          \"2024-02-14 00:00:00\"\n        ],\n        \"semantic_type\": \"\",\n        \"description\": \"\"\n      }\n    },\n    {\n      \"column\": \"Symbol\",\n      \"properties\": {\n        \"dtype\": \"string\",\n        \"num_unique_values\": 184,\n        \"samples\": [\n          \"HAO\",\n          \"DDC\",\n          \"IZM\"\n        ],\n        \"semantic_type\": \"\",\n        \"description\": \"\"\n      }\n    },\n    {\n      \"column\": \"Company Name\",\n      \"properties\": {\n        \"dtype\": \"string\",\n        \"num_unique_values\": 184,\n        \"samples\": [\n          \"Haoxi Health Technology Ltd.\",\n          \"DDC Enterprise Limited\",\n          \"ICZOOM Group Inc.\"\n        ],\n        \"semantic_type\": \"\",\n        \"description\": \"\"\n      }\n    },\n    {\n      \"column\": \"IPO Price\",\n      \"properties\": {\n        \"dtype\": \"number\",\n        \"std\": 9.89411696453202,\n        \"min\": 2.5,\n        \"max\": 92.0,\n        \"num_unique_values\": 44,\n        \"samples\": [\n          2.5,\n          17.0,\n          51.0\n        ],\n        \"semantic_type\": \"\",\n        \"description\": \"\"\n      }\n    },\n    {\n      \"column\": \"Current\",\n      \"properties\": {\n        \"dtype\": \"number\",\n        \"std\": 15.544225307216843,\n        \"min\": 0.0,\n        \"max\": 122.66,\n        \"num_unique_values\": 167,\n        \"samples\": [\n          19.12,\n          30.29,\n          1.36\n        ],\n        \"semantic_type\": \"\",\n        \"description\": \"\"\n      }\n    },\n    {\n      \"column\": \"Return\",\n      \"properties\": {\n        \"dtype\": \"number\",\n        \"std\": 0.6537857957420806,\n        \"min\": -0.9995999999999999,\n        \"max\": 2.6725,\n        \"num_unique_values\": 178,\n        \"samples\": [\n          0.96,\n          -0.9387000000000001,\n          -0.7240000000000001\n        ],\n        \"semantic_type\": \"\",\n        \"description\": \"\"\n      }\n    }\n  ]\n}"
            }
          },
          "metadata": {},
          "execution_count": 30
        }
      ]
    },
    {
      "cell_type": "code",
      "source": [
        "symbols = ipo_filter['Symbol'].tolist()\n",
        "symbols[symbols.index('PTHR')] = 'PTHRF'\n",
        "symbols"
      ],
      "metadata": {
        "colab": {
          "base_uri": "https://localhost:8080/"
        },
        "id": "rzuILhtjmYPy",
        "outputId": "e1b45258-1f22-4ae1-f420-871b0957c5c3"
      },
      "execution_count": 31,
      "outputs": [
        {
          "output_type": "execute_result",
          "data": {
            "text/plain": [
              "['SMXT',\n",
              " 'VHAI',\n",
              " 'DYCQ',\n",
              " 'CHRO',\n",
              " 'UMAC',\n",
              " 'TBBB',\n",
              " 'MGX',\n",
              " 'HLXB',\n",
              " 'TELO',\n",
              " 'KYTX',\n",
              " 'PMNT',\n",
              " 'AHR',\n",
              " 'LEGT',\n",
              " 'ANRO',\n",
              " 'GUTS',\n",
              " 'AS',\n",
              " 'FBLG',\n",
              " 'BTSG',\n",
              " 'AVBP',\n",
              " 'HAO',\n",
              " 'CGON',\n",
              " 'YIBO',\n",
              " 'SUGP',\n",
              " 'JL',\n",
              " 'KSPI',\n",
              " 'JVSA',\n",
              " 'PSBD',\n",
              " 'CCTG',\n",
              " 'SYNX',\n",
              " 'SDHC',\n",
              " 'ROMA',\n",
              " 'IROH',\n",
              " 'LGCB',\n",
              " 'ZKH',\n",
              " 'BAYA',\n",
              " 'INHD',\n",
              " 'AFJK',\n",
              " 'GSIW',\n",
              " 'FEBO',\n",
              " 'CLBR',\n",
              " 'ELAB',\n",
              " 'RR',\n",
              " 'DDC',\n",
              " 'SHIM',\n",
              " 'GLAC',\n",
              " 'SGN',\n",
              " 'HG',\n",
              " 'CRGX',\n",
              " 'ANSC',\n",
              " 'AITR',\n",
              " 'GVH',\n",
              " 'LXEO',\n",
              " 'PAPL',\n",
              " 'ATGL',\n",
              " 'MNR',\n",
              " 'WBUY',\n",
              " 'NCL',\n",
              " 'BIRK',\n",
              " 'GMM',\n",
              " 'PMEC',\n",
              " 'LRHC',\n",
              " 'GPAK',\n",
              " 'SPKL',\n",
              " 'QETA',\n",
              " 'MSS',\n",
              " 'ANL',\n",
              " 'SYRA',\n",
              " 'VSME',\n",
              " 'LRE',\n",
              " 'TURB',\n",
              " 'MDBH',\n",
              " 'KVYO',\n",
              " 'CART',\n",
              " 'DTCK',\n",
              " 'NMRA',\n",
              " 'ARM',\n",
              " 'SPPL',\n",
              " 'NWGL',\n",
              " 'SWIN',\n",
              " 'IVP',\n",
              " 'NNAG',\n",
              " 'SRM',\n",
              " 'SPGC',\n",
              " 'LQR',\n",
              " 'NRXS',\n",
              " 'FTEL',\n",
              " 'MIRA',\n",
              " 'PXDT',\n",
              " 'HRYU',\n",
              " 'CTNT',\n",
              " 'SRFM',\n",
              " 'PRZO',\n",
              " 'HYAC',\n",
              " 'KVAC',\n",
              " 'JNVR',\n",
              " 'ELWS',\n",
              " 'WRNT',\n",
              " 'TSBX',\n",
              " 'ODD',\n",
              " 'APGE',\n",
              " 'NETD',\n",
              " 'SGMT',\n",
              " 'BOWN',\n",
              " 'SXTP',\n",
              " 'PWM',\n",
              " 'VTMX',\n",
              " 'INTS',\n",
              " 'SVV',\n",
              " 'KGS',\n",
              " 'FIHL',\n",
              " 'GENK',\n",
              " 'BUJA',\n",
              " 'BOF',\n",
              " 'AZTR',\n",
              " 'CAVA',\n",
              " 'ESHA',\n",
              " 'ATMU',\n",
              " 'ATS',\n",
              " 'IPXX',\n",
              " 'CWD',\n",
              " 'SGE',\n",
              " 'SLRN',\n",
              " 'ALCY',\n",
              " 'KVUE',\n",
              " 'GODN',\n",
              " 'TRNR',\n",
              " 'AACT',\n",
              " 'JYD',\n",
              " 'USGO',\n",
              " 'UCAR',\n",
              " 'WLGS',\n",
              " 'TPET',\n",
              " 'TCJH',\n",
              " 'GDTC',\n",
              " 'VCIG',\n",
              " 'GDHG',\n",
              " 'ARBB',\n",
              " 'ISPR',\n",
              " 'MGIH',\n",
              " 'MWG',\n",
              " 'HSHP',\n",
              " 'SFWL',\n",
              " 'SYT',\n",
              " 'HKIT',\n",
              " 'CHSN',\n",
              " 'TBMC',\n",
              " 'HLP',\n",
              " 'ZJYL',\n",
              " 'TMTC',\n",
              " 'YGFGF',\n",
              " 'OAKU',\n",
              " 'BANL',\n",
              " 'OMH',\n",
              " 'MGRX',\n",
              " 'FORL',\n",
              " 'ICG',\n",
              " 'IZM',\n",
              " 'AESI',\n",
              " 'AIXI',\n",
              " 'SBXC',\n",
              " 'BMR',\n",
              " 'DIST',\n",
              " 'GXAI',\n",
              " 'MARX',\n",
              " 'BFRG',\n",
              " 'ENLT',\n",
              " 'MLYS',\n",
              " 'PTHRF',\n",
              " 'BLAC',\n",
              " 'NXT',\n",
              " 'HSAI',\n",
              " 'LSDI',\n",
              " 'LICN',\n",
              " 'GPCR',\n",
              " 'ASST',\n",
              " 'CETU',\n",
              " 'TXO',\n",
              " 'BREA',\n",
              " 'GNLX',\n",
              " 'QSG',\n",
              " 'CVKD',\n",
              " 'SKWD',\n",
              " 'ISRL',\n",
              " 'MGOL']"
            ]
          },
          "metadata": {},
          "execution_count": 31
        }
      ]
    },
    {
      "cell_type": "code",
      "source": [
        "# Get OHLCV daily prices for all stocks\n",
        "import yfinance as yf\n",
        "\n",
        "prices = {}\n",
        "for i in symbols:\n",
        "    try:\n",
        "        prices[i] = yf.download(i, start='2023-01-01', interval = \"1d\")\n",
        "    except:\n",
        "        pass"
      ],
      "metadata": {
        "colab": {
          "base_uri": "https://localhost:8080/"
        },
        "id": "cqJarvj3ma0U",
        "outputId": "4373105c-2b21-4655-ee84-d0dded2bef50"
      },
      "execution_count": 32,
      "outputs": [
        {
          "output_type": "stream",
          "name": "stderr",
          "text": [
            "[*********************100%%**********************]  1 of 1 completed\n",
            "[*********************100%%**********************]  1 of 1 completed\n",
            "[*********************100%%**********************]  1 of 1 completed\n",
            "[*********************100%%**********************]  1 of 1 completed\n",
            "[*********************100%%**********************]  1 of 1 completed\n",
            "[*********************100%%**********************]  1 of 1 completed\n",
            "[*********************100%%**********************]  1 of 1 completed\n",
            "[*********************100%%**********************]  1 of 1 completed\n",
            "[*********************100%%**********************]  1 of 1 completed\n",
            "[*********************100%%**********************]  1 of 1 completed\n",
            "[*********************100%%**********************]  1 of 1 completed\n",
            "[*********************100%%**********************]  1 of 1 completed\n",
            "[*********************100%%**********************]  1 of 1 completed\n",
            "[*********************100%%**********************]  1 of 1 completed\n",
            "[*********************100%%**********************]  1 of 1 completed\n",
            "[*********************100%%**********************]  1 of 1 completed\n",
            "[*********************100%%**********************]  1 of 1 completed\n",
            "[*********************100%%**********************]  1 of 1 completed\n",
            "[*********************100%%**********************]  1 of 1 completed\n",
            "[*********************100%%**********************]  1 of 1 completed\n",
            "[*********************100%%**********************]  1 of 1 completed\n",
            "[*********************100%%**********************]  1 of 1 completed\n",
            "[*********************100%%**********************]  1 of 1 completed\n",
            "[*********************100%%**********************]  1 of 1 completed\n",
            "[*********************100%%**********************]  1 of 1 completed\n",
            "[*********************100%%**********************]  1 of 1 completed\n",
            "[*********************100%%**********************]  1 of 1 completed\n",
            "[*********************100%%**********************]  1 of 1 completed\n",
            "[*********************100%%**********************]  1 of 1 completed\n",
            "[*********************100%%**********************]  1 of 1 completed\n",
            "[*********************100%%**********************]  1 of 1 completed\n",
            "[*********************100%%**********************]  1 of 1 completed\n",
            "[*********************100%%**********************]  1 of 1 completed\n",
            "[*********************100%%**********************]  1 of 1 completed\n",
            "[*********************100%%**********************]  1 of 1 completed\n",
            "[*********************100%%**********************]  1 of 1 completed\n",
            "[*********************100%%**********************]  1 of 1 completed\n",
            "[*********************100%%**********************]  1 of 1 completed\n",
            "[*********************100%%**********************]  1 of 1 completed\n",
            "[*********************100%%**********************]  1 of 1 completed\n",
            "[*********************100%%**********************]  1 of 1 completed\n",
            "[*********************100%%**********************]  1 of 1 completed\n",
            "[*********************100%%**********************]  1 of 1 completed\n",
            "[*********************100%%**********************]  1 of 1 completed\n",
            "[*********************100%%**********************]  1 of 1 completed\n",
            "[*********************100%%**********************]  1 of 1 completed\n",
            "[*********************100%%**********************]  1 of 1 completed\n",
            "[*********************100%%**********************]  1 of 1 completed\n",
            "[*********************100%%**********************]  1 of 1 completed\n",
            "[*********************100%%**********************]  1 of 1 completed\n",
            "[*********************100%%**********************]  1 of 1 completed\n",
            "[*********************100%%**********************]  1 of 1 completed\n",
            "[*********************100%%**********************]  1 of 1 completed\n",
            "[*********************100%%**********************]  1 of 1 completed\n",
            "[*********************100%%**********************]  1 of 1 completed\n",
            "[*********************100%%**********************]  1 of 1 completed\n",
            "[*********************100%%**********************]  1 of 1 completed\n",
            "[*********************100%%**********************]  1 of 1 completed\n",
            "[*********************100%%**********************]  1 of 1 completed\n",
            "[*********************100%%**********************]  1 of 1 completed\n",
            "[*********************100%%**********************]  1 of 1 completed\n",
            "[*********************100%%**********************]  1 of 1 completed\n",
            "[*********************100%%**********************]  1 of 1 completed\n",
            "[*********************100%%**********************]  1 of 1 completed\n",
            "[*********************100%%**********************]  1 of 1 completed\n",
            "[*********************100%%**********************]  1 of 1 completed\n",
            "[*********************100%%**********************]  1 of 1 completed\n",
            "[*********************100%%**********************]  1 of 1 completed\n",
            "[*********************100%%**********************]  1 of 1 completed\n",
            "[*********************100%%**********************]  1 of 1 completed\n",
            "[*********************100%%**********************]  1 of 1 completed\n",
            "[*********************100%%**********************]  1 of 1 completed\n",
            "[*********************100%%**********************]  1 of 1 completed\n",
            "[*********************100%%**********************]  1 of 1 completed\n",
            "[*********************100%%**********************]  1 of 1 completed\n",
            "[*********************100%%**********************]  1 of 1 completed\n",
            "[*********************100%%**********************]  1 of 1 completed\n",
            "[*********************100%%**********************]  1 of 1 completed\n",
            "[*********************100%%**********************]  1 of 1 completed\n",
            "[*********************100%%**********************]  1 of 1 completed\n",
            "[*********************100%%**********************]  1 of 1 completed\n",
            "[*********************100%%**********************]  1 of 1 completed\n",
            "[*********************100%%**********************]  1 of 1 completed\n",
            "[*********************100%%**********************]  1 of 1 completed\n",
            "[*********************100%%**********************]  1 of 1 completed\n",
            "[*********************100%%**********************]  1 of 1 completed\n",
            "[*********************100%%**********************]  1 of 1 completed\n",
            "[*********************100%%**********************]  1 of 1 completed\n",
            "[*********************100%%**********************]  1 of 1 completed\n",
            "[*********************100%%**********************]  1 of 1 completed\n",
            "[*********************100%%**********************]  1 of 1 completed\n",
            "[*********************100%%**********************]  1 of 1 completed\n",
            "[*********************100%%**********************]  1 of 1 completed\n",
            "[*********************100%%**********************]  1 of 1 completed\n",
            "[*********************100%%**********************]  1 of 1 completed\n",
            "[*********************100%%**********************]  1 of 1 completed\n",
            "[*********************100%%**********************]  1 of 1 completed\n",
            "[*********************100%%**********************]  1 of 1 completed\n",
            "[*********************100%%**********************]  1 of 1 completed\n",
            "[*********************100%%**********************]  1 of 1 completed\n",
            "[*********************100%%**********************]  1 of 1 completed\n",
            "[*********************100%%**********************]  1 of 1 completed\n",
            "[*********************100%%**********************]  1 of 1 completed\n",
            "[*********************100%%**********************]  1 of 1 completed\n",
            "[*********************100%%**********************]  1 of 1 completed\n",
            "[*********************100%%**********************]  1 of 1 completed\n",
            "[*********************100%%**********************]  1 of 1 completed\n",
            "[*********************100%%**********************]  1 of 1 completed\n",
            "[*********************100%%**********************]  1 of 1 completed\n",
            "[*********************100%%**********************]  1 of 1 completed\n",
            "[*********************100%%**********************]  1 of 1 completed\n",
            "[*********************100%%**********************]  1 of 1 completed\n",
            "[*********************100%%**********************]  1 of 1 completed\n",
            "[*********************100%%**********************]  1 of 1 completed\n",
            "[*********************100%%**********************]  1 of 1 completed\n",
            "[*********************100%%**********************]  1 of 1 completed\n",
            "[*********************100%%**********************]  1 of 1 completed\n",
            "[*********************100%%**********************]  1 of 1 completed\n",
            "[*********************100%%**********************]  1 of 1 completed\n",
            "[*********************100%%**********************]  1 of 1 completed\n",
            "[*********************100%%**********************]  1 of 1 completed\n",
            "[*********************100%%**********************]  1 of 1 completed\n",
            "[*********************100%%**********************]  1 of 1 completed\n",
            "[*********************100%%**********************]  1 of 1 completed\n",
            "[*********************100%%**********************]  1 of 1 completed\n",
            "[*********************100%%**********************]  1 of 1 completed\n",
            "[*********************100%%**********************]  1 of 1 completed\n",
            "[*********************100%%**********************]  1 of 1 completed\n",
            "[*********************100%%**********************]  1 of 1 completed\n",
            "[*********************100%%**********************]  1 of 1 completed\n",
            "[*********************100%%**********************]  1 of 1 completed\n",
            "[*********************100%%**********************]  1 of 1 completed\n",
            "[*********************100%%**********************]  1 of 1 completed\n",
            "[*********************100%%**********************]  1 of 1 completed\n",
            "[*********************100%%**********************]  1 of 1 completed\n",
            "[*********************100%%**********************]  1 of 1 completed\n",
            "[*********************100%%**********************]  1 of 1 completed\n",
            "[*********************100%%**********************]  1 of 1 completed\n",
            "[*********************100%%**********************]  1 of 1 completed\n",
            "[*********************100%%**********************]  1 of 1 completed\n",
            "[*********************100%%**********************]  1 of 1 completed\n",
            "[*********************100%%**********************]  1 of 1 completed\n",
            "[*********************100%%**********************]  1 of 1 completed\n",
            "[*********************100%%**********************]  1 of 1 completed\n",
            "[*********************100%%**********************]  1 of 1 completed\n",
            "[*********************100%%**********************]  1 of 1 completed\n",
            "[*********************100%%**********************]  1 of 1 completed\n",
            "[*********************100%%**********************]  1 of 1 completed\n",
            "[*********************100%%**********************]  1 of 1 completed\n",
            "[*********************100%%**********************]  1 of 1 completed\n",
            "[*********************100%%**********************]  1 of 1 completed\n",
            "[*********************100%%**********************]  1 of 1 completed\n",
            "[*********************100%%**********************]  1 of 1 completed\n",
            "[*********************100%%**********************]  1 of 1 completed\n",
            "[*********************100%%**********************]  1 of 1 completed\n",
            "[*********************100%%**********************]  1 of 1 completed\n",
            "[*********************100%%**********************]  1 of 1 completed\n",
            "[*********************100%%**********************]  1 of 1 completed\n",
            "[*********************100%%**********************]  1 of 1 completed\n",
            "[*********************100%%**********************]  1 of 1 completed\n",
            "[*********************100%%**********************]  1 of 1 completed\n",
            "[*********************100%%**********************]  1 of 1 completed\n",
            "[*********************100%%**********************]  1 of 1 completed\n",
            "[*********************100%%**********************]  1 of 1 completed\n",
            "[*********************100%%**********************]  1 of 1 completed\n",
            "[*********************100%%**********************]  1 of 1 completed\n",
            "[*********************100%%**********************]  1 of 1 completed\n",
            "[*********************100%%**********************]  1 of 1 completed\n",
            "[*********************100%%**********************]  1 of 1 completed\n",
            "[*********************100%%**********************]  1 of 1 completed\n",
            "[*********************100%%**********************]  1 of 1 completed\n",
            "[*********************100%%**********************]  1 of 1 completed\n",
            "[*********************100%%**********************]  1 of 1 completed\n",
            "[*********************100%%**********************]  1 of 1 completed\n",
            "[*********************100%%**********************]  1 of 1 completed\n",
            "[*********************100%%**********************]  1 of 1 completed\n",
            "[*********************100%%**********************]  1 of 1 completed\n",
            "[*********************100%%**********************]  1 of 1 completed\n",
            "[*********************100%%**********************]  1 of 1 completed\n",
            "[*********************100%%**********************]  1 of 1 completed\n",
            "[*********************100%%**********************]  1 of 1 completed\n",
            "[*********************100%%**********************]  1 of 1 completed\n",
            "[*********************100%%**********************]  1 of 1 completed\n",
            "[*********************100%%**********************]  1 of 1 completed\n"
          ]
        }
      ]
    },
    {
      "cell_type": "code",
      "source": [
        "# Create a list of DataFrames for each stock\n",
        "data_frames = []\n",
        "for symbol, data in prices.items():\n",
        "    # Create a DataFrame for each stock\n",
        "    df_stock = pd.DataFrame(data)\n",
        "    df_stock['Symbol'] = symbol  # Add a 'Symbol' column\n",
        "    data_frames.append(df_stock)\n",
        "\n",
        "# Concatenate the DataFrames into a single DataFrame\n",
        "df = pd.concat(data_frames)\n",
        "df.reset_index(inplace=True)\n",
        "# Display the DataFrame info\n",
        "print(df)"
      ],
      "metadata": {
        "colab": {
          "base_uri": "https://localhost:8080/"
        },
        "id": "4kSZRhoUmeJB",
        "outputId": "9020bfe5-c65b-4afb-cf4a-54ed7fd332f7"
      },
      "execution_count": 33,
      "outputs": [
        {
          "output_type": "stream",
          "name": "stdout",
          "text": [
            "            Date    Open    High     Low   Close  Adj Close   Volume Symbol\n",
            "0     2024-02-27  3.5000  9.3500  3.5000  8.0000     8.0000  2840400   SMXT\n",
            "1     2024-02-28  6.4200  7.2400  5.6000  5.8600     5.8600   243200   SMXT\n",
            "2     2024-02-29  5.7400  5.8400  4.3000  4.8900     4.8900   130000   SMXT\n",
            "3     2024-03-01  3.9400  5.1500  3.8000  4.8800     4.8800   485000   SMXT\n",
            "4     2024-03-04  4.7300  5.1000  4.2580  4.6600     4.6600   114300   SMXT\n",
            "...          ...     ...     ...     ...     ...        ...      ...    ...\n",
            "34901 2024-05-03  0.2260  0.2440  0.2210  0.2320     0.2320    63300   MGOL\n",
            "34902 2024-05-06  0.2340  0.2400  0.2210  0.2210     0.2210   116000   MGOL\n",
            "34903 2024-05-07  0.2320  0.2400  0.2250  0.2250     0.2250    46300   MGOL\n",
            "34904 2024-05-08  0.2250  0.2370  0.2210  0.2290     0.2290    12800   MGOL\n",
            "34905 2024-05-09  0.2299  0.2299  0.1905  0.2058     0.2058   251743   MGOL\n",
            "\n",
            "[34906 rows x 8 columns]\n"
          ]
        }
      ]
    },
    {
      "cell_type": "code",
      "source": [
        "# Get the first day when each stock has data on Yahoo Finance.\n",
        "min_dates = df.min(axis=0)\n",
        "\n",
        "# Generate 30 additional columns: growth_future_1d ... growth_future_30d.\n",
        "for i in range(1, 31):\n",
        "    df['growth_future_' + str(i) + 'd'] = df.shift(-i)['Adj Close'] / df['Adj Close'] - 1"
      ],
      "metadata": {
        "id": "sIOvHjncmqGH"
      },
      "execution_count": 34,
      "outputs": []
    },
    {
      "cell_type": "code",
      "source": [
        "for df in data_frames:\n",
        "    for i in range(1,31):\n",
        "        df['growth_future_'+str(i)+'d'] = df['Adj Close'] / df['Adj Close'].shift(i)"
      ],
      "metadata": {
        "id": "-dsSI16omtCz"
      },
      "execution_count": 35,
      "outputs": []
    },
    {
      "cell_type": "code",
      "source": [
        "# Find the first day when each stock has data on Yahoo Finance\n",
        "min_dates = df.min(axis=0)\n",
        "min_dates = min_dates[1:]  # Remove the 'Date' column\n",
        "min_dates_df = pd.DataFrame(data={'Symbol': df.columns[1:], 'min_date': min_dates})\n",
        "min_dates_df.set_index('Symbol', inplace=True)\n",
        "min_dates_df"
      ],
      "metadata": {
        "colab": {
          "base_uri": "https://localhost:8080/",
          "height": 1000
        },
        "id": "0HbMexNgmwCD",
        "outputId": "ede52970-bd9f-48e6-e285-c6dbcf5bba19"
      },
      "execution_count": 36,
      "outputs": [
        {
          "output_type": "execute_result",
          "data": {
            "text/plain": [
              "                   min_date\n",
              "Symbol                     \n",
              "High                 0.2299\n",
              "Low                  0.1905\n",
              "Close                0.2058\n",
              "Adj Close            0.2058\n",
              "Volume                 8800\n",
              "Symbol                 MGOL\n",
              "growth_future_1d   0.526549\n",
              "growth_future_2d   0.522124\n",
              "growth_future_3d   0.469027\n",
              "growth_future_4d   0.473003\n",
              "growth_future_5d   0.473451\n",
              "growth_future_6d   0.460177\n",
              "growth_future_7d   0.464079\n",
              "growth_future_8d   0.451327\n",
              "growth_future_9d   0.455154\n",
              "growth_future_10d  0.472222\n",
              "growth_future_11d  0.478319\n",
              "growth_future_12d  0.482301\n",
              "growth_future_13d  0.473009\n",
              "growth_future_14d  0.469027\n",
              "growth_future_15d  0.438776\n",
              "growth_future_16d  0.402041\n",
              "growth_future_17d  0.406122\n",
              "growth_future_18d   0.37551\n",
              "growth_future_19d  0.389796\n",
              "growth_future_20d  0.377551\n",
              "growth_future_21d  0.397849\n",
              "growth_future_22d  0.406961\n",
              "growth_future_23d  0.402041\n",
              "growth_future_24d   0.37449\n",
              "growth_future_25d  0.386861\n",
              "growth_future_26d  0.370629\n",
              "growth_future_27d  0.374126\n",
              "growth_future_28d  0.374126\n",
              "growth_future_29d  0.363636\n",
              "growth_future_30d  0.370629"
            ],
            "text/html": [
              "\n",
              "  <div id=\"df-7675f392-d54b-436b-a28c-261092a3ec7e\" class=\"colab-df-container\">\n",
              "    <div>\n",
              "<style scoped>\n",
              "    .dataframe tbody tr th:only-of-type {\n",
              "        vertical-align: middle;\n",
              "    }\n",
              "\n",
              "    .dataframe tbody tr th {\n",
              "        vertical-align: top;\n",
              "    }\n",
              "\n",
              "    .dataframe thead th {\n",
              "        text-align: right;\n",
              "    }\n",
              "</style>\n",
              "<table border=\"1\" class=\"dataframe\">\n",
              "  <thead>\n",
              "    <tr style=\"text-align: right;\">\n",
              "      <th></th>\n",
              "      <th>min_date</th>\n",
              "    </tr>\n",
              "    <tr>\n",
              "      <th>Symbol</th>\n",
              "      <th></th>\n",
              "    </tr>\n",
              "  </thead>\n",
              "  <tbody>\n",
              "    <tr>\n",
              "      <th>High</th>\n",
              "      <td>0.2299</td>\n",
              "    </tr>\n",
              "    <tr>\n",
              "      <th>Low</th>\n",
              "      <td>0.1905</td>\n",
              "    </tr>\n",
              "    <tr>\n",
              "      <th>Close</th>\n",
              "      <td>0.2058</td>\n",
              "    </tr>\n",
              "    <tr>\n",
              "      <th>Adj Close</th>\n",
              "      <td>0.2058</td>\n",
              "    </tr>\n",
              "    <tr>\n",
              "      <th>Volume</th>\n",
              "      <td>8800</td>\n",
              "    </tr>\n",
              "    <tr>\n",
              "      <th>Symbol</th>\n",
              "      <td>MGOL</td>\n",
              "    </tr>\n",
              "    <tr>\n",
              "      <th>growth_future_1d</th>\n",
              "      <td>0.526549</td>\n",
              "    </tr>\n",
              "    <tr>\n",
              "      <th>growth_future_2d</th>\n",
              "      <td>0.522124</td>\n",
              "    </tr>\n",
              "    <tr>\n",
              "      <th>growth_future_3d</th>\n",
              "      <td>0.469027</td>\n",
              "    </tr>\n",
              "    <tr>\n",
              "      <th>growth_future_4d</th>\n",
              "      <td>0.473003</td>\n",
              "    </tr>\n",
              "    <tr>\n",
              "      <th>growth_future_5d</th>\n",
              "      <td>0.473451</td>\n",
              "    </tr>\n",
              "    <tr>\n",
              "      <th>growth_future_6d</th>\n",
              "      <td>0.460177</td>\n",
              "    </tr>\n",
              "    <tr>\n",
              "      <th>growth_future_7d</th>\n",
              "      <td>0.464079</td>\n",
              "    </tr>\n",
              "    <tr>\n",
              "      <th>growth_future_8d</th>\n",
              "      <td>0.451327</td>\n",
              "    </tr>\n",
              "    <tr>\n",
              "      <th>growth_future_9d</th>\n",
              "      <td>0.455154</td>\n",
              "    </tr>\n",
              "    <tr>\n",
              "      <th>growth_future_10d</th>\n",
              "      <td>0.472222</td>\n",
              "    </tr>\n",
              "    <tr>\n",
              "      <th>growth_future_11d</th>\n",
              "      <td>0.478319</td>\n",
              "    </tr>\n",
              "    <tr>\n",
              "      <th>growth_future_12d</th>\n",
              "      <td>0.482301</td>\n",
              "    </tr>\n",
              "    <tr>\n",
              "      <th>growth_future_13d</th>\n",
              "      <td>0.473009</td>\n",
              "    </tr>\n",
              "    <tr>\n",
              "      <th>growth_future_14d</th>\n",
              "      <td>0.469027</td>\n",
              "    </tr>\n",
              "    <tr>\n",
              "      <th>growth_future_15d</th>\n",
              "      <td>0.438776</td>\n",
              "    </tr>\n",
              "    <tr>\n",
              "      <th>growth_future_16d</th>\n",
              "      <td>0.402041</td>\n",
              "    </tr>\n",
              "    <tr>\n",
              "      <th>growth_future_17d</th>\n",
              "      <td>0.406122</td>\n",
              "    </tr>\n",
              "    <tr>\n",
              "      <th>growth_future_18d</th>\n",
              "      <td>0.37551</td>\n",
              "    </tr>\n",
              "    <tr>\n",
              "      <th>growth_future_19d</th>\n",
              "      <td>0.389796</td>\n",
              "    </tr>\n",
              "    <tr>\n",
              "      <th>growth_future_20d</th>\n",
              "      <td>0.377551</td>\n",
              "    </tr>\n",
              "    <tr>\n",
              "      <th>growth_future_21d</th>\n",
              "      <td>0.397849</td>\n",
              "    </tr>\n",
              "    <tr>\n",
              "      <th>growth_future_22d</th>\n",
              "      <td>0.406961</td>\n",
              "    </tr>\n",
              "    <tr>\n",
              "      <th>growth_future_23d</th>\n",
              "      <td>0.402041</td>\n",
              "    </tr>\n",
              "    <tr>\n",
              "      <th>growth_future_24d</th>\n",
              "      <td>0.37449</td>\n",
              "    </tr>\n",
              "    <tr>\n",
              "      <th>growth_future_25d</th>\n",
              "      <td>0.386861</td>\n",
              "    </tr>\n",
              "    <tr>\n",
              "      <th>growth_future_26d</th>\n",
              "      <td>0.370629</td>\n",
              "    </tr>\n",
              "    <tr>\n",
              "      <th>growth_future_27d</th>\n",
              "      <td>0.374126</td>\n",
              "    </tr>\n",
              "    <tr>\n",
              "      <th>growth_future_28d</th>\n",
              "      <td>0.374126</td>\n",
              "    </tr>\n",
              "    <tr>\n",
              "      <th>growth_future_29d</th>\n",
              "      <td>0.363636</td>\n",
              "    </tr>\n",
              "    <tr>\n",
              "      <th>growth_future_30d</th>\n",
              "      <td>0.370629</td>\n",
              "    </tr>\n",
              "  </tbody>\n",
              "</table>\n",
              "</div>\n",
              "    <div class=\"colab-df-buttons\">\n",
              "\n",
              "  <div class=\"colab-df-container\">\n",
              "    <button class=\"colab-df-convert\" onclick=\"convertToInteractive('df-7675f392-d54b-436b-a28c-261092a3ec7e')\"\n",
              "            title=\"Convert this dataframe to an interactive table.\"\n",
              "            style=\"display:none;\">\n",
              "\n",
              "  <svg xmlns=\"http://www.w3.org/2000/svg\" height=\"24px\" viewBox=\"0 -960 960 960\">\n",
              "    <path d=\"M120-120v-720h720v720H120Zm60-500h600v-160H180v160Zm220 220h160v-160H400v160Zm0 220h160v-160H400v160ZM180-400h160v-160H180v160Zm440 0h160v-160H620v160ZM180-180h160v-160H180v160Zm440 0h160v-160H620v160Z\"/>\n",
              "  </svg>\n",
              "    </button>\n",
              "\n",
              "  <style>\n",
              "    .colab-df-container {\n",
              "      display:flex;\n",
              "      gap: 12px;\n",
              "    }\n",
              "\n",
              "    .colab-df-convert {\n",
              "      background-color: #E8F0FE;\n",
              "      border: none;\n",
              "      border-radius: 50%;\n",
              "      cursor: pointer;\n",
              "      display: none;\n",
              "      fill: #1967D2;\n",
              "      height: 32px;\n",
              "      padding: 0 0 0 0;\n",
              "      width: 32px;\n",
              "    }\n",
              "\n",
              "    .colab-df-convert:hover {\n",
              "      background-color: #E2EBFA;\n",
              "      box-shadow: 0px 1px 2px rgba(60, 64, 67, 0.3), 0px 1px 3px 1px rgba(60, 64, 67, 0.15);\n",
              "      fill: #174EA6;\n",
              "    }\n",
              "\n",
              "    .colab-df-buttons div {\n",
              "      margin-bottom: 4px;\n",
              "    }\n",
              "\n",
              "    [theme=dark] .colab-df-convert {\n",
              "      background-color: #3B4455;\n",
              "      fill: #D2E3FC;\n",
              "    }\n",
              "\n",
              "    [theme=dark] .colab-df-convert:hover {\n",
              "      background-color: #434B5C;\n",
              "      box-shadow: 0px 1px 3px 1px rgba(0, 0, 0, 0.15);\n",
              "      filter: drop-shadow(0px 1px 2px rgba(0, 0, 0, 0.3));\n",
              "      fill: #FFFFFF;\n",
              "    }\n",
              "  </style>\n",
              "\n",
              "    <script>\n",
              "      const buttonEl =\n",
              "        document.querySelector('#df-7675f392-d54b-436b-a28c-261092a3ec7e button.colab-df-convert');\n",
              "      buttonEl.style.display =\n",
              "        google.colab.kernel.accessAllowed ? 'block' : 'none';\n",
              "\n",
              "      async function convertToInteractive(key) {\n",
              "        const element = document.querySelector('#df-7675f392-d54b-436b-a28c-261092a3ec7e');\n",
              "        const dataTable =\n",
              "          await google.colab.kernel.invokeFunction('convertToInteractive',\n",
              "                                                    [key], {});\n",
              "        if (!dataTable) return;\n",
              "\n",
              "        const docLinkHtml = 'Like what you see? Visit the ' +\n",
              "          '<a target=\"_blank\" href=https://colab.research.google.com/notebooks/data_table.ipynb>data table notebook</a>'\n",
              "          + ' to learn more about interactive tables.';\n",
              "        element.innerHTML = '';\n",
              "        dataTable['output_type'] = 'display_data';\n",
              "        await google.colab.output.renderOutput(dataTable, element);\n",
              "        const docLink = document.createElement('div');\n",
              "        docLink.innerHTML = docLinkHtml;\n",
              "        element.appendChild(docLink);\n",
              "      }\n",
              "    </script>\n",
              "  </div>\n",
              "\n",
              "\n",
              "<div id=\"df-201ca6df-0443-4876-8a81-6637794fcd0d\">\n",
              "  <button class=\"colab-df-quickchart\" onclick=\"quickchart('df-201ca6df-0443-4876-8a81-6637794fcd0d')\"\n",
              "            title=\"Suggest charts\"\n",
              "            style=\"display:none;\">\n",
              "\n",
              "<svg xmlns=\"http://www.w3.org/2000/svg\" height=\"24px\"viewBox=\"0 0 24 24\"\n",
              "     width=\"24px\">\n",
              "    <g>\n",
              "        <path d=\"M19 3H5c-1.1 0-2 .9-2 2v14c0 1.1.9 2 2 2h14c1.1 0 2-.9 2-2V5c0-1.1-.9-2-2-2zM9 17H7v-7h2v7zm4 0h-2V7h2v10zm4 0h-2v-4h2v4z\"/>\n",
              "    </g>\n",
              "</svg>\n",
              "  </button>\n",
              "\n",
              "<style>\n",
              "  .colab-df-quickchart {\n",
              "      --bg-color: #E8F0FE;\n",
              "      --fill-color: #1967D2;\n",
              "      --hover-bg-color: #E2EBFA;\n",
              "      --hover-fill-color: #174EA6;\n",
              "      --disabled-fill-color: #AAA;\n",
              "      --disabled-bg-color: #DDD;\n",
              "  }\n",
              "\n",
              "  [theme=dark] .colab-df-quickchart {\n",
              "      --bg-color: #3B4455;\n",
              "      --fill-color: #D2E3FC;\n",
              "      --hover-bg-color: #434B5C;\n",
              "      --hover-fill-color: #FFFFFF;\n",
              "      --disabled-bg-color: #3B4455;\n",
              "      --disabled-fill-color: #666;\n",
              "  }\n",
              "\n",
              "  .colab-df-quickchart {\n",
              "    background-color: var(--bg-color);\n",
              "    border: none;\n",
              "    border-radius: 50%;\n",
              "    cursor: pointer;\n",
              "    display: none;\n",
              "    fill: var(--fill-color);\n",
              "    height: 32px;\n",
              "    padding: 0;\n",
              "    width: 32px;\n",
              "  }\n",
              "\n",
              "  .colab-df-quickchart:hover {\n",
              "    background-color: var(--hover-bg-color);\n",
              "    box-shadow: 0 1px 2px rgba(60, 64, 67, 0.3), 0 1px 3px 1px rgba(60, 64, 67, 0.15);\n",
              "    fill: var(--button-hover-fill-color);\n",
              "  }\n",
              "\n",
              "  .colab-df-quickchart-complete:disabled,\n",
              "  .colab-df-quickchart-complete:disabled:hover {\n",
              "    background-color: var(--disabled-bg-color);\n",
              "    fill: var(--disabled-fill-color);\n",
              "    box-shadow: none;\n",
              "  }\n",
              "\n",
              "  .colab-df-spinner {\n",
              "    border: 2px solid var(--fill-color);\n",
              "    border-color: transparent;\n",
              "    border-bottom-color: var(--fill-color);\n",
              "    animation:\n",
              "      spin 1s steps(1) infinite;\n",
              "  }\n",
              "\n",
              "  @keyframes spin {\n",
              "    0% {\n",
              "      border-color: transparent;\n",
              "      border-bottom-color: var(--fill-color);\n",
              "      border-left-color: var(--fill-color);\n",
              "    }\n",
              "    20% {\n",
              "      border-color: transparent;\n",
              "      border-left-color: var(--fill-color);\n",
              "      border-top-color: var(--fill-color);\n",
              "    }\n",
              "    30% {\n",
              "      border-color: transparent;\n",
              "      border-left-color: var(--fill-color);\n",
              "      border-top-color: var(--fill-color);\n",
              "      border-right-color: var(--fill-color);\n",
              "    }\n",
              "    40% {\n",
              "      border-color: transparent;\n",
              "      border-right-color: var(--fill-color);\n",
              "      border-top-color: var(--fill-color);\n",
              "    }\n",
              "    60% {\n",
              "      border-color: transparent;\n",
              "      border-right-color: var(--fill-color);\n",
              "    }\n",
              "    80% {\n",
              "      border-color: transparent;\n",
              "      border-right-color: var(--fill-color);\n",
              "      border-bottom-color: var(--fill-color);\n",
              "    }\n",
              "    90% {\n",
              "      border-color: transparent;\n",
              "      border-bottom-color: var(--fill-color);\n",
              "    }\n",
              "  }\n",
              "</style>\n",
              "\n",
              "  <script>\n",
              "    async function quickchart(key) {\n",
              "      const quickchartButtonEl =\n",
              "        document.querySelector('#' + key + ' button');\n",
              "      quickchartButtonEl.disabled = true;  // To prevent multiple clicks.\n",
              "      quickchartButtonEl.classList.add('colab-df-spinner');\n",
              "      try {\n",
              "        const charts = await google.colab.kernel.invokeFunction(\n",
              "            'suggestCharts', [key], {});\n",
              "      } catch (error) {\n",
              "        console.error('Error during call to suggestCharts:', error);\n",
              "      }\n",
              "      quickchartButtonEl.classList.remove('colab-df-spinner');\n",
              "      quickchartButtonEl.classList.add('colab-df-quickchart-complete');\n",
              "    }\n",
              "    (() => {\n",
              "      let quickchartButtonEl =\n",
              "        document.querySelector('#df-201ca6df-0443-4876-8a81-6637794fcd0d button');\n",
              "      quickchartButtonEl.style.display =\n",
              "        google.colab.kernel.accessAllowed ? 'block' : 'none';\n",
              "    })();\n",
              "  </script>\n",
              "</div>\n",
              "    </div>\n",
              "  </div>\n"
            ],
            "application/vnd.google.colaboratory.intrinsic+json": {
              "type": "dataframe",
              "variable_name": "min_dates_df",
              "summary": "{\n  \"name\": \"min_dates_df\",\n  \"rows\": 36,\n  \"fields\": [\n    {\n      \"column\": \"Symbol\",\n      \"properties\": {\n        \"dtype\": \"string\",\n        \"num_unique_values\": 36,\n        \"samples\": [\n          \"growth_future_30d\",\n          \"growth_future_8d\",\n          \"growth_future_21d\"\n        ],\n        \"semantic_type\": \"\",\n        \"description\": \"\"\n      }\n    },\n    {\n      \"column\": \"min_date\",\n      \"properties\": {\n        \"dtype\": \"string\",\n        \"num_unique_values\": 31,\n        \"samples\": [\n          0.3868612916387388,\n          0.47831857300783076,\n          0.3775510179256708\n        ],\n        \"semantic_type\": \"\",\n        \"description\": \"\"\n      }\n    }\n  ]\n}"
            }
          },
          "metadata": {},
          "execution_count": 36
        }
      ]
    },
    {
      "cell_type": "code",
      "source": [
        "\n",
        "# Find X, when the 75% quantile growth is the highest\n",
        "growth_quantiles = df.describe().loc['75%', :]"
      ],
      "metadata": {
        "id": "sJ0c7lq0mza-"
      },
      "execution_count": 37,
      "outputs": []
    },
    {
      "cell_type": "code",
      "source": [
        "# Find X, when the 75% quantile growth is the highest\n",
        "growth_quantiles = df.describe().loc['75%', :]\n",
        "growth_quantiles = growth_quantiles[['growth_future_1d', 'growth_future_2d', 'growth_future_3d', 'growth_future_4d', 'growth_future_5d', 'growth_future_6d', 'growth_future_7d', 'growth_future_8d', 'growth_future_9d', 'growth_future_10d', 'growth_future_11d', 'growth_future_12d', 'growth_future_13d', 'growth_future_14d', 'growth_future_15d', 'growth_future_16d', 'growth_future_17d', 'growth_future_18d', 'growth_future_19d', 'growth_future_20d', 'growth_future_21d', 'growth_future_22d', 'growth_future_23d', 'growth_future_24d', 'growth_future_25d', 'growth_future_26d', 'growth_future_27d', 'growth_future_28d', 'growth_future_29d', 'growth_future_30d']]\n",
        "growth_quantiles = pd.to_numeric(growth_quantiles)\n",
        "optimal_x = growth_quantiles.idxmax()\n",
        "optimal_x_value = growth_quantiles.loc[optimal_x]\n",
        "print(f\"Optimal X: {optimal_x}\")\n",
        "print(f\"75% quantile growth for optimal X: {optimal_x_value:.2%}\")"
      ],
      "metadata": {
        "colab": {
          "base_uri": "https://localhost:8080/"
        },
        "id": "eh39V6Lzm2DX",
        "outputId": "95528381-8e5d-4f7f-fe8d-7f3fa48a4965"
      },
      "execution_count": 38,
      "outputs": [
        {
          "output_type": "stream",
          "name": "stdout",
          "text": [
            "Optimal X: growth_future_3d\n",
            "75% quantile growth for optimal X: 105.08%\n"
          ]
        }
      ]
    },
    {
      "cell_type": "code",
      "source": [
        "# Addtional: You can also ensure that the mean and 50th percentile (median) investment returns are negative for most X values, implying a wager for a \"lucky\" investor who might be in the top 25%.\n",
        "mean_growth = df.describe().loc['mean', :]\n",
        "mean_growth = mean_growth[['growth_future_1d', 'growth_future_2d', 'growth_future_3d', 'growth_future_4d', 'growth_future_5d', 'growth_future_6d', 'growth_future_7d', 'growth_future_8d', 'growth_future_9d', 'growth_future_10d', 'growth_future_11d', 'growth_future_12d', 'growth_future_13d', 'growth_future_14d', 'growth_future_15d', 'growth_future_16d', 'growth_future_17d', 'growth_future_18d', 'growth_future_19d', 'growth_future_20d', 'growth_future_21d', 'growth_future_22d', 'growth_future_23d', 'growth_future_24d', 'growth_future_25d', 'growth_future_26d', 'growth_future_27d', 'growth_future_28d', 'growth_future_29d', 'growth_future_30d']]\n",
        "median_growth = df.describe().loc['50%', :]\n",
        "median_growth = median_growth[['growth_future_1d', 'growth_future_2d', 'growth_future_3d', 'growth_future_4d', 'growth_future_5d', 'growth_future_6d', 'growth_future_7d', 'growth_future_8d', 'growth_future_9d', 'growth_future_10d', 'growth_future_11d', 'growth_future_12d', 'growth_future_13d', 'growth_future_14d', 'growth_future_15d', 'growth_future_16d', 'growth_future_17d', 'growth_future_18d', 'growth_future_19d', 'growth_future_20d', 'growth_future_21d', 'growth_future_22d', 'growth_future_23d', 'growth_future_24d', 'growth_future_25d', 'growth_future_26d', 'growth_future_27d', 'growth_future_28d', 'growth_future_29d', 'growth_future_30d']]\n",
        "negative_returns_count = (mean_growth < 0).sum() + (median_growth < 0).sum()\n",
        "print(f\"Number of negative mean and median returns: {negative_returns_count}\")\n",
        "# What's your recommendation: Do you suggest pursuing this strategy for an optimal X?\n",
        "# The optimal X is 1, which means buying a new stock (listed on IPO) on the first day and selling it on the next day"
      ],
      "metadata": {
        "colab": {
          "base_uri": "https://localhost:8080/"
        },
        "id": "SxWkcxYGm4rD",
        "outputId": "2c14a482-4e7b-4e43-f913-58f356d40a17"
      },
      "execution_count": 39,
      "outputs": [
        {
          "output_type": "stream",
          "name": "stdout",
          "text": [
            "Number of negative mean and median returns: 0\n"
          ]
        }
      ]
    },
    {
      "cell_type": "markdown",
      "source": [
        "**Question 3: Is Growth Concentrated in the Largest Stocks?\n",
        "Get the share of days (percentage as int) when Large Stocks outperform (growth_7d - growth over 7 periods back) the Largest stocks?**\n",
        "\n",
        "Reuse [Code Snippet 5] to obtain OHLCV stats for 33 stocks for 10 full years of data (2014-01-01 to 2023-12-31). You'll need to download slightly more data (7 periods before 2014-01-01 to calculate the growth_7d for the first 6 days correctly):\n",
        "\n",
        "US_STOCKS = ['MSFT', 'AAPL', 'GOOG', 'NVDA', 'AMZN', 'META', 'BRK-B', 'LLY', 'AVGO','V', 'JPM']\n",
        "\n",
        "EU_STOCKS = ['NVO','MC.PA', 'ASML', 'RMS.PA', 'OR.PA', 'SAP', 'ACN', 'TTE', 'SIE.DE','IDEXY','CDI.PA']\n",
        "\n",
        "INDIA_STOCKS = ['RELIANCE.NS','TCS.NS','HDB','BHARTIARTL.NS','IBN','SBIN.NS','LICI.NS','INFY','ITC.NS','HINDUNILVR.NS','LT.NS']\n",
        "\n",
        "LARGEST_STOCKS = US_STOCKS + EU_STOCKS + INDIA_STOCKS"
      ],
      "metadata": {
        "id": "0DQHzyWFntOx"
      }
    },
    {
      "cell_type": "code",
      "source": [
        "US_STOCKS = ['MSFT', 'AAPL', 'GOOG', 'NVDA', 'AMZN', 'META', 'BRK-B', 'LLY', 'AVGO','V', 'JPM']\n",
        "\n",
        "EU_STOCKS = ['NVO','MC.PA', 'ASML', 'RMS.PA', 'OR.PA', 'SAP', 'ACN', 'TTE', 'SIE.DE','IDEXY','CDI.PA']\n",
        "\n",
        "INDIA_STOCKS = ['RELIANCE.NS','TCS.NS','HDB','BHARTIARTL.NS','IBN','SBIN.NS','LICI.NS','INFY','ITC.NS','HINDUNILVR.NS','LT.NS']\n",
        ""
      ],
      "metadata": {
        "id": "2mbEm7ugnSt2"
      },
      "execution_count": 40,
      "outputs": []
    },
    {
      "cell_type": "code",
      "source": [
        "LARGEST_STOCKS = US_STOCKS  + EU_STOCKS + INDIA_STOCKS\n",
        "LARGEST_STOCKS"
      ],
      "metadata": {
        "colab": {
          "base_uri": "https://localhost:8080/"
        },
        "id": "b9F7wfQ_nzKR",
        "outputId": "e8773a56-0285-4d79-fb1f-21dae17bb711"
      },
      "execution_count": 41,
      "outputs": [
        {
          "output_type": "execute_result",
          "data": {
            "text/plain": [
              "['MSFT',\n",
              " 'AAPL',\n",
              " 'GOOG',\n",
              " 'NVDA',\n",
              " 'AMZN',\n",
              " 'META',\n",
              " 'BRK-B',\n",
              " 'LLY',\n",
              " 'AVGO',\n",
              " 'V',\n",
              " 'JPM',\n",
              " 'NVO',\n",
              " 'MC.PA',\n",
              " 'ASML',\n",
              " 'RMS.PA',\n",
              " 'OR.PA',\n",
              " 'SAP',\n",
              " 'ACN',\n",
              " 'TTE',\n",
              " 'SIE.DE',\n",
              " 'IDEXY',\n",
              " 'CDI.PA',\n",
              " 'RELIANCE.NS',\n",
              " 'TCS.NS',\n",
              " 'HDB',\n",
              " 'BHARTIARTL.NS',\n",
              " 'IBN',\n",
              " 'SBIN.NS',\n",
              " 'LICI.NS',\n",
              " 'INFY',\n",
              " 'ITC.NS',\n",
              " 'HINDUNILVR.NS',\n",
              " 'LT.NS']"
            ]
          },
          "metadata": {},
          "execution_count": 41
        }
      ]
    },
    {
      "cell_type": "code",
      "source": [
        "\n",
        "NEW_US = ['TSLA','WMT','XOM','UNH','MA','PG','JNJ','MRK','HD','COST','ORCL']\n",
        "\n",
        "NEW_EU = ['PRX.AS','CDI.PA','AIR.PA','SU.PA','ETN','SNY','BUD','DTE.DE','ALV.DE','MDT','AI.PA','EL.PA']\n",
        "\n",
        "NEW_INDIA = ['BAJFINANCE.NS','MARUTI.NS','HCLTECH.NS','TATAMOTORS.NS','SUNPHARMA.NS','ONGC.NS','ADANIENT.NS','ADANIENT.NS','NTPC.NS','KOTAKBANK.NS','TITAN.NS']\n",
        "\n",
        "LARGE_STOCKS = NEW_EU + NEW_US + NEW_INDIA"
      ],
      "metadata": {
        "id": "_w-ed6a4n01x"
      },
      "execution_count": 43,
      "outputs": []
    },
    {
      "cell_type": "code",
      "source": [
        "import time\n",
        "\n",
        "largest_stocks_df = pd.DataFrame({'A' : []})\n",
        "# Define the start and end dates\n",
        "start_date = '2013-12-25'\n",
        "end_date = '2024-01-01'\n",
        "for i,ticker in enumerate(LARGEST_STOCKS):\n",
        "  print(i,ticker)\n",
        "\n",
        "  # Work with stock prices\n",
        "  historyPrices = yf.download(tickers = ticker,start=start_date, end=end_date,\n",
        "                     interval = \"1d\")\n",
        "\n",
        "  # generate features for historical prices, and what we want to predict\n",
        "  historyPrices['Ticker'] = ticker\n",
        "  historyPrices['ticker_category']= \"LARGEST\"\n",
        "\n",
        "  # historical returns\n",
        "  historyPrices['growth_7d'] = historyPrices['Adj Close'] / historyPrices['Adj Close'].shift(7)\n",
        "\n",
        "\n",
        "\n",
        "  # sleep 1 sec between downloads - not to overload the API server\n",
        "  time.sleep(1)\n",
        "\n",
        "\n",
        "  if largest_stocks_df.empty:\n",
        "    largest_stocks_df = historyPrices\n",
        "  else:\n",
        "    largest_stocks_df = pd.concat([largest_stocks_df, historyPrices], ignore_index=False)"
      ],
      "metadata": {
        "colab": {
          "base_uri": "https://localhost:8080/"
        },
        "id": "UxEZUGkCoCqT",
        "outputId": "f17e6bc4-4666-4b91-d2ca-0617a4cb6a9f"
      },
      "execution_count": 44,
      "outputs": [
        {
          "output_type": "stream",
          "name": "stdout",
          "text": [
            "0 MSFT\n"
          ]
        },
        {
          "output_type": "stream",
          "name": "stderr",
          "text": [
            "\r[*********************100%%**********************]  1 of 1 completed\n"
          ]
        },
        {
          "output_type": "stream",
          "name": "stdout",
          "text": [
            "1 AAPL\n"
          ]
        },
        {
          "output_type": "stream",
          "name": "stderr",
          "text": [
            "[*********************100%%**********************]  1 of 1 completed\n",
            "[*********************100%%**********************]  1 of 1 completed"
          ]
        },
        {
          "output_type": "stream",
          "name": "stdout",
          "text": [
            "2 GOOG\n"
          ]
        },
        {
          "output_type": "stream",
          "name": "stderr",
          "text": [
            "\n"
          ]
        },
        {
          "output_type": "stream",
          "name": "stdout",
          "text": [
            "3 NVDA\n"
          ]
        },
        {
          "output_type": "stream",
          "name": "stderr",
          "text": [
            "[*********************100%%**********************]  1 of 1 completed\n",
            "[*********************100%%**********************]  1 of 1 completed"
          ]
        },
        {
          "output_type": "stream",
          "name": "stdout",
          "text": [
            "4 AMZN\n"
          ]
        },
        {
          "output_type": "stream",
          "name": "stderr",
          "text": [
            "\n",
            "[*********************100%%**********************]  1 of 1 completed"
          ]
        },
        {
          "output_type": "stream",
          "name": "stdout",
          "text": [
            "5 META\n"
          ]
        },
        {
          "output_type": "stream",
          "name": "stderr",
          "text": [
            "\n",
            "[*********************100%%**********************]  1 of 1 completed"
          ]
        },
        {
          "output_type": "stream",
          "name": "stdout",
          "text": [
            "6 BRK-B\n"
          ]
        },
        {
          "output_type": "stream",
          "name": "stderr",
          "text": [
            "\n"
          ]
        },
        {
          "output_type": "stream",
          "name": "stdout",
          "text": [
            "7 LLY\n"
          ]
        },
        {
          "output_type": "stream",
          "name": "stderr",
          "text": [
            "\r[*********************100%%**********************]  1 of 1 completed\n"
          ]
        },
        {
          "output_type": "stream",
          "name": "stdout",
          "text": [
            "8 AVGO\n"
          ]
        },
        {
          "output_type": "stream",
          "name": "stderr",
          "text": [
            "\r[*********************100%%**********************]  1 of 1 completed\n"
          ]
        },
        {
          "output_type": "stream",
          "name": "stdout",
          "text": [
            "9 V\n"
          ]
        },
        {
          "output_type": "stream",
          "name": "stderr",
          "text": [
            "\r[*********************100%%**********************]  1 of 1 completed\n"
          ]
        },
        {
          "output_type": "stream",
          "name": "stdout",
          "text": [
            "10 JPM\n"
          ]
        },
        {
          "output_type": "stream",
          "name": "stderr",
          "text": [
            "\r[*********************100%%**********************]  1 of 1 completed\n"
          ]
        },
        {
          "output_type": "stream",
          "name": "stdout",
          "text": [
            "11 NVO\n"
          ]
        },
        {
          "output_type": "stream",
          "name": "stderr",
          "text": [
            "\r[*********************100%%**********************]  1 of 1 completed\n"
          ]
        },
        {
          "output_type": "stream",
          "name": "stdout",
          "text": [
            "12 MC.PA\n"
          ]
        },
        {
          "output_type": "stream",
          "name": "stderr",
          "text": [
            "\r[*********************100%%**********************]  1 of 1 completed\n"
          ]
        },
        {
          "output_type": "stream",
          "name": "stdout",
          "text": [
            "13 ASML\n"
          ]
        },
        {
          "output_type": "stream",
          "name": "stderr",
          "text": [
            "\r[*********************100%%**********************]  1 of 1 completed\n"
          ]
        },
        {
          "output_type": "stream",
          "name": "stdout",
          "text": [
            "14 RMS.PA\n"
          ]
        },
        {
          "output_type": "stream",
          "name": "stderr",
          "text": [
            "\r[*********************100%%**********************]  1 of 1 completed\n"
          ]
        },
        {
          "output_type": "stream",
          "name": "stdout",
          "text": [
            "15 OR.PA\n"
          ]
        },
        {
          "output_type": "stream",
          "name": "stderr",
          "text": [
            "\r[*********************100%%**********************]  1 of 1 completed\n"
          ]
        },
        {
          "output_type": "stream",
          "name": "stdout",
          "text": [
            "16 SAP\n"
          ]
        },
        {
          "output_type": "stream",
          "name": "stderr",
          "text": [
            "\r[*********************100%%**********************]  1 of 1 completed\n"
          ]
        },
        {
          "output_type": "stream",
          "name": "stdout",
          "text": [
            "17 ACN\n"
          ]
        },
        {
          "output_type": "stream",
          "name": "stderr",
          "text": [
            "\r[*********************100%%**********************]  1 of 1 completed\n"
          ]
        },
        {
          "output_type": "stream",
          "name": "stdout",
          "text": [
            "18 TTE\n"
          ]
        },
        {
          "output_type": "stream",
          "name": "stderr",
          "text": [
            "\r[*********************100%%**********************]  1 of 1 completed\n"
          ]
        },
        {
          "output_type": "stream",
          "name": "stdout",
          "text": [
            "19 SIE.DE\n"
          ]
        },
        {
          "output_type": "stream",
          "name": "stderr",
          "text": [
            "\r[*********************100%%**********************]  1 of 1 completed\n"
          ]
        },
        {
          "output_type": "stream",
          "name": "stdout",
          "text": [
            "20 IDEXY\n"
          ]
        },
        {
          "output_type": "stream",
          "name": "stderr",
          "text": [
            "\r[*********************100%%**********************]  1 of 1 completed\n"
          ]
        },
        {
          "output_type": "stream",
          "name": "stdout",
          "text": [
            "21 CDI.PA\n"
          ]
        },
        {
          "output_type": "stream",
          "name": "stderr",
          "text": [
            "\r[*********************100%%**********************]  1 of 1 completed\n"
          ]
        },
        {
          "output_type": "stream",
          "name": "stdout",
          "text": [
            "22 RELIANCE.NS\n"
          ]
        },
        {
          "output_type": "stream",
          "name": "stderr",
          "text": [
            "\r[*********************100%%**********************]  1 of 1 completed\n"
          ]
        },
        {
          "output_type": "stream",
          "name": "stdout",
          "text": [
            "23 TCS.NS\n"
          ]
        },
        {
          "output_type": "stream",
          "name": "stderr",
          "text": [
            "\r[*********************100%%**********************]  1 of 1 completed\n"
          ]
        },
        {
          "output_type": "stream",
          "name": "stdout",
          "text": [
            "24 HDB\n"
          ]
        },
        {
          "output_type": "stream",
          "name": "stderr",
          "text": [
            "\r[*********************100%%**********************]  1 of 1 completed\n"
          ]
        },
        {
          "output_type": "stream",
          "name": "stdout",
          "text": [
            "25 BHARTIARTL.NS\n"
          ]
        },
        {
          "output_type": "stream",
          "name": "stderr",
          "text": [
            "\r[*********************100%%**********************]  1 of 1 completed\n"
          ]
        },
        {
          "output_type": "stream",
          "name": "stdout",
          "text": [
            "26 IBN\n"
          ]
        },
        {
          "output_type": "stream",
          "name": "stderr",
          "text": [
            "\r[*********************100%%**********************]  1 of 1 completed\n"
          ]
        },
        {
          "output_type": "stream",
          "name": "stdout",
          "text": [
            "27 SBIN.NS\n"
          ]
        },
        {
          "output_type": "stream",
          "name": "stderr",
          "text": [
            "[*********************100%%**********************]  1 of 1 completed\n",
            "[*********************100%%**********************]  1 of 1 completed"
          ]
        },
        {
          "output_type": "stream",
          "name": "stdout",
          "text": [
            "28 LICI.NS\n"
          ]
        },
        {
          "output_type": "stream",
          "name": "stderr",
          "text": [
            "\n"
          ]
        },
        {
          "output_type": "stream",
          "name": "stdout",
          "text": [
            "29 INFY\n"
          ]
        },
        {
          "output_type": "stream",
          "name": "stderr",
          "text": [
            "\r[*********************100%%**********************]  1 of 1 completed\n"
          ]
        },
        {
          "output_type": "stream",
          "name": "stdout",
          "text": [
            "30 ITC.NS\n"
          ]
        },
        {
          "output_type": "stream",
          "name": "stderr",
          "text": [
            "\r[*********************100%%**********************]  1 of 1 completed\n"
          ]
        },
        {
          "output_type": "stream",
          "name": "stdout",
          "text": [
            "31 HINDUNILVR.NS\n"
          ]
        },
        {
          "output_type": "stream",
          "name": "stderr",
          "text": [
            "\r[*********************100%%**********************]  1 of 1 completed\n"
          ]
        },
        {
          "output_type": "stream",
          "name": "stdout",
          "text": [
            "32 LT.NS\n"
          ]
        },
        {
          "output_type": "stream",
          "name": "stderr",
          "text": [
            "\r[*********************100%%**********************]  1 of 1 completed\n"
          ]
        }
      ]
    },
    {
      "cell_type": "code",
      "source": [
        "largest_stocks_df"
      ],
      "metadata": {
        "colab": {
          "base_uri": "https://localhost:8080/",
          "height": 455
        },
        "id": "LJhnb9l2oL33",
        "outputId": "d235db82-4b27-46d2-c1ae-eec8494cdb5f"
      },
      "execution_count": 45,
      "outputs": [
        {
          "output_type": "execute_result",
          "data": {
            "text/plain": [
              "                   Open         High          Low        Close    Adj Close  \\\n",
              "Date                                                                          \n",
              "2013-12-26    37.200001    37.490002    37.169998    37.439999    31.468412   \n",
              "2013-12-27    37.580002    37.619999    37.169998    37.290001    31.342333   \n",
              "2013-12-30    37.220001    37.380001    36.900002    37.290001    31.342333   \n",
              "2013-12-31    37.400002    37.580002    37.220001    37.410000    31.443182   \n",
              "2014-01-02    37.349998    37.400002    37.099998    37.160000    31.233068   \n",
              "...                 ...          ...          ...          ...          ...   \n",
              "2023-12-22  3424.000000  3496.000000  3408.600098  3477.949951  3477.949951   \n",
              "2023-12-26  3477.949951  3508.350098  3477.949951  3490.050049  3490.050049   \n",
              "2023-12-27  3510.000000  3549.000000  3504.149902  3544.000000  3544.000000   \n",
              "2023-12-28  3545.000000  3559.949951  3500.500000  3518.050049  3518.050049   \n",
              "2023-12-29  3531.000000  3540.000000  3495.000000  3526.000000  3526.000000   \n",
              "\n",
              "              Volume Ticker ticker_category  growth_7d  \n",
              "Date                                                    \n",
              "2013-12-26  17612800   MSFT         LARGEST        NaN  \n",
              "2013-12-27  14563000   MSFT         LARGEST        NaN  \n",
              "2013-12-30  16290500   MSFT         LARGEST        NaN  \n",
              "2013-12-31  17503500   MSFT         LARGEST        NaN  \n",
              "2014-01-02  30632200   MSFT         LARGEST        NaN  \n",
              "...              ...    ...             ...        ...  \n",
              "2023-12-22   1681707  LT.NS         LARGEST   1.022987  \n",
              "2023-12-26   1072263  LT.NS         LARGEST   1.016588  \n",
              "2023-12-27   1389266  LT.NS         LARGEST   1.016055  \n",
              "2023-12-28   3371121  LT.NS         LARGEST   1.007575  \n",
              "2023-12-29    968577  LT.NS         LARGEST   1.007731  \n",
              "\n",
              "[80884 rows x 9 columns]"
            ],
            "text/html": [
              "\n",
              "  <div id=\"df-6b218807-4397-4656-890a-d84e4276af23\" class=\"colab-df-container\">\n",
              "    <div>\n",
              "<style scoped>\n",
              "    .dataframe tbody tr th:only-of-type {\n",
              "        vertical-align: middle;\n",
              "    }\n",
              "\n",
              "    .dataframe tbody tr th {\n",
              "        vertical-align: top;\n",
              "    }\n",
              "\n",
              "    .dataframe thead th {\n",
              "        text-align: right;\n",
              "    }\n",
              "</style>\n",
              "<table border=\"1\" class=\"dataframe\">\n",
              "  <thead>\n",
              "    <tr style=\"text-align: right;\">\n",
              "      <th></th>\n",
              "      <th>Open</th>\n",
              "      <th>High</th>\n",
              "      <th>Low</th>\n",
              "      <th>Close</th>\n",
              "      <th>Adj Close</th>\n",
              "      <th>Volume</th>\n",
              "      <th>Ticker</th>\n",
              "      <th>ticker_category</th>\n",
              "      <th>growth_7d</th>\n",
              "    </tr>\n",
              "    <tr>\n",
              "      <th>Date</th>\n",
              "      <th></th>\n",
              "      <th></th>\n",
              "      <th></th>\n",
              "      <th></th>\n",
              "      <th></th>\n",
              "      <th></th>\n",
              "      <th></th>\n",
              "      <th></th>\n",
              "      <th></th>\n",
              "    </tr>\n",
              "  </thead>\n",
              "  <tbody>\n",
              "    <tr>\n",
              "      <th>2013-12-26</th>\n",
              "      <td>37.200001</td>\n",
              "      <td>37.490002</td>\n",
              "      <td>37.169998</td>\n",
              "      <td>37.439999</td>\n",
              "      <td>31.468412</td>\n",
              "      <td>17612800</td>\n",
              "      <td>MSFT</td>\n",
              "      <td>LARGEST</td>\n",
              "      <td>NaN</td>\n",
              "    </tr>\n",
              "    <tr>\n",
              "      <th>2013-12-27</th>\n",
              "      <td>37.580002</td>\n",
              "      <td>37.619999</td>\n",
              "      <td>37.169998</td>\n",
              "      <td>37.290001</td>\n",
              "      <td>31.342333</td>\n",
              "      <td>14563000</td>\n",
              "      <td>MSFT</td>\n",
              "      <td>LARGEST</td>\n",
              "      <td>NaN</td>\n",
              "    </tr>\n",
              "    <tr>\n",
              "      <th>2013-12-30</th>\n",
              "      <td>37.220001</td>\n",
              "      <td>37.380001</td>\n",
              "      <td>36.900002</td>\n",
              "      <td>37.290001</td>\n",
              "      <td>31.342333</td>\n",
              "      <td>16290500</td>\n",
              "      <td>MSFT</td>\n",
              "      <td>LARGEST</td>\n",
              "      <td>NaN</td>\n",
              "    </tr>\n",
              "    <tr>\n",
              "      <th>2013-12-31</th>\n",
              "      <td>37.400002</td>\n",
              "      <td>37.580002</td>\n",
              "      <td>37.220001</td>\n",
              "      <td>37.410000</td>\n",
              "      <td>31.443182</td>\n",
              "      <td>17503500</td>\n",
              "      <td>MSFT</td>\n",
              "      <td>LARGEST</td>\n",
              "      <td>NaN</td>\n",
              "    </tr>\n",
              "    <tr>\n",
              "      <th>2014-01-02</th>\n",
              "      <td>37.349998</td>\n",
              "      <td>37.400002</td>\n",
              "      <td>37.099998</td>\n",
              "      <td>37.160000</td>\n",
              "      <td>31.233068</td>\n",
              "      <td>30632200</td>\n",
              "      <td>MSFT</td>\n",
              "      <td>LARGEST</td>\n",
              "      <td>NaN</td>\n",
              "    </tr>\n",
              "    <tr>\n",
              "      <th>...</th>\n",
              "      <td>...</td>\n",
              "      <td>...</td>\n",
              "      <td>...</td>\n",
              "      <td>...</td>\n",
              "      <td>...</td>\n",
              "      <td>...</td>\n",
              "      <td>...</td>\n",
              "      <td>...</td>\n",
              "      <td>...</td>\n",
              "    </tr>\n",
              "    <tr>\n",
              "      <th>2023-12-22</th>\n",
              "      <td>3424.000000</td>\n",
              "      <td>3496.000000</td>\n",
              "      <td>3408.600098</td>\n",
              "      <td>3477.949951</td>\n",
              "      <td>3477.949951</td>\n",
              "      <td>1681707</td>\n",
              "      <td>LT.NS</td>\n",
              "      <td>LARGEST</td>\n",
              "      <td>1.022987</td>\n",
              "    </tr>\n",
              "    <tr>\n",
              "      <th>2023-12-26</th>\n",
              "      <td>3477.949951</td>\n",
              "      <td>3508.350098</td>\n",
              "      <td>3477.949951</td>\n",
              "      <td>3490.050049</td>\n",
              "      <td>3490.050049</td>\n",
              "      <td>1072263</td>\n",
              "      <td>LT.NS</td>\n",
              "      <td>LARGEST</td>\n",
              "      <td>1.016588</td>\n",
              "    </tr>\n",
              "    <tr>\n",
              "      <th>2023-12-27</th>\n",
              "      <td>3510.000000</td>\n",
              "      <td>3549.000000</td>\n",
              "      <td>3504.149902</td>\n",
              "      <td>3544.000000</td>\n",
              "      <td>3544.000000</td>\n",
              "      <td>1389266</td>\n",
              "      <td>LT.NS</td>\n",
              "      <td>LARGEST</td>\n",
              "      <td>1.016055</td>\n",
              "    </tr>\n",
              "    <tr>\n",
              "      <th>2023-12-28</th>\n",
              "      <td>3545.000000</td>\n",
              "      <td>3559.949951</td>\n",
              "      <td>3500.500000</td>\n",
              "      <td>3518.050049</td>\n",
              "      <td>3518.050049</td>\n",
              "      <td>3371121</td>\n",
              "      <td>LT.NS</td>\n",
              "      <td>LARGEST</td>\n",
              "      <td>1.007575</td>\n",
              "    </tr>\n",
              "    <tr>\n",
              "      <th>2023-12-29</th>\n",
              "      <td>3531.000000</td>\n",
              "      <td>3540.000000</td>\n",
              "      <td>3495.000000</td>\n",
              "      <td>3526.000000</td>\n",
              "      <td>3526.000000</td>\n",
              "      <td>968577</td>\n",
              "      <td>LT.NS</td>\n",
              "      <td>LARGEST</td>\n",
              "      <td>1.007731</td>\n",
              "    </tr>\n",
              "  </tbody>\n",
              "</table>\n",
              "<p>80884 rows × 9 columns</p>\n",
              "</div>\n",
              "    <div class=\"colab-df-buttons\">\n",
              "\n",
              "  <div class=\"colab-df-container\">\n",
              "    <button class=\"colab-df-convert\" onclick=\"convertToInteractive('df-6b218807-4397-4656-890a-d84e4276af23')\"\n",
              "            title=\"Convert this dataframe to an interactive table.\"\n",
              "            style=\"display:none;\">\n",
              "\n",
              "  <svg xmlns=\"http://www.w3.org/2000/svg\" height=\"24px\" viewBox=\"0 -960 960 960\">\n",
              "    <path d=\"M120-120v-720h720v720H120Zm60-500h600v-160H180v160Zm220 220h160v-160H400v160Zm0 220h160v-160H400v160ZM180-400h160v-160H180v160Zm440 0h160v-160H620v160ZM180-180h160v-160H180v160Zm440 0h160v-160H620v160Z\"/>\n",
              "  </svg>\n",
              "    </button>\n",
              "\n",
              "  <style>\n",
              "    .colab-df-container {\n",
              "      display:flex;\n",
              "      gap: 12px;\n",
              "    }\n",
              "\n",
              "    .colab-df-convert {\n",
              "      background-color: #E8F0FE;\n",
              "      border: none;\n",
              "      border-radius: 50%;\n",
              "      cursor: pointer;\n",
              "      display: none;\n",
              "      fill: #1967D2;\n",
              "      height: 32px;\n",
              "      padding: 0 0 0 0;\n",
              "      width: 32px;\n",
              "    }\n",
              "\n",
              "    .colab-df-convert:hover {\n",
              "      background-color: #E2EBFA;\n",
              "      box-shadow: 0px 1px 2px rgba(60, 64, 67, 0.3), 0px 1px 3px 1px rgba(60, 64, 67, 0.15);\n",
              "      fill: #174EA6;\n",
              "    }\n",
              "\n",
              "    .colab-df-buttons div {\n",
              "      margin-bottom: 4px;\n",
              "    }\n",
              "\n",
              "    [theme=dark] .colab-df-convert {\n",
              "      background-color: #3B4455;\n",
              "      fill: #D2E3FC;\n",
              "    }\n",
              "\n",
              "    [theme=dark] .colab-df-convert:hover {\n",
              "      background-color: #434B5C;\n",
              "      box-shadow: 0px 1px 3px 1px rgba(0, 0, 0, 0.15);\n",
              "      filter: drop-shadow(0px 1px 2px rgba(0, 0, 0, 0.3));\n",
              "      fill: #FFFFFF;\n",
              "    }\n",
              "  </style>\n",
              "\n",
              "    <script>\n",
              "      const buttonEl =\n",
              "        document.querySelector('#df-6b218807-4397-4656-890a-d84e4276af23 button.colab-df-convert');\n",
              "      buttonEl.style.display =\n",
              "        google.colab.kernel.accessAllowed ? 'block' : 'none';\n",
              "\n",
              "      async function convertToInteractive(key) {\n",
              "        const element = document.querySelector('#df-6b218807-4397-4656-890a-d84e4276af23');\n",
              "        const dataTable =\n",
              "          await google.colab.kernel.invokeFunction('convertToInteractive',\n",
              "                                                    [key], {});\n",
              "        if (!dataTable) return;\n",
              "\n",
              "        const docLinkHtml = 'Like what you see? Visit the ' +\n",
              "          '<a target=\"_blank\" href=https://colab.research.google.com/notebooks/data_table.ipynb>data table notebook</a>'\n",
              "          + ' to learn more about interactive tables.';\n",
              "        element.innerHTML = '';\n",
              "        dataTable['output_type'] = 'display_data';\n",
              "        await google.colab.output.renderOutput(dataTable, element);\n",
              "        const docLink = document.createElement('div');\n",
              "        docLink.innerHTML = docLinkHtml;\n",
              "        element.appendChild(docLink);\n",
              "      }\n",
              "    </script>\n",
              "  </div>\n",
              "\n",
              "\n",
              "<div id=\"df-8c166507-735e-46ab-95e1-6f14b2403a6e\">\n",
              "  <button class=\"colab-df-quickchart\" onclick=\"quickchart('df-8c166507-735e-46ab-95e1-6f14b2403a6e')\"\n",
              "            title=\"Suggest charts\"\n",
              "            style=\"display:none;\">\n",
              "\n",
              "<svg xmlns=\"http://www.w3.org/2000/svg\" height=\"24px\"viewBox=\"0 0 24 24\"\n",
              "     width=\"24px\">\n",
              "    <g>\n",
              "        <path d=\"M19 3H5c-1.1 0-2 .9-2 2v14c0 1.1.9 2 2 2h14c1.1 0 2-.9 2-2V5c0-1.1-.9-2-2-2zM9 17H7v-7h2v7zm4 0h-2V7h2v10zm4 0h-2v-4h2v4z\"/>\n",
              "    </g>\n",
              "</svg>\n",
              "  </button>\n",
              "\n",
              "<style>\n",
              "  .colab-df-quickchart {\n",
              "      --bg-color: #E8F0FE;\n",
              "      --fill-color: #1967D2;\n",
              "      --hover-bg-color: #E2EBFA;\n",
              "      --hover-fill-color: #174EA6;\n",
              "      --disabled-fill-color: #AAA;\n",
              "      --disabled-bg-color: #DDD;\n",
              "  }\n",
              "\n",
              "  [theme=dark] .colab-df-quickchart {\n",
              "      --bg-color: #3B4455;\n",
              "      --fill-color: #D2E3FC;\n",
              "      --hover-bg-color: #434B5C;\n",
              "      --hover-fill-color: #FFFFFF;\n",
              "      --disabled-bg-color: #3B4455;\n",
              "      --disabled-fill-color: #666;\n",
              "  }\n",
              "\n",
              "  .colab-df-quickchart {\n",
              "    background-color: var(--bg-color);\n",
              "    border: none;\n",
              "    border-radius: 50%;\n",
              "    cursor: pointer;\n",
              "    display: none;\n",
              "    fill: var(--fill-color);\n",
              "    height: 32px;\n",
              "    padding: 0;\n",
              "    width: 32px;\n",
              "  }\n",
              "\n",
              "  .colab-df-quickchart:hover {\n",
              "    background-color: var(--hover-bg-color);\n",
              "    box-shadow: 0 1px 2px rgba(60, 64, 67, 0.3), 0 1px 3px 1px rgba(60, 64, 67, 0.15);\n",
              "    fill: var(--button-hover-fill-color);\n",
              "  }\n",
              "\n",
              "  .colab-df-quickchart-complete:disabled,\n",
              "  .colab-df-quickchart-complete:disabled:hover {\n",
              "    background-color: var(--disabled-bg-color);\n",
              "    fill: var(--disabled-fill-color);\n",
              "    box-shadow: none;\n",
              "  }\n",
              "\n",
              "  .colab-df-spinner {\n",
              "    border: 2px solid var(--fill-color);\n",
              "    border-color: transparent;\n",
              "    border-bottom-color: var(--fill-color);\n",
              "    animation:\n",
              "      spin 1s steps(1) infinite;\n",
              "  }\n",
              "\n",
              "  @keyframes spin {\n",
              "    0% {\n",
              "      border-color: transparent;\n",
              "      border-bottom-color: var(--fill-color);\n",
              "      border-left-color: var(--fill-color);\n",
              "    }\n",
              "    20% {\n",
              "      border-color: transparent;\n",
              "      border-left-color: var(--fill-color);\n",
              "      border-top-color: var(--fill-color);\n",
              "    }\n",
              "    30% {\n",
              "      border-color: transparent;\n",
              "      border-left-color: var(--fill-color);\n",
              "      border-top-color: var(--fill-color);\n",
              "      border-right-color: var(--fill-color);\n",
              "    }\n",
              "    40% {\n",
              "      border-color: transparent;\n",
              "      border-right-color: var(--fill-color);\n",
              "      border-top-color: var(--fill-color);\n",
              "    }\n",
              "    60% {\n",
              "      border-color: transparent;\n",
              "      border-right-color: var(--fill-color);\n",
              "    }\n",
              "    80% {\n",
              "      border-color: transparent;\n",
              "      border-right-color: var(--fill-color);\n",
              "      border-bottom-color: var(--fill-color);\n",
              "    }\n",
              "    90% {\n",
              "      border-color: transparent;\n",
              "      border-bottom-color: var(--fill-color);\n",
              "    }\n",
              "  }\n",
              "</style>\n",
              "\n",
              "  <script>\n",
              "    async function quickchart(key) {\n",
              "      const quickchartButtonEl =\n",
              "        document.querySelector('#' + key + ' button');\n",
              "      quickchartButtonEl.disabled = true;  // To prevent multiple clicks.\n",
              "      quickchartButtonEl.classList.add('colab-df-spinner');\n",
              "      try {\n",
              "        const charts = await google.colab.kernel.invokeFunction(\n",
              "            'suggestCharts', [key], {});\n",
              "      } catch (error) {\n",
              "        console.error('Error during call to suggestCharts:', error);\n",
              "      }\n",
              "      quickchartButtonEl.classList.remove('colab-df-spinner');\n",
              "      quickchartButtonEl.classList.add('colab-df-quickchart-complete');\n",
              "    }\n",
              "    (() => {\n",
              "      let quickchartButtonEl =\n",
              "        document.querySelector('#df-8c166507-735e-46ab-95e1-6f14b2403a6e button');\n",
              "      quickchartButtonEl.style.display =\n",
              "        google.colab.kernel.accessAllowed ? 'block' : 'none';\n",
              "    })();\n",
              "  </script>\n",
              "</div>\n",
              "    </div>\n",
              "  </div>\n"
            ],
            "application/vnd.google.colaboratory.intrinsic+json": {
              "type": "dataframe",
              "variable_name": "largest_stocks_df",
              "summary": "{\n  \"name\": \"largest_stocks_df\",\n  \"rows\": 80884,\n  \"fields\": [\n    {\n      \"column\": \"Date\",\n      \"properties\": {\n        \"dtype\": \"date\",\n        \"min\": \"2013-12-26 00:00:00\",\n        \"max\": \"2023-12-29 00:00:00\",\n        \"num_unique_values\": 2599,\n        \"samples\": [\n          \"2020-04-27 00:00:00\",\n          \"2014-10-07 00:00:00\",\n          \"2014-12-08 00:00:00\"\n        ],\n        \"semantic_type\": \"\",\n        \"description\": \"\"\n      }\n    },\n    {\n      \"column\": \"Open\",\n      \"properties\": {\n        \"dtype\": \"number\",\n        \"std\": 578.6907109115198,\n        \"min\": 3.8575000762939453,\n        \"max\": 4033.949951171875,\n        \"num_unique_values\": 44654,\n        \"samples\": [\n          447.10870361328125,\n          134.9199981689453,\n          375.8999938964844\n        ],\n        \"semantic_type\": \"\",\n        \"description\": \"\"\n      }\n    },\n    {\n      \"column\": \"High\",\n      \"properties\": {\n        \"dtype\": \"number\",\n        \"std\": 584.3142687070681,\n        \"min\": 3.880000114440918,\n        \"max\": 4043.0,\n        \"num_unique_values\": 46912,\n        \"samples\": [\n          228.5800018310547,\n          215.99000549316406,\n          7.554999828338623\n        ],\n        \"semantic_type\": \"\",\n        \"description\": \"\"\n      }\n    },\n    {\n      \"column\": \"Low\",\n      \"properties\": {\n        \"dtype\": \"number\",\n        \"std\": 572.6628516745507,\n        \"min\": 3.8299999237060547,\n        \"max\": 3980.0,\n        \"num_unique_values\": 46963,\n        \"samples\": [\n          42.54499816894531,\n          828.5399780273438,\n          1965.800048828125\n        ],\n        \"semantic_type\": \"\",\n        \"description\": \"\"\n      }\n    },\n    {\n      \"column\": \"Close\",\n      \"properties\": {\n        \"dtype\": \"number\",\n        \"std\": 578.4389464134008,\n        \"min\": 3.8399999141693115,\n        \"max\": 4019.14990234375,\n        \"num_unique_values\": 49238,\n        \"samples\": [\n          2204.5,\n          314.9443359375,\n          80.98999786376953\n        ],\n        \"semantic_type\": \"\",\n        \"description\": \"\"\n      }\n    },\n    {\n      \"column\": \"Adj Close\",\n      \"properties\": {\n        \"dtype\": \"number\",\n        \"std\": 556.4697199198154,\n        \"min\": 3.622623920440674,\n        \"max\": 3843.19189453125,\n        \"num_unique_values\": 75102,\n        \"samples\": [\n          101.79215240478516,\n          40.35837936401367,\n          112.59780883789062\n        ],\n        \"semantic_type\": \"\",\n        \"description\": \"\"\n      }\n    },\n    {\n      \"column\": \"Volume\",\n      \"properties\": {\n        \"dtype\": \"number\",\n        \"std\": 33247661,\n        \"min\": 0,\n        \"max\": 1065523200,\n        \"num_unique_values\": 73627,\n        \"samples\": [\n          1172609,\n          1617826,\n          18023800\n        ],\n        \"semantic_type\": \"\",\n        \"description\": \"\"\n      }\n    },\n    {\n      \"column\": \"Ticker\",\n      \"properties\": {\n        \"dtype\": \"category\",\n        \"num_unique_values\": 33,\n        \"samples\": [\n          \"HINDUNILVR.NS\",\n          \"OR.PA\",\n          \"IBN\"\n        ],\n        \"semantic_type\": \"\",\n        \"description\": \"\"\n      }\n    },\n    {\n      \"column\": \"ticker_category\",\n      \"properties\": {\n        \"dtype\": \"category\",\n        \"num_unique_values\": 1,\n        \"samples\": [\n          \"LARGEST\"\n        ],\n        \"semantic_type\": \"\",\n        \"description\": \"\"\n      }\n    },\n    {\n      \"column\": \"growth_7d\",\n      \"properties\": {\n        \"dtype\": \"number\",\n        \"std\": 0.04619304251748869,\n        \"min\": 0.604041955840755,\n        \"max\": 1.5173876784666855,\n        \"num_unique_values\": 80481,\n        \"samples\": [\n          1.0357728886619342\n        ],\n        \"semantic_type\": \"\",\n        \"description\": \"\"\n      }\n    }\n  ]\n}"
            }
          },
          "metadata": {},
          "execution_count": 45
        }
      ]
    },
    {
      "cell_type": "code",
      "source": [
        "large_stocks_df = pd.DataFrame({'A' : []})\n",
        "# Define the start and end dates\n",
        "start_date = '2013-12-25'\n",
        "end_date = '2024-01-01'\n",
        "for i,ticker in enumerate(LARGE_STOCKS):\n",
        "  print(i,ticker)\n",
        "\n",
        "  # Work with stock prices\n",
        "  historyPrices = yf.download(tickers = ticker,start=start_date, end=end_date,\n",
        "                     interval = \"1d\")\n",
        "\n",
        "  # generate features for historical prices, and what we want to predict\n",
        "  historyPrices['Ticker'] = ticker\n",
        "  historyPrices['ticker_category']= \"LARGE\"\n",
        "  # historical returns\n",
        "  historyPrices['growth_7d'] = historyPrices['Adj Close'] / historyPrices['Adj Close'].shift(7)\n",
        "\n",
        "  # sleep 1 sec between downloads - not to overload the API server\n",
        "  time.sleep(1)\n",
        "\n",
        "\n",
        "  if large_stocks_df.empty:\n",
        "    large_stocks_df = historyPrices\n",
        "  else:\n",
        "    large_stocks_df = pd.concat([large_stocks_df, historyPrices], ignore_index=False)"
      ],
      "metadata": {
        "colab": {
          "base_uri": "https://localhost:8080/"
        },
        "id": "0VjYybhbo_Py",
        "outputId": "bbeeaed4-1d64-4b6c-a534-7db287a50034"
      },
      "execution_count": 46,
      "outputs": [
        {
          "output_type": "stream",
          "name": "stdout",
          "text": [
            "0 PRX.AS\n"
          ]
        },
        {
          "output_type": "stream",
          "name": "stderr",
          "text": [
            "[*********************100%%**********************]  1 of 1 completed\n",
            "[*********************100%%**********************]  1 of 1 completed"
          ]
        },
        {
          "output_type": "stream",
          "name": "stdout",
          "text": [
            "1 CDI.PA\n"
          ]
        },
        {
          "output_type": "stream",
          "name": "stderr",
          "text": [
            "\n"
          ]
        },
        {
          "output_type": "stream",
          "name": "stdout",
          "text": [
            "2 AIR.PA\n"
          ]
        },
        {
          "output_type": "stream",
          "name": "stderr",
          "text": [
            "\r[*********************100%%**********************]  1 of 1 completed\n"
          ]
        },
        {
          "output_type": "stream",
          "name": "stdout",
          "text": [
            "3 SU.PA\n"
          ]
        },
        {
          "output_type": "stream",
          "name": "stderr",
          "text": [
            "\r[*********************100%%**********************]  1 of 1 completed\n"
          ]
        },
        {
          "output_type": "stream",
          "name": "stdout",
          "text": [
            "4 ETN\n"
          ]
        },
        {
          "output_type": "stream",
          "name": "stderr",
          "text": [
            "\r[*********************100%%**********************]  1 of 1 completed\n"
          ]
        },
        {
          "output_type": "stream",
          "name": "stdout",
          "text": [
            "5 SNY\n"
          ]
        },
        {
          "output_type": "stream",
          "name": "stderr",
          "text": [
            "\r[*********************100%%**********************]  1 of 1 completed\n"
          ]
        },
        {
          "output_type": "stream",
          "name": "stdout",
          "text": [
            "6 BUD\n"
          ]
        },
        {
          "output_type": "stream",
          "name": "stderr",
          "text": [
            "\r[*********************100%%**********************]  1 of 1 completed\n"
          ]
        },
        {
          "output_type": "stream",
          "name": "stdout",
          "text": [
            "7 DTE.DE\n"
          ]
        },
        {
          "output_type": "stream",
          "name": "stderr",
          "text": [
            "\r[*********************100%%**********************]  1 of 1 completed\n"
          ]
        },
        {
          "output_type": "stream",
          "name": "stdout",
          "text": [
            "8 ALV.DE\n"
          ]
        },
        {
          "output_type": "stream",
          "name": "stderr",
          "text": [
            "\r[*********************100%%**********************]  1 of 1 completed\n"
          ]
        },
        {
          "output_type": "stream",
          "name": "stdout",
          "text": [
            "9 MDT\n"
          ]
        },
        {
          "output_type": "stream",
          "name": "stderr",
          "text": [
            "\r[*********************100%%**********************]  1 of 1 completed\n"
          ]
        },
        {
          "output_type": "stream",
          "name": "stdout",
          "text": [
            "10 AI.PA\n"
          ]
        },
        {
          "output_type": "stream",
          "name": "stderr",
          "text": [
            "\r[*********************100%%**********************]  1 of 1 completed\n"
          ]
        },
        {
          "output_type": "stream",
          "name": "stdout",
          "text": [
            "11 EL.PA\n"
          ]
        },
        {
          "output_type": "stream",
          "name": "stderr",
          "text": [
            "[*********************100%%**********************]  1 of 1 completed\n",
            "[*********************100%%**********************]  1 of 1 completed"
          ]
        },
        {
          "output_type": "stream",
          "name": "stdout",
          "text": [
            "12 TSLA\n"
          ]
        },
        {
          "output_type": "stream",
          "name": "stderr",
          "text": [
            "\n"
          ]
        },
        {
          "output_type": "stream",
          "name": "stdout",
          "text": [
            "13 WMT\n"
          ]
        },
        {
          "output_type": "stream",
          "name": "stderr",
          "text": [
            "\r[*********************100%%**********************]  1 of 1 completed\n"
          ]
        },
        {
          "output_type": "stream",
          "name": "stdout",
          "text": [
            "14 XOM\n"
          ]
        },
        {
          "output_type": "stream",
          "name": "stderr",
          "text": [
            "\r[*********************100%%**********************]  1 of 1 completed\n"
          ]
        },
        {
          "output_type": "stream",
          "name": "stdout",
          "text": [
            "15 UNH\n"
          ]
        },
        {
          "output_type": "stream",
          "name": "stderr",
          "text": [
            "\r[*********************100%%**********************]  1 of 1 completed\n"
          ]
        },
        {
          "output_type": "stream",
          "name": "stdout",
          "text": [
            "16 MA\n"
          ]
        },
        {
          "output_type": "stream",
          "name": "stderr",
          "text": [
            "\r[*********************100%%**********************]  1 of 1 completed\n"
          ]
        },
        {
          "output_type": "stream",
          "name": "stdout",
          "text": [
            "17 PG\n"
          ]
        },
        {
          "output_type": "stream",
          "name": "stderr",
          "text": [
            "\r[*********************100%%**********************]  1 of 1 completed\n"
          ]
        },
        {
          "output_type": "stream",
          "name": "stdout",
          "text": [
            "18 JNJ\n"
          ]
        },
        {
          "output_type": "stream",
          "name": "stderr",
          "text": [
            "\r[*********************100%%**********************]  1 of 1 completed\n"
          ]
        },
        {
          "output_type": "stream",
          "name": "stdout",
          "text": [
            "19 MRK\n"
          ]
        },
        {
          "output_type": "stream",
          "name": "stderr",
          "text": [
            "\r[*********************100%%**********************]  1 of 1 completed\n"
          ]
        },
        {
          "output_type": "stream",
          "name": "stdout",
          "text": [
            "20 HD\n"
          ]
        },
        {
          "output_type": "stream",
          "name": "stderr",
          "text": [
            "\r[*********************100%%**********************]  1 of 1 completed\n"
          ]
        },
        {
          "output_type": "stream",
          "name": "stdout",
          "text": [
            "21 COST\n"
          ]
        },
        {
          "output_type": "stream",
          "name": "stderr",
          "text": [
            "\r[*********************100%%**********************]  1 of 1 completed\n"
          ]
        },
        {
          "output_type": "stream",
          "name": "stdout",
          "text": [
            "22 ORCL\n"
          ]
        },
        {
          "output_type": "stream",
          "name": "stderr",
          "text": [
            "\r[*********************100%%**********************]  1 of 1 completed\n"
          ]
        },
        {
          "output_type": "stream",
          "name": "stdout",
          "text": [
            "23 BAJFINANCE.NS\n"
          ]
        },
        {
          "output_type": "stream",
          "name": "stderr",
          "text": [
            "\r[*********************100%%**********************]  1 of 1 completed\n"
          ]
        },
        {
          "output_type": "stream",
          "name": "stdout",
          "text": [
            "24 MARUTI.NS\n"
          ]
        },
        {
          "output_type": "stream",
          "name": "stderr",
          "text": [
            "\r[*********************100%%**********************]  1 of 1 completed\n"
          ]
        },
        {
          "output_type": "stream",
          "name": "stdout",
          "text": [
            "25 HCLTECH.NS\n"
          ]
        },
        {
          "output_type": "stream",
          "name": "stderr",
          "text": [
            "\r[*********************100%%**********************]  1 of 1 completed\n"
          ]
        },
        {
          "output_type": "stream",
          "name": "stdout",
          "text": [
            "26 TATAMOTORS.NS\n"
          ]
        },
        {
          "output_type": "stream",
          "name": "stderr",
          "text": [
            "\r[*********************100%%**********************]  1 of 1 completed\n"
          ]
        },
        {
          "output_type": "stream",
          "name": "stdout",
          "text": [
            "27 SUNPHARMA.NS\n"
          ]
        },
        {
          "output_type": "stream",
          "name": "stderr",
          "text": [
            "\r[*********************100%%**********************]  1 of 1 completed\n"
          ]
        },
        {
          "output_type": "stream",
          "name": "stdout",
          "text": [
            "28 ONGC.NS\n"
          ]
        },
        {
          "output_type": "stream",
          "name": "stderr",
          "text": [
            "\r[*********************100%%**********************]  1 of 1 completed\n"
          ]
        },
        {
          "output_type": "stream",
          "name": "stdout",
          "text": [
            "29 ADANIENT.NS\n"
          ]
        },
        {
          "output_type": "stream",
          "name": "stderr",
          "text": [
            "[*********************100%%**********************]  1 of 1 completed\n",
            "[*********************100%%**********************]  1 of 1 completed"
          ]
        },
        {
          "output_type": "stream",
          "name": "stdout",
          "text": [
            "30 ADANIENT.NS\n"
          ]
        },
        {
          "output_type": "stream",
          "name": "stderr",
          "text": [
            "\n"
          ]
        },
        {
          "output_type": "stream",
          "name": "stdout",
          "text": [
            "31 NTPC.NS\n"
          ]
        },
        {
          "output_type": "stream",
          "name": "stderr",
          "text": [
            "\r[*********************100%%**********************]  1 of 1 completed\n"
          ]
        },
        {
          "output_type": "stream",
          "name": "stdout",
          "text": [
            "32 KOTAKBANK.NS\n"
          ]
        },
        {
          "output_type": "stream",
          "name": "stderr",
          "text": [
            "\r[*********************100%%**********************]  1 of 1 completed\n"
          ]
        },
        {
          "output_type": "stream",
          "name": "stdout",
          "text": [
            "33 TITAN.NS\n"
          ]
        },
        {
          "output_type": "stream",
          "name": "stderr",
          "text": [
            "\r[*********************100%%**********************]  1 of 1 completed\n"
          ]
        }
      ]
    },
    {
      "cell_type": "code",
      "source": [
        "#Create Date column from index\n",
        "large_stocks_df.reset_index(inplace=True)\n",
        "largest_stocks_df.reset_index(inplace=True)"
      ],
      "metadata": {
        "id": "0Hh-GICJpDdb"
      },
      "execution_count": 47,
      "outputs": []
    },
    {
      "cell_type": "code",
      "source": [
        "largest_stocks_df.info()"
      ],
      "metadata": {
        "colab": {
          "base_uri": "https://localhost:8080/"
        },
        "id": "2uS5OKNTpRb1",
        "outputId": "fd247ad6-790a-4ffb-a8bf-41ac3549330f"
      },
      "execution_count": 48,
      "outputs": [
        {
          "output_type": "stream",
          "name": "stdout",
          "text": [
            "<class 'pandas.core.frame.DataFrame'>\n",
            "RangeIndex: 80884 entries, 0 to 80883\n",
            "Data columns (total 10 columns):\n",
            " #   Column           Non-Null Count  Dtype         \n",
            "---  ------           --------------  -----         \n",
            " 0   Date             80884 non-null  datetime64[ns]\n",
            " 1   Open             80884 non-null  float64       \n",
            " 2   High             80884 non-null  float64       \n",
            " 3   Low              80884 non-null  float64       \n",
            " 4   Close            80884 non-null  float64       \n",
            " 5   Adj Close        80884 non-null  float64       \n",
            " 6   Volume           80884 non-null  int64         \n",
            " 7   Ticker           80884 non-null  object        \n",
            " 8   ticker_category  80884 non-null  object        \n",
            " 9   growth_7d        80653 non-null  float64       \n",
            "dtypes: datetime64[ns](1), float64(6), int64(1), object(2)\n",
            "memory usage: 6.2+ MB\n"
          ]
        }
      ]
    },
    {
      "cell_type": "code",
      "source": [
        "large_stocks_df.info()"
      ],
      "metadata": {
        "colab": {
          "base_uri": "https://localhost:8080/"
        },
        "id": "OaEEdYcQpTnw",
        "outputId": "b5a0cb33-b955-4a6b-ccc6-b71833634aae"
      },
      "execution_count": 49,
      "outputs": [
        {
          "output_type": "stream",
          "name": "stdout",
          "text": [
            "<class 'pandas.core.frame.DataFrame'>\n",
            "RangeIndex: 83968 entries, 0 to 83967\n",
            "Data columns (total 10 columns):\n",
            " #   Column           Non-Null Count  Dtype         \n",
            "---  ------           --------------  -----         \n",
            " 0   Date             83968 non-null  datetime64[ns]\n",
            " 1   Open             83968 non-null  float64       \n",
            " 2   High             83968 non-null  float64       \n",
            " 3   Low              83968 non-null  float64       \n",
            " 4   Close            83968 non-null  float64       \n",
            " 5   Adj Close        83968 non-null  float64       \n",
            " 6   Volume           83968 non-null  int64         \n",
            " 7   Ticker           83968 non-null  object        \n",
            " 8   ticker_category  83968 non-null  object        \n",
            " 9   growth_7d        83730 non-null  float64       \n",
            "dtypes: datetime64[ns](1), float64(6), int64(1), object(2)\n",
            "memory usage: 6.4+ MB\n"
          ]
        }
      ]
    },
    {
      "cell_type": "code",
      "source": [
        "a=large_stocks_df.groupby(by=['Date','ticker_category']).growth_7d.mean()\n",
        "b=largest_stocks_df.groupby(by=['Date','ticker_category']).growth_7d.mean()\n",
        "merged_df = pd.merge(a, b, on=['Date'])\n",
        "merged_df"
      ],
      "metadata": {
        "colab": {
          "base_uri": "https://localhost:8080/",
          "height": 455
        },
        "id": "4e46XTpEpWrk",
        "outputId": "039b54e9-84e2-4cb4-dac8-6c46a0ce1f3d"
      },
      "execution_count": 50,
      "outputs": [
        {
          "output_type": "execute_result",
          "data": {
            "text/plain": [
              "            growth_7d_x  growth_7d_y\n",
              "Date                                \n",
              "2013-12-26          NaN          NaN\n",
              "2013-12-27          NaN          NaN\n",
              "2013-12-30          NaN          NaN\n",
              "2013-12-31          NaN          NaN\n",
              "2014-01-01          NaN          NaN\n",
              "...                 ...          ...\n",
              "2023-12-22     1.003014     1.013788\n",
              "2023-12-26     1.013505     1.014900\n",
              "2023-12-27     1.002167     1.014155\n",
              "2023-12-28     0.998583     1.008533\n",
              "2023-12-29     0.999313     1.005337\n",
              "\n",
              "[2599 rows x 2 columns]"
            ],
            "text/html": [
              "\n",
              "  <div id=\"df-6e3502d6-d0dc-4248-b040-02b78e37a917\" class=\"colab-df-container\">\n",
              "    <div>\n",
              "<style scoped>\n",
              "    .dataframe tbody tr th:only-of-type {\n",
              "        vertical-align: middle;\n",
              "    }\n",
              "\n",
              "    .dataframe tbody tr th {\n",
              "        vertical-align: top;\n",
              "    }\n",
              "\n",
              "    .dataframe thead th {\n",
              "        text-align: right;\n",
              "    }\n",
              "</style>\n",
              "<table border=\"1\" class=\"dataframe\">\n",
              "  <thead>\n",
              "    <tr style=\"text-align: right;\">\n",
              "      <th></th>\n",
              "      <th>growth_7d_x</th>\n",
              "      <th>growth_7d_y</th>\n",
              "    </tr>\n",
              "    <tr>\n",
              "      <th>Date</th>\n",
              "      <th></th>\n",
              "      <th></th>\n",
              "    </tr>\n",
              "  </thead>\n",
              "  <tbody>\n",
              "    <tr>\n",
              "      <th>2013-12-26</th>\n",
              "      <td>NaN</td>\n",
              "      <td>NaN</td>\n",
              "    </tr>\n",
              "    <tr>\n",
              "      <th>2013-12-27</th>\n",
              "      <td>NaN</td>\n",
              "      <td>NaN</td>\n",
              "    </tr>\n",
              "    <tr>\n",
              "      <th>2013-12-30</th>\n",
              "      <td>NaN</td>\n",
              "      <td>NaN</td>\n",
              "    </tr>\n",
              "    <tr>\n",
              "      <th>2013-12-31</th>\n",
              "      <td>NaN</td>\n",
              "      <td>NaN</td>\n",
              "    </tr>\n",
              "    <tr>\n",
              "      <th>2014-01-01</th>\n",
              "      <td>NaN</td>\n",
              "      <td>NaN</td>\n",
              "    </tr>\n",
              "    <tr>\n",
              "      <th>...</th>\n",
              "      <td>...</td>\n",
              "      <td>...</td>\n",
              "    </tr>\n",
              "    <tr>\n",
              "      <th>2023-12-22</th>\n",
              "      <td>1.003014</td>\n",
              "      <td>1.013788</td>\n",
              "    </tr>\n",
              "    <tr>\n",
              "      <th>2023-12-26</th>\n",
              "      <td>1.013505</td>\n",
              "      <td>1.014900</td>\n",
              "    </tr>\n",
              "    <tr>\n",
              "      <th>2023-12-27</th>\n",
              "      <td>1.002167</td>\n",
              "      <td>1.014155</td>\n",
              "    </tr>\n",
              "    <tr>\n",
              "      <th>2023-12-28</th>\n",
              "      <td>0.998583</td>\n",
              "      <td>1.008533</td>\n",
              "    </tr>\n",
              "    <tr>\n",
              "      <th>2023-12-29</th>\n",
              "      <td>0.999313</td>\n",
              "      <td>1.005337</td>\n",
              "    </tr>\n",
              "  </tbody>\n",
              "</table>\n",
              "<p>2599 rows × 2 columns</p>\n",
              "</div>\n",
              "    <div class=\"colab-df-buttons\">\n",
              "\n",
              "  <div class=\"colab-df-container\">\n",
              "    <button class=\"colab-df-convert\" onclick=\"convertToInteractive('df-6e3502d6-d0dc-4248-b040-02b78e37a917')\"\n",
              "            title=\"Convert this dataframe to an interactive table.\"\n",
              "            style=\"display:none;\">\n",
              "\n",
              "  <svg xmlns=\"http://www.w3.org/2000/svg\" height=\"24px\" viewBox=\"0 -960 960 960\">\n",
              "    <path d=\"M120-120v-720h720v720H120Zm60-500h600v-160H180v160Zm220 220h160v-160H400v160Zm0 220h160v-160H400v160ZM180-400h160v-160H180v160Zm440 0h160v-160H620v160ZM180-180h160v-160H180v160Zm440 0h160v-160H620v160Z\"/>\n",
              "  </svg>\n",
              "    </button>\n",
              "\n",
              "  <style>\n",
              "    .colab-df-container {\n",
              "      display:flex;\n",
              "      gap: 12px;\n",
              "    }\n",
              "\n",
              "    .colab-df-convert {\n",
              "      background-color: #E8F0FE;\n",
              "      border: none;\n",
              "      border-radius: 50%;\n",
              "      cursor: pointer;\n",
              "      display: none;\n",
              "      fill: #1967D2;\n",
              "      height: 32px;\n",
              "      padding: 0 0 0 0;\n",
              "      width: 32px;\n",
              "    }\n",
              "\n",
              "    .colab-df-convert:hover {\n",
              "      background-color: #E2EBFA;\n",
              "      box-shadow: 0px 1px 2px rgba(60, 64, 67, 0.3), 0px 1px 3px 1px rgba(60, 64, 67, 0.15);\n",
              "      fill: #174EA6;\n",
              "    }\n",
              "\n",
              "    .colab-df-buttons div {\n",
              "      margin-bottom: 4px;\n",
              "    }\n",
              "\n",
              "    [theme=dark] .colab-df-convert {\n",
              "      background-color: #3B4455;\n",
              "      fill: #D2E3FC;\n",
              "    }\n",
              "\n",
              "    [theme=dark] .colab-df-convert:hover {\n",
              "      background-color: #434B5C;\n",
              "      box-shadow: 0px 1px 3px 1px rgba(0, 0, 0, 0.15);\n",
              "      filter: drop-shadow(0px 1px 2px rgba(0, 0, 0, 0.3));\n",
              "      fill: #FFFFFF;\n",
              "    }\n",
              "  </style>\n",
              "\n",
              "    <script>\n",
              "      const buttonEl =\n",
              "        document.querySelector('#df-6e3502d6-d0dc-4248-b040-02b78e37a917 button.colab-df-convert');\n",
              "      buttonEl.style.display =\n",
              "        google.colab.kernel.accessAllowed ? 'block' : 'none';\n",
              "\n",
              "      async function convertToInteractive(key) {\n",
              "        const element = document.querySelector('#df-6e3502d6-d0dc-4248-b040-02b78e37a917');\n",
              "        const dataTable =\n",
              "          await google.colab.kernel.invokeFunction('convertToInteractive',\n",
              "                                                    [key], {});\n",
              "        if (!dataTable) return;\n",
              "\n",
              "        const docLinkHtml = 'Like what you see? Visit the ' +\n",
              "          '<a target=\"_blank\" href=https://colab.research.google.com/notebooks/data_table.ipynb>data table notebook</a>'\n",
              "          + ' to learn more about interactive tables.';\n",
              "        element.innerHTML = '';\n",
              "        dataTable['output_type'] = 'display_data';\n",
              "        await google.colab.output.renderOutput(dataTable, element);\n",
              "        const docLink = document.createElement('div');\n",
              "        docLink.innerHTML = docLinkHtml;\n",
              "        element.appendChild(docLink);\n",
              "      }\n",
              "    </script>\n",
              "  </div>\n",
              "\n",
              "\n",
              "<div id=\"df-38b0d5e8-08c4-476a-b437-02486118f546\">\n",
              "  <button class=\"colab-df-quickchart\" onclick=\"quickchart('df-38b0d5e8-08c4-476a-b437-02486118f546')\"\n",
              "            title=\"Suggest charts\"\n",
              "            style=\"display:none;\">\n",
              "\n",
              "<svg xmlns=\"http://www.w3.org/2000/svg\" height=\"24px\"viewBox=\"0 0 24 24\"\n",
              "     width=\"24px\">\n",
              "    <g>\n",
              "        <path d=\"M19 3H5c-1.1 0-2 .9-2 2v14c0 1.1.9 2 2 2h14c1.1 0 2-.9 2-2V5c0-1.1-.9-2-2-2zM9 17H7v-7h2v7zm4 0h-2V7h2v10zm4 0h-2v-4h2v4z\"/>\n",
              "    </g>\n",
              "</svg>\n",
              "  </button>\n",
              "\n",
              "<style>\n",
              "  .colab-df-quickchart {\n",
              "      --bg-color: #E8F0FE;\n",
              "      --fill-color: #1967D2;\n",
              "      --hover-bg-color: #E2EBFA;\n",
              "      --hover-fill-color: #174EA6;\n",
              "      --disabled-fill-color: #AAA;\n",
              "      --disabled-bg-color: #DDD;\n",
              "  }\n",
              "\n",
              "  [theme=dark] .colab-df-quickchart {\n",
              "      --bg-color: #3B4455;\n",
              "      --fill-color: #D2E3FC;\n",
              "      --hover-bg-color: #434B5C;\n",
              "      --hover-fill-color: #FFFFFF;\n",
              "      --disabled-bg-color: #3B4455;\n",
              "      --disabled-fill-color: #666;\n",
              "  }\n",
              "\n",
              "  .colab-df-quickchart {\n",
              "    background-color: var(--bg-color);\n",
              "    border: none;\n",
              "    border-radius: 50%;\n",
              "    cursor: pointer;\n",
              "    display: none;\n",
              "    fill: var(--fill-color);\n",
              "    height: 32px;\n",
              "    padding: 0;\n",
              "    width: 32px;\n",
              "  }\n",
              "\n",
              "  .colab-df-quickchart:hover {\n",
              "    background-color: var(--hover-bg-color);\n",
              "    box-shadow: 0 1px 2px rgba(60, 64, 67, 0.3), 0 1px 3px 1px rgba(60, 64, 67, 0.15);\n",
              "    fill: var(--button-hover-fill-color);\n",
              "  }\n",
              "\n",
              "  .colab-df-quickchart-complete:disabled,\n",
              "  .colab-df-quickchart-complete:disabled:hover {\n",
              "    background-color: var(--disabled-bg-color);\n",
              "    fill: var(--disabled-fill-color);\n",
              "    box-shadow: none;\n",
              "  }\n",
              "\n",
              "  .colab-df-spinner {\n",
              "    border: 2px solid var(--fill-color);\n",
              "    border-color: transparent;\n",
              "    border-bottom-color: var(--fill-color);\n",
              "    animation:\n",
              "      spin 1s steps(1) infinite;\n",
              "  }\n",
              "\n",
              "  @keyframes spin {\n",
              "    0% {\n",
              "      border-color: transparent;\n",
              "      border-bottom-color: var(--fill-color);\n",
              "      border-left-color: var(--fill-color);\n",
              "    }\n",
              "    20% {\n",
              "      border-color: transparent;\n",
              "      border-left-color: var(--fill-color);\n",
              "      border-top-color: var(--fill-color);\n",
              "    }\n",
              "    30% {\n",
              "      border-color: transparent;\n",
              "      border-left-color: var(--fill-color);\n",
              "      border-top-color: var(--fill-color);\n",
              "      border-right-color: var(--fill-color);\n",
              "    }\n",
              "    40% {\n",
              "      border-color: transparent;\n",
              "      border-right-color: var(--fill-color);\n",
              "      border-top-color: var(--fill-color);\n",
              "    }\n",
              "    60% {\n",
              "      border-color: transparent;\n",
              "      border-right-color: var(--fill-color);\n",
              "    }\n",
              "    80% {\n",
              "      border-color: transparent;\n",
              "      border-right-color: var(--fill-color);\n",
              "      border-bottom-color: var(--fill-color);\n",
              "    }\n",
              "    90% {\n",
              "      border-color: transparent;\n",
              "      border-bottom-color: var(--fill-color);\n",
              "    }\n",
              "  }\n",
              "</style>\n",
              "\n",
              "  <script>\n",
              "    async function quickchart(key) {\n",
              "      const quickchartButtonEl =\n",
              "        document.querySelector('#' + key + ' button');\n",
              "      quickchartButtonEl.disabled = true;  // To prevent multiple clicks.\n",
              "      quickchartButtonEl.classList.add('colab-df-spinner');\n",
              "      try {\n",
              "        const charts = await google.colab.kernel.invokeFunction(\n",
              "            'suggestCharts', [key], {});\n",
              "      } catch (error) {\n",
              "        console.error('Error during call to suggestCharts:', error);\n",
              "      }\n",
              "      quickchartButtonEl.classList.remove('colab-df-spinner');\n",
              "      quickchartButtonEl.classList.add('colab-df-quickchart-complete');\n",
              "    }\n",
              "    (() => {\n",
              "      let quickchartButtonEl =\n",
              "        document.querySelector('#df-38b0d5e8-08c4-476a-b437-02486118f546 button');\n",
              "      quickchartButtonEl.style.display =\n",
              "        google.colab.kernel.accessAllowed ? 'block' : 'none';\n",
              "    })();\n",
              "  </script>\n",
              "</div>\n",
              "    </div>\n",
              "  </div>\n"
            ],
            "application/vnd.google.colaboratory.intrinsic+json": {
              "type": "dataframe",
              "variable_name": "merged_df",
              "summary": "{\n  \"name\": \"merged_df\",\n  \"rows\": 2599,\n  \"fields\": [\n    {\n      \"column\": \"Date\",\n      \"properties\": {\n        \"dtype\": \"date\",\n        \"min\": \"2013-12-26 00:00:00\",\n        \"max\": \"2023-12-29 00:00:00\",\n        \"num_unique_values\": 2599,\n        \"samples\": [\n          \"2020-02-14 00:00:00\",\n          \"2014-09-29 00:00:00\",\n          \"2014-11-27 00:00:00\"\n        ],\n        \"semantic_type\": \"\",\n        \"description\": \"\"\n      }\n    },\n    {\n      \"column\": \"growth_7d_x\",\n      \"properties\": {\n        \"dtype\": \"number\",\n        \"std\": 0.025189492602436674,\n        \"min\": 0.774792099596957,\n        \"max\": 1.1199979175728245,\n        \"num_unique_values\": 2592,\n        \"samples\": [\n          1.0156830112957904,\n          0.9707763351727424,\n          1.026236868892898\n        ],\n        \"semantic_type\": \"\",\n        \"description\": \"\"\n      }\n    },\n    {\n      \"column\": \"growth_7d_y\",\n      \"properties\": {\n        \"dtype\": \"number\",\n        \"std\": 0.02635833030850009,\n        \"min\": 0.7972254730308219,\n        \"max\": 1.1207046529055147,\n        \"num_unique_values\": 2592,\n        \"samples\": [\n          1.030335206308693,\n          0.9465800151469196,\n          1.031160052943207\n        ],\n        \"semantic_type\": \"\",\n        \"description\": \"\"\n      }\n    }\n  ]\n}"
            }
          },
          "metadata": {},
          "execution_count": 50
        }
      ]
    },
    {
      "cell_type": "code",
      "source": [
        "# Rename the columns for clarity\n",
        "merged_df.rename(columns={'growth_7d_x': 'growth_7d_large', 'growth_7d_y': 'growth_7d_largest'}, inplace=True)"
      ],
      "metadata": {
        "id": "LemdSaHcpa43"
      },
      "execution_count": 51,
      "outputs": []
    },
    {
      "cell_type": "code",
      "source": [
        "#  if growth_7d_large>growth_7d_largest put one in a new column called \"Outperform\" sum \"Outperform\" and divided by 2599\n",
        "\n",
        "# Calculate the number of days when the LARGE GROUP (new smaller stocks) outperforms the LARGEST GROUP\n",
        "outperform_count = merged_df[merged_df['growth_7d_large'] > merged_df['growth_7d_largest']].shape[0]\n",
        "\n",
        "# Calculate the total number of trading days\n",
        "total_trading_days = merged_df.shape[0]\n",
        "\n",
        "# Calculate the percentage of days when the LARGE GROUP outperforms the LARGEST GROUP\n",
        "outperform_percentage = round(outperform_count / total_trading_days * 100)\n",
        "\n",
        "# Print the result\n",
        "print(f\"The LARGE GROUP outperforms the LARGEST GROUP on {outperform_percentage}% of days.\")"
      ],
      "metadata": {
        "colab": {
          "base_uri": "https://localhost:8080/"
        },
        "id": "pM4U93IXpdyf",
        "outputId": "61b0752c-8202-4efe-f03e-5c87d0bda901"
      },
      "execution_count": 52,
      "outputs": [
        {
          "output_type": "stream",
          "name": "stdout",
          "text": [
            "The LARGE GROUP outperforms the LARGEST GROUP on 47% of days.\n"
          ]
        }
      ]
    },
    {
      "cell_type": "markdown",
      "source": [
        "Question 4: Trying Another Technical Indicators strategy\n",
        "What's the total gross profit (in THOUSANDS of $) you'll get from trading on CCI (no fees assumption)?\n",
        "\n",
        "First, run the entire Colab to obtain the full DataFrame of data (after [Code Snippet 9]), and truncate it to the last full 10 years of data (2014-01-01 to 2023-12-31). If you encounter any difficulties running the Colab - you can download it using this link.\n",
        "\n",
        "Let's assume you've learned about the awesome CCI indicator (Commodity Channel Index), and decided to use only it for your operations.\n",
        "\n",
        "You defined the \"defensive\" value of a high threshould of 200, and you trade only on Fridays (Date.dt.dayofweek()==4).\n",
        "\n",
        "That is, every time you see that CCI is >200 for any stock (out of those 33), you'll invest $1000 (each record when CCI>200) at Adj.Close price and hold it for 1 week (5 trading days) in order to sell at the Adj. Close price.\n",
        "\n",
        "What's the expected gross profit (no fees) that you get in THOUSANDS\n",
        "1000 and received\n",
        "10 to gross profit, if you received\n",
        "20 to gross profit. You need to sum these results over all trades (460 times in 10 years).\n",
        "\n",
        "Additional:\n",
        "\n",
        "Add an approximate fees calculation over the 460 trades from this calculator https://www.degiro.ie/fees/calculator (Product:\"Shares, USA and Canada;\" Amount per transaction: \"1000 EUR\"; Transactions per year: \"460\")\n",
        "are you still profitable on those trades?"
      ],
      "metadata": {
        "id": "IezVp72LqTEu"
      }
    },
    {
      "cell_type": "code",
      "source": [
        "m16 = pd.read_parquet(f\"stocks_df_combined_trunc_2014_2023.parquet.brotli\")"
      ],
      "metadata": {
        "id": "rElW8gdqphLa"
      },
      "execution_count": 55,
      "outputs": []
    },
    {
      "cell_type": "code",
      "source": [
        "m17= m16[['Date','Adj Close_x','Ticker','cci','Weekday']].copy()\n",
        "m17['gross profit']=0\n",
        "m17.reset_index(inplace=True)\n",
        "m17=m17.drop(labels='index',axis=1)\n",
        "m17.loc[0,'gross_profit']=1000\n",
        "m17"
      ],
      "metadata": {
        "colab": {
          "base_uri": "https://localhost:8080/",
          "height": 423
        },
        "id": "STvruFrWqXuG",
        "outputId": "6fa9d724-8156-4a71-b463-f181ad6c56e6"
      },
      "execution_count": 56,
      "outputs": [
        {
          "output_type": "execute_result",
          "data": {
            "text/plain": [
              "            Date  Adj Close_x Ticker         cci  Weekday  gross profit  \\\n",
              "0     2014-01-02    31.233059   MSFT   57.700615        3             0   \n",
              "1     2014-01-03    31.022930   MSFT    1.373763        4             0   \n",
              "2     2014-01-06    30.367352   MSFT  -96.631259        0             0   \n",
              "3     2014-01-07    30.602673   MSFT  -83.904297        1             0   \n",
              "4     2014-01-08    30.056356   MSFT -147.855135        2             0   \n",
              "...          ...          ...    ...         ...      ...           ...   \n",
              "80757 2023-12-22  3477.949951  LT.NS   70.767162        4             0   \n",
              "80758 2023-12-26  3490.050049  LT.NS   99.598220        1             0   \n",
              "80759 2023-12-27  3544.000000  LT.NS  130.401152        2             0   \n",
              "80760 2023-12-28  3518.050049  LT.NS  106.774509        3             0   \n",
              "80761 2023-12-29  3526.000000  LT.NS   87.014290        4             0   \n",
              "\n",
              "       gross_profit  \n",
              "0            1000.0  \n",
              "1               NaN  \n",
              "2               NaN  \n",
              "3               NaN  \n",
              "4               NaN  \n",
              "...             ...  \n",
              "80757           NaN  \n",
              "80758           NaN  \n",
              "80759           NaN  \n",
              "80760           NaN  \n",
              "80761           NaN  \n",
              "\n",
              "[80762 rows x 7 columns]"
            ],
            "text/html": [
              "\n",
              "  <div id=\"df-22c331ed-0315-423e-ba82-654360964071\" class=\"colab-df-container\">\n",
              "    <div>\n",
              "<style scoped>\n",
              "    .dataframe tbody tr th:only-of-type {\n",
              "        vertical-align: middle;\n",
              "    }\n",
              "\n",
              "    .dataframe tbody tr th {\n",
              "        vertical-align: top;\n",
              "    }\n",
              "\n",
              "    .dataframe thead th {\n",
              "        text-align: right;\n",
              "    }\n",
              "</style>\n",
              "<table border=\"1\" class=\"dataframe\">\n",
              "  <thead>\n",
              "    <tr style=\"text-align: right;\">\n",
              "      <th></th>\n",
              "      <th>Date</th>\n",
              "      <th>Adj Close_x</th>\n",
              "      <th>Ticker</th>\n",
              "      <th>cci</th>\n",
              "      <th>Weekday</th>\n",
              "      <th>gross profit</th>\n",
              "      <th>gross_profit</th>\n",
              "    </tr>\n",
              "  </thead>\n",
              "  <tbody>\n",
              "    <tr>\n",
              "      <th>0</th>\n",
              "      <td>2014-01-02</td>\n",
              "      <td>31.233059</td>\n",
              "      <td>MSFT</td>\n",
              "      <td>57.700615</td>\n",
              "      <td>3</td>\n",
              "      <td>0</td>\n",
              "      <td>1000.0</td>\n",
              "    </tr>\n",
              "    <tr>\n",
              "      <th>1</th>\n",
              "      <td>2014-01-03</td>\n",
              "      <td>31.022930</td>\n",
              "      <td>MSFT</td>\n",
              "      <td>1.373763</td>\n",
              "      <td>4</td>\n",
              "      <td>0</td>\n",
              "      <td>NaN</td>\n",
              "    </tr>\n",
              "    <tr>\n",
              "      <th>2</th>\n",
              "      <td>2014-01-06</td>\n",
              "      <td>30.367352</td>\n",
              "      <td>MSFT</td>\n",
              "      <td>-96.631259</td>\n",
              "      <td>0</td>\n",
              "      <td>0</td>\n",
              "      <td>NaN</td>\n",
              "    </tr>\n",
              "    <tr>\n",
              "      <th>3</th>\n",
              "      <td>2014-01-07</td>\n",
              "      <td>30.602673</td>\n",
              "      <td>MSFT</td>\n",
              "      <td>-83.904297</td>\n",
              "      <td>1</td>\n",
              "      <td>0</td>\n",
              "      <td>NaN</td>\n",
              "    </tr>\n",
              "    <tr>\n",
              "      <th>4</th>\n",
              "      <td>2014-01-08</td>\n",
              "      <td>30.056356</td>\n",
              "      <td>MSFT</td>\n",
              "      <td>-147.855135</td>\n",
              "      <td>2</td>\n",
              "      <td>0</td>\n",
              "      <td>NaN</td>\n",
              "    </tr>\n",
              "    <tr>\n",
              "      <th>...</th>\n",
              "      <td>...</td>\n",
              "      <td>...</td>\n",
              "      <td>...</td>\n",
              "      <td>...</td>\n",
              "      <td>...</td>\n",
              "      <td>...</td>\n",
              "      <td>...</td>\n",
              "    </tr>\n",
              "    <tr>\n",
              "      <th>80757</th>\n",
              "      <td>2023-12-22</td>\n",
              "      <td>3477.949951</td>\n",
              "      <td>LT.NS</td>\n",
              "      <td>70.767162</td>\n",
              "      <td>4</td>\n",
              "      <td>0</td>\n",
              "      <td>NaN</td>\n",
              "    </tr>\n",
              "    <tr>\n",
              "      <th>80758</th>\n",
              "      <td>2023-12-26</td>\n",
              "      <td>3490.050049</td>\n",
              "      <td>LT.NS</td>\n",
              "      <td>99.598220</td>\n",
              "      <td>1</td>\n",
              "      <td>0</td>\n",
              "      <td>NaN</td>\n",
              "    </tr>\n",
              "    <tr>\n",
              "      <th>80759</th>\n",
              "      <td>2023-12-27</td>\n",
              "      <td>3544.000000</td>\n",
              "      <td>LT.NS</td>\n",
              "      <td>130.401152</td>\n",
              "      <td>2</td>\n",
              "      <td>0</td>\n",
              "      <td>NaN</td>\n",
              "    </tr>\n",
              "    <tr>\n",
              "      <th>80760</th>\n",
              "      <td>2023-12-28</td>\n",
              "      <td>3518.050049</td>\n",
              "      <td>LT.NS</td>\n",
              "      <td>106.774509</td>\n",
              "      <td>3</td>\n",
              "      <td>0</td>\n",
              "      <td>NaN</td>\n",
              "    </tr>\n",
              "    <tr>\n",
              "      <th>80761</th>\n",
              "      <td>2023-12-29</td>\n",
              "      <td>3526.000000</td>\n",
              "      <td>LT.NS</td>\n",
              "      <td>87.014290</td>\n",
              "      <td>4</td>\n",
              "      <td>0</td>\n",
              "      <td>NaN</td>\n",
              "    </tr>\n",
              "  </tbody>\n",
              "</table>\n",
              "<p>80762 rows × 7 columns</p>\n",
              "</div>\n",
              "    <div class=\"colab-df-buttons\">\n",
              "\n",
              "  <div class=\"colab-df-container\">\n",
              "    <button class=\"colab-df-convert\" onclick=\"convertToInteractive('df-22c331ed-0315-423e-ba82-654360964071')\"\n",
              "            title=\"Convert this dataframe to an interactive table.\"\n",
              "            style=\"display:none;\">\n",
              "\n",
              "  <svg xmlns=\"http://www.w3.org/2000/svg\" height=\"24px\" viewBox=\"0 -960 960 960\">\n",
              "    <path d=\"M120-120v-720h720v720H120Zm60-500h600v-160H180v160Zm220 220h160v-160H400v160Zm0 220h160v-160H400v160ZM180-400h160v-160H180v160Zm440 0h160v-160H620v160ZM180-180h160v-160H180v160Zm440 0h160v-160H620v160Z\"/>\n",
              "  </svg>\n",
              "    </button>\n",
              "\n",
              "  <style>\n",
              "    .colab-df-container {\n",
              "      display:flex;\n",
              "      gap: 12px;\n",
              "    }\n",
              "\n",
              "    .colab-df-convert {\n",
              "      background-color: #E8F0FE;\n",
              "      border: none;\n",
              "      border-radius: 50%;\n",
              "      cursor: pointer;\n",
              "      display: none;\n",
              "      fill: #1967D2;\n",
              "      height: 32px;\n",
              "      padding: 0 0 0 0;\n",
              "      width: 32px;\n",
              "    }\n",
              "\n",
              "    .colab-df-convert:hover {\n",
              "      background-color: #E2EBFA;\n",
              "      box-shadow: 0px 1px 2px rgba(60, 64, 67, 0.3), 0px 1px 3px 1px rgba(60, 64, 67, 0.15);\n",
              "      fill: #174EA6;\n",
              "    }\n",
              "\n",
              "    .colab-df-buttons div {\n",
              "      margin-bottom: 4px;\n",
              "    }\n",
              "\n",
              "    [theme=dark] .colab-df-convert {\n",
              "      background-color: #3B4455;\n",
              "      fill: #D2E3FC;\n",
              "    }\n",
              "\n",
              "    [theme=dark] .colab-df-convert:hover {\n",
              "      background-color: #434B5C;\n",
              "      box-shadow: 0px 1px 3px 1px rgba(0, 0, 0, 0.15);\n",
              "      filter: drop-shadow(0px 1px 2px rgba(0, 0, 0, 0.3));\n",
              "      fill: #FFFFFF;\n",
              "    }\n",
              "  </style>\n",
              "\n",
              "    <script>\n",
              "      const buttonEl =\n",
              "        document.querySelector('#df-22c331ed-0315-423e-ba82-654360964071 button.colab-df-convert');\n",
              "      buttonEl.style.display =\n",
              "        google.colab.kernel.accessAllowed ? 'block' : 'none';\n",
              "\n",
              "      async function convertToInteractive(key) {\n",
              "        const element = document.querySelector('#df-22c331ed-0315-423e-ba82-654360964071');\n",
              "        const dataTable =\n",
              "          await google.colab.kernel.invokeFunction('convertToInteractive',\n",
              "                                                    [key], {});\n",
              "        if (!dataTable) return;\n",
              "\n",
              "        const docLinkHtml = 'Like what you see? Visit the ' +\n",
              "          '<a target=\"_blank\" href=https://colab.research.google.com/notebooks/data_table.ipynb>data table notebook</a>'\n",
              "          + ' to learn more about interactive tables.';\n",
              "        element.innerHTML = '';\n",
              "        dataTable['output_type'] = 'display_data';\n",
              "        await google.colab.output.renderOutput(dataTable, element);\n",
              "        const docLink = document.createElement('div');\n",
              "        docLink.innerHTML = docLinkHtml;\n",
              "        element.appendChild(docLink);\n",
              "      }\n",
              "    </script>\n",
              "  </div>\n",
              "\n",
              "\n",
              "<div id=\"df-34b996ff-0427-4c3f-9834-367d1c1db367\">\n",
              "  <button class=\"colab-df-quickchart\" onclick=\"quickchart('df-34b996ff-0427-4c3f-9834-367d1c1db367')\"\n",
              "            title=\"Suggest charts\"\n",
              "            style=\"display:none;\">\n",
              "\n",
              "<svg xmlns=\"http://www.w3.org/2000/svg\" height=\"24px\"viewBox=\"0 0 24 24\"\n",
              "     width=\"24px\">\n",
              "    <g>\n",
              "        <path d=\"M19 3H5c-1.1 0-2 .9-2 2v14c0 1.1.9 2 2 2h14c1.1 0 2-.9 2-2V5c0-1.1-.9-2-2-2zM9 17H7v-7h2v7zm4 0h-2V7h2v10zm4 0h-2v-4h2v4z\"/>\n",
              "    </g>\n",
              "</svg>\n",
              "  </button>\n",
              "\n",
              "<style>\n",
              "  .colab-df-quickchart {\n",
              "      --bg-color: #E8F0FE;\n",
              "      --fill-color: #1967D2;\n",
              "      --hover-bg-color: #E2EBFA;\n",
              "      --hover-fill-color: #174EA6;\n",
              "      --disabled-fill-color: #AAA;\n",
              "      --disabled-bg-color: #DDD;\n",
              "  }\n",
              "\n",
              "  [theme=dark] .colab-df-quickchart {\n",
              "      --bg-color: #3B4455;\n",
              "      --fill-color: #D2E3FC;\n",
              "      --hover-bg-color: #434B5C;\n",
              "      --hover-fill-color: #FFFFFF;\n",
              "      --disabled-bg-color: #3B4455;\n",
              "      --disabled-fill-color: #666;\n",
              "  }\n",
              "\n",
              "  .colab-df-quickchart {\n",
              "    background-color: var(--bg-color);\n",
              "    border: none;\n",
              "    border-radius: 50%;\n",
              "    cursor: pointer;\n",
              "    display: none;\n",
              "    fill: var(--fill-color);\n",
              "    height: 32px;\n",
              "    padding: 0;\n",
              "    width: 32px;\n",
              "  }\n",
              "\n",
              "  .colab-df-quickchart:hover {\n",
              "    background-color: var(--hover-bg-color);\n",
              "    box-shadow: 0 1px 2px rgba(60, 64, 67, 0.3), 0 1px 3px 1px rgba(60, 64, 67, 0.15);\n",
              "    fill: var(--button-hover-fill-color);\n",
              "  }\n",
              "\n",
              "  .colab-df-quickchart-complete:disabled,\n",
              "  .colab-df-quickchart-complete:disabled:hover {\n",
              "    background-color: var(--disabled-bg-color);\n",
              "    fill: var(--disabled-fill-color);\n",
              "    box-shadow: none;\n",
              "  }\n",
              "\n",
              "  .colab-df-spinner {\n",
              "    border: 2px solid var(--fill-color);\n",
              "    border-color: transparent;\n",
              "    border-bottom-color: var(--fill-color);\n",
              "    animation:\n",
              "      spin 1s steps(1) infinite;\n",
              "  }\n",
              "\n",
              "  @keyframes spin {\n",
              "    0% {\n",
              "      border-color: transparent;\n",
              "      border-bottom-color: var(--fill-color);\n",
              "      border-left-color: var(--fill-color);\n",
              "    }\n",
              "    20% {\n",
              "      border-color: transparent;\n",
              "      border-left-color: var(--fill-color);\n",
              "      border-top-color: var(--fill-color);\n",
              "    }\n",
              "    30% {\n",
              "      border-color: transparent;\n",
              "      border-left-color: var(--fill-color);\n",
              "      border-top-color: var(--fill-color);\n",
              "      border-right-color: var(--fill-color);\n",
              "    }\n",
              "    40% {\n",
              "      border-color: transparent;\n",
              "      border-right-color: var(--fill-color);\n",
              "      border-top-color: var(--fill-color);\n",
              "    }\n",
              "    60% {\n",
              "      border-color: transparent;\n",
              "      border-right-color: var(--fill-color);\n",
              "    }\n",
              "    80% {\n",
              "      border-color: transparent;\n",
              "      border-right-color: var(--fill-color);\n",
              "      border-bottom-color: var(--fill-color);\n",
              "    }\n",
              "    90% {\n",
              "      border-color: transparent;\n",
              "      border-bottom-color: var(--fill-color);\n",
              "    }\n",
              "  }\n",
              "</style>\n",
              "\n",
              "  <script>\n",
              "    async function quickchart(key) {\n",
              "      const quickchartButtonEl =\n",
              "        document.querySelector('#' + key + ' button');\n",
              "      quickchartButtonEl.disabled = true;  // To prevent multiple clicks.\n",
              "      quickchartButtonEl.classList.add('colab-df-spinner');\n",
              "      try {\n",
              "        const charts = await google.colab.kernel.invokeFunction(\n",
              "            'suggestCharts', [key], {});\n",
              "      } catch (error) {\n",
              "        console.error('Error during call to suggestCharts:', error);\n",
              "      }\n",
              "      quickchartButtonEl.classList.remove('colab-df-spinner');\n",
              "      quickchartButtonEl.classList.add('colab-df-quickchart-complete');\n",
              "    }\n",
              "    (() => {\n",
              "      let quickchartButtonEl =\n",
              "        document.querySelector('#df-34b996ff-0427-4c3f-9834-367d1c1db367 button');\n",
              "      quickchartButtonEl.style.display =\n",
              "        google.colab.kernel.accessAllowed ? 'block' : 'none';\n",
              "    })();\n",
              "  </script>\n",
              "</div>\n",
              "    </div>\n",
              "  </div>\n"
            ],
            "application/vnd.google.colaboratory.intrinsic+json": {
              "type": "dataframe",
              "variable_name": "m17",
              "summary": "{\n  \"name\": \"m17\",\n  \"rows\": 80762,\n  \"fields\": [\n    {\n      \"column\": \"Date\",\n      \"properties\": {\n        \"dtype\": \"date\",\n        \"min\": \"2014-01-01 00:00:00\",\n        \"max\": \"2023-12-29 00:00:00\",\n        \"num_unique_values\": 2595,\n        \"samples\": [\n          \"2014-11-03 00:00:00\",\n          \"2022-06-07 00:00:00\",\n          \"2020-11-27 00:00:00\"\n        ],\n        \"semantic_type\": \"\",\n        \"description\": \"\"\n      }\n    },\n    {\n      \"column\": \"Adj Close_x\",\n      \"properties\": {\n        \"dtype\": \"number\",\n        \"std\": 556.9007558702737,\n        \"min\": 3.6226232051849365,\n        \"max\": 3843.19189453125,\n        \"num_unique_values\": 75003,\n        \"samples\": [\n          24.618900299072266,\n          22.547260284423828,\n          687.1704711914062\n        ],\n        \"semantic_type\": \"\",\n        \"description\": \"\"\n      }\n    },\n    {\n      \"column\": \"Ticker\",\n      \"properties\": {\n        \"dtype\": \"category\",\n        \"num_unique_values\": 33,\n        \"samples\": [\n          \"HINDUNILVR.NS\",\n          \"OR.PA\",\n          \"IBN\"\n        ],\n        \"semantic_type\": \"\",\n        \"description\": \"\"\n      }\n    },\n    {\n      \"column\": \"cci\",\n      \"properties\": {\n        \"dtype\": \"number\",\n        \"std\": 108.3137472426569,\n        \"min\": -435.2892748170835,\n        \"max\": 458.9151019948647,\n        \"num_unique_values\": 80749,\n        \"samples\": [\n          153.23280192982864,\n          340.0271212694879,\n          155.20053366270113\n        ],\n        \"semantic_type\": \"\",\n        \"description\": \"\"\n      }\n    },\n    {\n      \"column\": \"Weekday\",\n      \"properties\": {\n        \"dtype\": \"int32\",\n        \"num_unique_values\": 7,\n        \"samples\": [\n          3,\n          4,\n          6\n        ],\n        \"semantic_type\": \"\",\n        \"description\": \"\"\n      }\n    },\n    {\n      \"column\": \"gross profit\",\n      \"properties\": {\n        \"dtype\": \"number\",\n        \"std\": 0,\n        \"min\": 0,\n        \"max\": 0,\n        \"num_unique_values\": 1,\n        \"samples\": [\n          0\n        ],\n        \"semantic_type\": \"\",\n        \"description\": \"\"\n      }\n    },\n    {\n      \"column\": \"gross_profit\",\n      \"properties\": {\n        \"dtype\": \"number\",\n        \"std\": null,\n        \"min\": 1000.0,\n        \"max\": 1000.0,\n        \"num_unique_values\": 1,\n        \"samples\": [\n          1000.0\n        ],\n        \"semantic_type\": \"\",\n        \"description\": \"\"\n      }\n    }\n  ]\n}"
            }
          },
          "metadata": {},
          "execution_count": 56
        }
      ]
    },
    {
      "cell_type": "code",
      "source": [
        "m17['buy']=0\n",
        "m17.loc[(m17['cci']>200) & (m17['Weekday']==4),'buy']=1\n",
        "m17['buy'].sum()"
      ],
      "metadata": {
        "colab": {
          "base_uri": "https://localhost:8080/"
        },
        "id": "rwaqXRwero4h",
        "outputId": "6cb9d698-dbbe-46a2-fad6-1bee728fe03f"
      },
      "execution_count": 57,
      "outputs": [
        {
          "output_type": "execute_result",
          "data": {
            "text/plain": [
              "460"
            ]
          },
          "metadata": {},
          "execution_count": 57
        }
      ]
    },
    {
      "cell_type": "code",
      "source": [
        "lst_buy=list(m17.loc[m17['buy']==1].index)\n",
        "\n",
        "on_trade= 0\n",
        "idx_trade = 0\n",
        "price_in=0\n",
        "profit = 1000\n",
        "ticker= m17.iloc[0]['Ticker']\n",
        "operation_counter = 0\n",
        "t1=time.time()\n",
        "m17['gross_profit2']=np.NaN\n",
        "\n",
        "for idx in lst_buy:\n",
        "  idx_trade=idx\n",
        "  on_trade = 1\n",
        "  price_in =m17.iloc[idx]['Adj Close_x']\n",
        "  ticker=m17.iloc[idx]['Ticker']\n",
        "  # print(idx,profit)\n",
        "  for jdx in range(idx,m17.shape[0]):\n",
        "    if on_trade ==1 and idx_trade+5==jdx  and m17.iloc[jdx]['Ticker'] == ticker:\n",
        "      price_out= m17.iloc[jdx]['Adj Close_x']\n",
        "      on_trade = 0\n",
        "      profit = price_out/price_in*profit\n",
        "      operation_counter+=1\n",
        "      m17.loc[m17.iloc[jdx].name,'gross_profit2']=profit\n",
        "      break\n",
        "    elif (not m17.iloc[jdx]['Ticker'] == ticker) and on_trade ==1:\n",
        "      price_out= m17.iloc[jdx-1]['Adj Close_x']\n",
        "      on_trade = 0\n",
        "      profit = price_out/price_in*profit\n",
        "      # print(f\" pout{price_out} pin {price_in} {profit}\")\n",
        "      operation_counter+=1\n",
        "      m17.loc[m17.iloc[jdx].name,'gross_profit2']=profit\n",
        "      break"
      ],
      "metadata": {
        "id": "Ata4JpwprrCV"
      },
      "execution_count": 58,
      "outputs": []
    },
    {
      "cell_type": "code",
      "source": [
        "print(f\"The number of operations is {operation_counter}, the time enlapsed is {time.time()-t1:.2f}, and the profit final {profit/1000:.0f}$ thousand \")"
      ],
      "metadata": {
        "colab": {
          "base_uri": "https://localhost:8080/"
        },
        "id": "jQnrK5etruRx",
        "outputId": "0500238f-c44d-4b31-e077-ba254b10113e"
      },
      "execution_count": 59,
      "outputs": [
        {
          "output_type": "stream",
          "name": "stdout",
          "text": [
            "The number of operations is 460, the time enlapsed is 11.79, and the profit final 2$ thousand \n"
          ]
        }
      ]
    },
    {
      "cell_type": "markdown",
      "source": [
        "**Question 5**\n",
        "Sector Focus:\n",
        "\n",
        "1: Analyze historical IPO performance by sector (technology, healthcare, industrials, etc.). Look for sectors with consistently higher returns. Public news, sector-specific publications, and market analysis websites provide this data.\n",
        "Why: Different sectors have varying risk profiles and growth potential. Focusing on sectors with favorable trends increases your chances of success.\n",
        "Company Fundamentals:\n",
        "\n",
        "2: Scrutinize the company's prospectus (available on sites like the SEC's EDGAR database):\n",
        "Growth potential: Revenue growth, profit margins, market size, addressable market.\n",
        "Financial Health: Debt levels, cash flow, and profitability.\n",
        "Management: Experience of management team, track record of previous ventures.\n",
        "Why: Strong fundamentals indicate the company's ability to perform well in the long term, even after the initial IPO hype fades.\n",
        "Underwriter Reputation:\n",
        "\n",
        "3: Look at the historical performance of IPOs underwritten by specific investment banks. This information is available on financial websites and IPO databases\n",
        "Why: Reputable underwriters have a track record of bringing successful companies to market and accurately pricing IPOs.\n",
        "Valuation and Market Sentiment:\n",
        "\n",
        "4: Consider the IPO's valuation compared to similar, publicly traded companies. Look for overvaluation red flags. Assess overall market sentiment through financial news and economic indicators.\n",
        "Why: Investing in overvalued IPOs increases your risk, while favorable market sentiment can boost returns.\n",
        "Post-IPO Lockup Period:\n",
        "\n",
        "5: Be mindful of the lockup period (when company insiders are restricted from selling shares), usually around 180 days.\n",
        "Why: A significant drop in share price after the lockup period expires could signal insider pessimism about the company's future.\n",
        "Important Considerations:\n",
        "\n",
        "Diversify: Don't pour everything into a single IPO. Spread your investments across promising candidates.\n",
        "Don't chase hype: IPOs can be heavily marketed. Focus on the fundamental data, not just the buzz.\n",
        "Long-term perspective: IPOs can be volatile in the short term. Consider a longer investment horizon."
      ],
      "metadata": {
        "id": "ePdD4YFXsErl"
      }
    },
    {
      "cell_type": "code",
      "source": [
        ""
      ],
      "metadata": {
        "id": "4UQato7trxJR"
      },
      "execution_count": null,
      "outputs": []
    }
  ]
}